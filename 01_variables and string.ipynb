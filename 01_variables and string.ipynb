{
 "cells": [
  {
   "cell_type": "markdown",
   "id": "4c457f22",
   "metadata": {},
   "source": [
    "# Writting your first program\n",
    "\n",
    "**Note**: This cell is a markdown cell. Here you can write text. This is not interpreted as python code."
   ]
  },
  {
   "cell_type": "code",
   "execution_count": 2,
   "id": "a85a967b",
   "metadata": {},
   "outputs": [
    {
     "name": "stdout",
     "output_type": "stream",
     "text": [
      "hello world\n"
     ]
    }
   ],
   "source": [
    "print(\"hello world\")"
   ]
  },
  {
   "cell_type": "markdown",
   "id": "6e28e89c",
   "metadata": {},
   "source": [
    "# Variables and types"
   ]
  },
  {
   "cell_type": "markdown",
   "id": "1e81d5b3",
   "metadata": {},
   "source": [
    "## Variables\n",
    "\n",
    "Variables: Where you store something. In the below example:\n",
    "```python\n",
    "a = 10\n",
    "```\n",
    "a is the variable here which stores the value 10. \n",
    "\n",
    "Study marterials:\n",
    "1. [Simple exercise](https://www.pythontutorial.net/python-basics/python-variables/) in this article\n",
    "2. video (6mins): [Exercise on variables in this video](https://www.youtube.com/watch?v=cQT33yu9pY8)\n",
    "\n",
    "Similarly we can store many variables as show below:"
   ]
  },
  {
   "cell_type": "code",
   "execution_count": 4,
   "id": "19b27b3e",
   "metadata": {},
   "outputs": [
    {
     "name": "stdout",
     "output_type": "stream",
     "text": [
      "1\n",
      "hello\n",
      "10000000000.0\n",
      "1.564\n"
     ]
    }
   ],
   "source": [
    "a = 1 # int\n",
    "b = \"hello\" # string\n",
    "c = 1e10 # scientific\n",
    "d = 1.564 # float\n",
    "\n",
    "print(a)\n",
    "print(b)\n",
    "print(c)\n",
    "print(d)"
   ]
  },
  {
   "cell_type": "markdown",
   "id": "3b90c25f",
   "metadata": {},
   "source": [
    "Points to remember:\n",
    "\n",
    "1. variable is storage address of the value in the computer memory"
   ]
  },
  {
   "cell_type": "markdown",
   "id": "991c7374",
   "metadata": {},
   "source": [
    "## Variable types\n",
    "\n",
    "- interger denoted as `int`\n",
    "- string denoted as `str`\n",
    "- Float denoted as `float`\n",
    "- boolean denoted as `bool`\n",
    "\n",
    "For single line commenting in python code use '#'"
   ]
  },
  {
   "cell_type": "code",
   "execution_count": 1,
   "id": "7d86688f",
   "metadata": {},
   "outputs": [],
   "source": [
    "a = 1 # int\n",
    "b = \"hello\" # string\n",
    "c = 1e10 # scientific\n",
    "d = 1.564 # float"
   ]
  },
  {
   "cell_type": "markdown",
   "id": "96178f4b",
   "metadata": {},
   "source": [
    "To know the type of the variable:"
   ]
  },
  {
   "cell_type": "code",
   "execution_count": 2,
   "id": "97429145",
   "metadata": {},
   "outputs": [
    {
     "data": {
      "text/plain": [
       "int"
      ]
     },
     "execution_count": 2,
     "metadata": {},
     "output_type": "execute_result"
    }
   ],
   "source": [
    "type(a)"
   ]
  },
  {
   "cell_type": "code",
   "execution_count": 4,
   "id": "cdf0f8cf",
   "metadata": {},
   "outputs": [
    {
     "name": "stdout",
     "output_type": "stream",
     "text": [
      "True False\n"
     ]
    }
   ],
   "source": [
    "## boolean\n",
    "print(True, False)"
   ]
  },
  {
   "cell_type": "code",
   "execution_count": 6,
   "id": "824ebbed",
   "metadata": {},
   "outputs": [
    {
     "data": {
      "text/plain": [
       "False"
      ]
     },
     "execution_count": 6,
     "metadata": {},
     "output_type": "execute_result"
    }
   ],
   "source": [
    "bool(0)"
   ]
  },
  {
   "cell_type": "markdown",
   "id": "8ab38f4d",
   "metadata": {},
   "source": [
    "## Basic operators\n",
    "\n",
    "\n",
    "The important operator are:\n",
    "\n",
    "1. Arithmetic Operators are used in performing mathematical operations such as Addition, Subtraction, Multiplication, Division, Modulus, Floor Division, and Exponent.\n",
    "\n",
    "![](https://miro.medium.com/max/700/1*CnFBU56b1HIsg2atttE_-Q.png)\n",
    "\n",
    "2. Relational operators\n",
    "3. Logical operators\n",
    "4. Assignment operators\n",
    "5. Identidy operators\n",
    "6. Membership operators\n",
    "\n",
    "So far we have covered only the arithmetic operators. We will in subsequent classes explore other types as well.\n",
    "\n",
    "To know more about operators you can go through this [article](https://towardsdatascience.com/python-operators-from-scratch-a-beginners-guide-8471306f4278). "
   ]
  },
  {
   "cell_type": "markdown",
   "id": "3aafa87a",
   "metadata": {},
   "source": [
    "### Arithmetic operators"
   ]
  },
  {
   "cell_type": "code",
   "execution_count": 5,
   "id": "a7ccae84",
   "metadata": {},
   "outputs": [
    {
     "name": "stdout",
     "output_type": "stream",
     "text": [
      "<class 'int'>\n",
      "3\n"
     ]
    }
   ],
   "source": [
    "a =1\n",
    "b =2\n",
    "a+b\n",
    "c=3\n",
    "print(type(c))\n",
    "print(c)"
   ]
  },
  {
   "cell_type": "markdown",
   "id": "f480db16",
   "metadata": {},
   "source": [
    "We can also multiply an integer with string to make it repeat itself N times"
   ]
  },
  {
   "cell_type": "code",
   "execution_count": 7,
   "id": "6cf4c657",
   "metadata": {},
   "outputs": [
    {
     "data": {
      "text/plain": [
       "'hellohellohello'"
      ]
     },
     "execution_count": 7,
     "metadata": {},
     "output_type": "execute_result"
    }
   ],
   "source": [
    "b = \"hello\" # string\n",
    "b*3"
   ]
  },
  {
   "cell_type": "markdown",
   "id": "b005d08e",
   "metadata": {},
   "source": [
    "But if we try to multiply the string with float or add string with a number. Then it will show a type error:\n",
    "```python\n",
    "b = \"hello\" # string\n",
    "b*3\n",
    "b*d\n",
    "```\n",
    "\n",
    "output:\n",
    "```python\n",
    "---------------------------------------------------------------------------\n",
    "TypeError                                 Traceback (most recent call last)\n",
    "Input In [7], in <cell line: 1>()\n",
    "----> 1 b*d\n",
    "\n",
    "TypeError: can't multiply sequence by non-int of type 'float'\n",
    "```\n"
   ]
  },
  {
   "cell_type": "code",
   "execution_count": 2,
   "id": "90bfa22b",
   "metadata": {},
   "outputs": [
    {
     "data": {
      "text/plain": [
       "100"
      ]
     },
     "execution_count": 2,
     "metadata": {},
     "output_type": "execute_result"
    }
   ],
   "source": [
    "a =10\n",
    "a*10"
   ]
  },
  {
   "cell_type": "code",
   "execution_count": 10,
   "id": "f5daef52",
   "metadata": {},
   "outputs": [
    {
     "data": {
      "text/plain": [
       "50"
      ]
     },
     "execution_count": 10,
     "metadata": {},
     "output_type": "execute_result"
    }
   ],
   "source": [
    "a = 5\n",
    "a*10"
   ]
  },
  {
   "cell_type": "code",
   "execution_count": 14,
   "id": "81c86dbb",
   "metadata": {},
   "outputs": [
    {
     "data": {
      "text/plain": [
       "-5"
      ]
     },
     "execution_count": 14,
     "metadata": {},
     "output_type": "execute_result"
    }
   ],
   "source": [
    "a = 5\n",
    "b = 10\n",
    "a-b"
   ]
  },
  {
   "cell_type": "code",
   "execution_count": 15,
   "id": "33d04c41",
   "metadata": {},
   "outputs": [
    {
     "data": {
      "text/plain": [
       "50"
      ]
     },
     "execution_count": 15,
     "metadata": {},
     "output_type": "execute_result"
    }
   ],
   "source": [
    "a = 5\n",
    "b = 10\n",
    "a*b"
   ]
  },
  {
   "cell_type": "code",
   "execution_count": 16,
   "id": "5668bb7a",
   "metadata": {},
   "outputs": [
    {
     "data": {
      "text/plain": [
       "8"
      ]
     },
     "execution_count": 16,
     "metadata": {},
     "output_type": "execute_result"
    }
   ],
   "source": [
    "2**3"
   ]
  },
  {
   "cell_type": "code",
   "execution_count": 17,
   "id": "04aaf8de",
   "metadata": {},
   "outputs": [
    {
     "data": {
      "text/plain": [
       "100000"
      ]
     },
     "execution_count": 17,
     "metadata": {},
     "output_type": "execute_result"
    }
   ],
   "source": [
    "a = 10\n",
    "a**5"
   ]
  },
  {
   "cell_type": "markdown",
   "id": "d760118a",
   "metadata": {},
   "source": [
    "Operators on string:"
   ]
  },
  {
   "cell_type": "code",
   "execution_count": 18,
   "id": "dfd8fe06",
   "metadata": {},
   "outputs": [
    {
     "data": {
      "text/plain": [
       "'helloworld'"
      ]
     },
     "execution_count": 18,
     "metadata": {},
     "output_type": "execute_result"
    }
   ],
   "source": [
    "\"hello\" + \"world\""
   ]
  },
  {
   "cell_type": "code",
   "execution_count": 19,
   "id": "ae43070e",
   "metadata": {},
   "outputs": [
    {
     "data": {
      "text/plain": [
       "'hello world'"
      ]
     },
     "execution_count": 19,
     "metadata": {},
     "output_type": "execute_result"
    }
   ],
   "source": [
    "\"hello\"+ \" world\""
   ]
  },
  {
   "cell_type": "code",
   "execution_count": 20,
   "id": "1bc3ffca",
   "metadata": {},
   "outputs": [
    {
     "data": {
      "text/plain": [
       "'hello hello hello hello hello hello hello hello hello hello '"
      ]
     },
     "execution_count": 20,
     "metadata": {},
     "output_type": "execute_result"
    }
   ],
   "source": [
    "\"hello \"*10"
   ]
  },
  {
   "cell_type": "markdown",
   "id": "00c4bfe6",
   "metadata": {},
   "source": [
    "**Note:** You cannot add string with a number, for example:\n",
    "\n",
    "```python\n",
    "\"hello\" + 1\n",
    "```\n",
    "similary:\n",
    "\n",
    "```python\n",
    "\"1\" + 1\n",
    "```\n",
    "output will be same:\n",
    "\n",
    "```python\n",
    "TypeError: can only concatenate str (not \"int\") to str\n",
    "```\n"
   ]
  },
  {
   "cell_type": "markdown",
   "id": "56119c10",
   "metadata": {},
   "source": [
    "Converting the variables types from one type to another:"
   ]
  },
  {
   "cell_type": "code",
   "execution_count": 22,
   "id": "7c03d7fa",
   "metadata": {},
   "outputs": [
    {
     "data": {
      "text/plain": [
       "1.0"
      ]
     },
     "execution_count": 22,
     "metadata": {},
     "output_type": "execute_result"
    }
   ],
   "source": [
    "a = 1\n",
    "c = float(a)\n",
    "c"
   ]
  },
  {
   "cell_type": "code",
   "execution_count": 23,
   "id": "2864289e",
   "metadata": {},
   "outputs": [
    {
     "data": {
      "text/plain": [
       "(float, int)"
      ]
     },
     "execution_count": 23,
     "metadata": {},
     "output_type": "execute_result"
    }
   ],
   "source": [
    "type(c), type(a)"
   ]
  },
  {
   "cell_type": "code",
   "execution_count": 24,
   "id": "ba6ae269",
   "metadata": {},
   "outputs": [
    {
     "data": {
      "text/plain": [
       "float"
      ]
     },
     "execution_count": 24,
     "metadata": {},
     "output_type": "execute_result"
    }
   ],
   "source": [
    "f = 5.67845\n",
    "type(f)"
   ]
  },
  {
   "cell_type": "code",
   "execution_count": 25,
   "id": "800eac5c",
   "metadata": {},
   "outputs": [
    {
     "data": {
      "text/plain": [
       "56.7"
      ]
     },
     "execution_count": 25,
     "metadata": {},
     "output_type": "execute_result"
    }
   ],
   "source": [
    "float(str(f)[0:4])*10"
   ]
  },
  {
   "cell_type": "code",
   "execution_count": 26,
   "id": "3ea0bf8b",
   "metadata": {},
   "outputs": [
    {
     "data": {
      "text/plain": [
       "5"
      ]
     },
     "execution_count": 26,
     "metadata": {},
     "output_type": "execute_result"
    }
   ],
   "source": [
    "int(f)"
   ]
  },
  {
   "cell_type": "code",
   "execution_count": 27,
   "id": "00b4fa59",
   "metadata": {},
   "outputs": [
    {
     "data": {
      "text/plain": [
       "6"
      ]
     },
     "execution_count": 27,
     "metadata": {},
     "output_type": "execute_result"
    }
   ],
   "source": [
    "round(f)"
   ]
  },
  {
   "cell_type": "code",
   "execution_count": 28,
   "id": "74e1eb28",
   "metadata": {},
   "outputs": [
    {
     "data": {
      "text/plain": [
       "5.68"
      ]
     },
     "execution_count": 28,
     "metadata": {},
     "output_type": "execute_result"
    }
   ],
   "source": [
    "round(f,2)"
   ]
  },
  {
   "cell_type": "code",
   "execution_count": 30,
   "id": "cbd33401",
   "metadata": {},
   "outputs": [
    {
     "data": {
      "text/plain": [
       "2"
      ]
     },
     "execution_count": 30,
     "metadata": {},
     "output_type": "execute_result"
    }
   ],
   "source": [
    "int(\"1\") + 1"
   ]
  },
  {
   "cell_type": "code",
   "execution_count": 31,
   "id": "29d01310",
   "metadata": {},
   "outputs": [
    {
     "data": {
      "text/plain": [
       "2"
      ]
     },
     "execution_count": 31,
     "metadata": {},
     "output_type": "execute_result"
    }
   ],
   "source": [
    "32 % 5"
   ]
  },
  {
   "cell_type": "code",
   "execution_count": 32,
   "id": "96fb3ac2",
   "metadata": {},
   "outputs": [
    {
     "data": {
      "text/plain": [
       "6"
      ]
     },
     "execution_count": 32,
     "metadata": {},
     "output_type": "execute_result"
    }
   ],
   "source": [
    "32 // 5"
   ]
  },
  {
   "cell_type": "markdown",
   "id": "2b803356",
   "metadata": {},
   "source": [
    "## Strings\n",
    "\n",
    "Strings in python are surrounded by either single quotation marks, or double quotation marks.\n",
    "\n",
    "`'hello'` is the same as `\"hello\"`.\n",
    "\n",
    "Study materials:\n",
    "1. Simple explanation on strings in this [Article](https://www.w3schools.com/python/python_strings.asp)\n",
    "2. Read more in this [article](https://jayashree8.medium.com/understanding-python-strings-8783506a9a4a)"
   ]
  },
  {
   "cell_type": "code",
   "execution_count": 65,
   "id": "ab3cc464",
   "metadata": {},
   "outputs": [
    {
     "data": {
      "text/plain": [
       "'This is the final value 6'"
      ]
     },
     "execution_count": 65,
     "metadata": {},
     "output_type": "execute_result"
    }
   ],
   "source": [
    "value = 6\n",
    "report = \"This is the final value \" + str(value)\n",
    "report"
   ]
  },
  {
   "cell_type": "markdown",
   "id": "9b23894f",
   "metadata": {},
   "source": [
    "### String formatting\n",
    "\n",
    "Placeholders:\n",
    "- %s : string\n",
    "- %d : number\n",
    "- %f : float, %.2f\n"
   ]
  },
  {
   "cell_type": "code",
   "execution_count": 76,
   "id": "48f71f97",
   "metadata": {},
   "outputs": [
    {
     "data": {
      "text/plain": [
       "'This is the final value 3.'"
      ]
     },
     "execution_count": 76,
     "metadata": {},
     "output_type": "execute_result"
    }
   ],
   "source": [
    "\"This is the final value %d.\" % 3"
   ]
  },
  {
   "cell_type": "code",
   "execution_count": 77,
   "id": "7b82d0a8",
   "metadata": {},
   "outputs": [
    {
     "data": {
      "text/plain": [
       "'This is the final value your name.'"
      ]
     },
     "execution_count": 77,
     "metadata": {},
     "output_type": "execute_result"
    }
   ],
   "source": [
    "name = \"your name\"\n",
    "\"This is the final value %s.\" % name"
   ]
  },
  {
   "cell_type": "code",
   "execution_count": 78,
   "id": "a1e86c28",
   "metadata": {},
   "outputs": [
    {
     "data": {
      "text/plain": [
       "'This is the final value 6. And another value is 3.537'"
      ]
     },
     "execution_count": 78,
     "metadata": {},
     "output_type": "execute_result"
    }
   ],
   "source": [
    "calc = 3.53675467\n",
    "\"This is the final value %d. And another value is %.3f\" % (value, calc)"
   ]
  },
  {
   "cell_type": "markdown",
   "id": "435f6c7c",
   "metadata": {},
   "source": [
    "### String methods\n",
    "\n",
    "By default every string object in python has in-built functions. With those functions we can manupulate the strings:\n",
    "\n",
    "![](https://miro.medium.com/max/473/1*b0qeZYW-2MeEbG-lSbDogA.gif)\n",
    "\n",
    "- Here is a very good [Article](https://towardsdatascience.com/15-must-know-python-string-methods-64a4f554941b) on python string methods. You can practice from here. \n",
    "- Here is a [list](https://www.w3schools.com/python/python_strings_methods.asp) of methods of python string object\n"
   ]
  },
  {
   "cell_type": "code",
   "execution_count": 91,
   "id": "263aaf55",
   "metadata": {},
   "outputs": [
    {
     "name": "stdout",
     "output_type": "stream",
     "text": [
      "This is a SAmple text \n",
      " This is a new line\n"
     ]
    }
   ],
   "source": [
    "text = \"This is a SAmple text \\n This is a new line\"\n",
    "text2 = \"This is a SAmple text    \"\n",
    "print(text)"
   ]
  },
  {
   "cell_type": "code",
   "execution_count": 92,
   "id": "32dfab0c",
   "metadata": {
    "scrolled": false
   },
   "outputs": [
    {
     "data": {
      "text/plain": [
       "'this is a sample text    '"
      ]
     },
     "execution_count": 92,
     "metadata": {},
     "output_type": "execute_result"
    }
   ],
   "source": [
    "text2.lower()"
   ]
  },
  {
   "cell_type": "code",
   "execution_count": 93,
   "id": "19782608",
   "metadata": {
    "scrolled": true
   },
   "outputs": [
    {
     "data": {
      "text/plain": [
       "'THIS IS A SAMPLE TEXT    '"
      ]
     },
     "execution_count": 93,
     "metadata": {},
     "output_type": "execute_result"
    }
   ],
   "source": [
    "text2.upper()"
   ]
  },
  {
   "cell_type": "code",
   "execution_count": 94,
   "id": "9b6b2fc3",
   "metadata": {},
   "outputs": [
    {
     "data": {
      "text/plain": [
       "'This is a SAmple text'"
      ]
     },
     "execution_count": 94,
     "metadata": {},
     "output_type": "execute_result"
    }
   ],
   "source": [
    "text2.strip()"
   ]
  },
  {
   "cell_type": "code",
   "execution_count": 95,
   "id": "6afed22b",
   "metadata": {},
   "outputs": [
    {
     "data": {
      "text/plain": [
       "False"
      ]
     },
     "execution_count": 95,
     "metadata": {},
     "output_type": "execute_result"
    }
   ],
   "source": [
    "text.startswith(\"t\")"
   ]
  },
  {
   "cell_type": "code",
   "execution_count": 96,
   "id": "03513d84",
   "metadata": {},
   "outputs": [
    {
     "data": {
      "text/plain": [
       "True"
      ]
     },
     "execution_count": 96,
     "metadata": {},
     "output_type": "execute_result"
    }
   ],
   "source": [
    "text.startswith(\"T\")"
   ]
  },
  {
   "cell_type": "code",
   "execution_count": 99,
   "id": "70ceba40",
   "metadata": {},
   "outputs": [
    {
     "name": "stdout",
     "output_type": "stream",
     "text": [
      "<class 'list'>\n",
      "['1', '3', '4', '5', '6', '7']\n"
     ]
    }
   ],
   "source": [
    "csv_values = \"1,3,4,5,6,7\"\n",
    "list1 = csv_values.split(\",\")\n",
    "print(type(list1))\n",
    "print(list1)"
   ]
  },
  {
   "cell_type": "code",
   "execution_count": 103,
   "id": "ff0cc3ed",
   "metadata": {},
   "outputs": [
    {
     "name": "stdout",
     "output_type": "stream",
     "text": [
      "<class 'str'>\n",
      "1,3,4,5,6,7\n"
     ]
    }
   ],
   "source": [
    "value = \",\".join(list1)\n",
    "print(type(value))\n",
    "print(value)"
   ]
  },
  {
   "cell_type": "markdown",
   "id": "23d8009d",
   "metadata": {},
   "source": [
    "# Markdown language in Jupyter notebook (optional)\n",
    "\n",
    "*Markdown is an easy-to-use markup language that is used with plain text to add formatting elements (headings, bulleted lists, URLs) to plain text without the use of a formal text editor or the use of HTML tags. Markdown is device agnostic and displays the writing format consistently across device types*\n",
    "\n",
    "In simple words, it is a language we can write easy-to-understand documents, for example:\n",
    "\n",
    "![](https://miro.medium.com/max/1050/0*lzRmzAy5OICef7rK.png)\n",
    "\n",
    "Left hand side is the markdown language and the right hand is what is looks like when displayed. In jupyter notebook you can display it by running a markdown cell\n",
    "\n",
    "# Heading 1\n",
    "## Heading 2\n",
    "### Heading 3"
   ]
  }
 ],
 "metadata": {
  "kernelspec": {
   "display_name": "Python 3",
   "language": "python",
   "name": "python3"
  },
  "language_info": {
   "codemirror_mode": {
    "name": "ipython",
    "version": 3
   },
   "file_extension": ".py",
   "mimetype": "text/x-python",
   "name": "python",
   "nbconvert_exporter": "python",
   "pygments_lexer": "ipython3",
   "version": "3.8.8"
  },
  "toc": {
   "base_numbering": 1,
   "nav_menu": {},
   "number_sections": true,
   "sideBar": true,
   "skip_h1_title": false,
   "title_cell": "Table of Contents",
   "title_sidebar": "Contents",
   "toc_cell": false,
   "toc_position": {},
   "toc_section_display": true,
   "toc_window_display": true
  }
 },
 "nbformat": 4,
 "nbformat_minor": 5
}
