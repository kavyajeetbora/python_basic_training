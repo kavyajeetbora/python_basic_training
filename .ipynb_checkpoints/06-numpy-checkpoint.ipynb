{
 "cells": [
  {
   "cell_type": "markdown",
   "id": "6d9f7870",
   "metadata": {},
   "source": [
    "![](https://upload.wikimedia.org/wikipedia/commons/thumb/3/31/NumPy_logo_2020.svg/121px-NumPy_logo_2020.svg.png)\n",
    "\n",
    "# Numpy Introduction\n",
    "\n",
    "## What is numpy ?\n",
    "\n",
    "- NumPy is a Python library (collection of modules).\n",
    "- NumPy is used for working with arrays.\n",
    "- NumPy is short for \"Numerical Python\".\n",
    "\n",
    "## Why we use numpy ?\n",
    "\n",
    "\n",
    "- In Python we have lists that serve the purpose of arrays, but they are slow to process.\n",
    "- NumPy aims to provide an array object that is up to 50x faster than traditional Python lists.\n",
    "- The array object in NumPy is called ndarray, it provides a lot of supporting functions that make working with ndarray very easy.\n",
    "- Arrays are very frequently used in data science, where speed and resources are very important\n",
    "\n",
    "## Why numpy is faster than python list ?\n",
    "- **An array is a collection of homogeneous data-types** that are stored in contiguous memory locations. On the other hand, a list in Python is a collection of heterogeneous data types stored in non-contiguous memory locations.\n",
    "![](https://res.cloudinary.com/practicaldev/image/fetch/s--3HyFj1_a--/c_limit%2Cf_auto%2Cfl_progressive%2Cq_auto%2Cw_880/https://dev-to-uploads.s3.amazonaws.com/i/767ysmx0hpyq62ba89uh.png)\n",
    "- The NumPy package breaks down a task into multiple fragments and then processes all the fragments **parallelly**. This is achieved by concept called \"vectorization\":\n",
    "![](https://lappweb.in2p3.fr/~paubert/ASTERICS_HPC/images/vectorization.png)\n",
    "- The NumPy package integrates C, C++, and Fortran codes in Python. These programming languages have very little execution time compared to Python\n",
    "    - **Now why c++ is faster than python** ? *C++ is faster than Python because it is statically typed, which leads to a faster compilation of code. Python is slower than C++, it supports dynamic typing, and it also uses the interpreter, which makes the process of compilation slower*\n",
    "    \n",
    "    C++ (typed language):\n",
    "    ```cpp\n",
    "    int myNum = 15;\n",
    "    double myFloatNum = 5.99;\n",
    "    string myText = \"Hello\";\n",
    "    ```\n",
    "    Python (dynamic typing):\n",
    "    ```python\n",
    "    myNum = 15\n",
    "    myFloatNum = 5.99\n",
    "    myText = \"Hello\"\n",
    "    ```\n",
    "    - NumPy is a Python library and is written partially in Python, but most of the parts that require fast computation are written in C or C++\n",
    "\n",
    "This is the main reason why NumPy is faster than lists. Also it is optimized to work with latest CPU architectures.\n",
    "\n",
    "[complete tutorial is in w3schools.com](https://www.w3schools.com/python/numpy/default.asp)\n",
    "\n",
    "## Installation\n",
    "\n",
    "for installing numpy package, open cmd and type:\n",
    "```\n",
    "pip install numpy\n",
    "```\n",
    "- Note: With anaconda, important packages like `numpy`, `pandas` etc comes pre-installed, so no need to do so\n",
    "- This is only helpful when you want to install external packages which doesn't come with anaconda\n",
    "\n",
    "# Getting started"
   ]
  },
  {
   "cell_type": "code",
   "execution_count": 3,
   "id": "83294bfc",
   "metadata": {},
   "outputs": [],
   "source": [
    "#import numpy\n",
    "import numpy as np"
   ]
  },
  {
   "cell_type": "code",
   "execution_count": 4,
   "id": "92277927",
   "metadata": {},
   "outputs": [
    {
     "name": "stdout",
     "output_type": "stream",
     "text": [
      "[1 2 3 4 5]\n"
     ]
    }
   ],
   "source": [
    "arr = np.array([1, 2, 3, 4, 5])\n",
    "print(arr)"
   ]
  },
  {
   "cell_type": "code",
   "execution_count": 1,
   "id": "54ba1f1b",
   "metadata": {},
   "outputs": [
    {
     "data": {
      "text/plain": [
       "[1, 2, 3, 4, 5]"
      ]
     },
     "execution_count": 1,
     "metadata": {},
     "output_type": "execute_result"
    }
   ],
   "source": [
    "arr2 = [1, 2, 3, 4, 5]\n",
    "arr2"
   ]
  },
  {
   "cell_type": "code",
   "execution_count": 5,
   "id": "370b5b54",
   "metadata": {},
   "outputs": [
    {
     "data": {
      "text/plain": [
       "numpy.ndarray"
      ]
     },
     "execution_count": 5,
     "metadata": {},
     "output_type": "execute_result"
    }
   ],
   "source": [
    "type(arr)"
   ]
  },
  {
   "cell_type": "markdown",
   "id": "0f46a4ea",
   "metadata": {},
   "source": [
    "Checking the version:"
   ]
  },
  {
   "cell_type": "code",
   "execution_count": 6,
   "id": "0696c9ca",
   "metadata": {},
   "outputs": [
    {
     "data": {
      "text/plain": [
       "'1.23.1'"
      ]
     },
     "execution_count": 6,
     "metadata": {},
     "output_type": "execute_result"
    }
   ],
   "source": [
    "np.__version__"
   ]
  },
  {
   "cell_type": "markdown",
   "id": "1017dc3c",
   "metadata": {},
   "source": [
    "# Creating arrays\n",
    "\n",
    "- NumPy is used to work with arrays. The array object in NumPy is called `ndarray`.\n",
    "- We can create a NumPy `ndarray` object by using the `array()` function\n",
    "\n",
    "[More on this and practice material](https://www.w3schools.com/python/numpy/numpy_creating_arrays.asp)"
   ]
  },
  {
   "cell_type": "code",
   "execution_count": 7,
   "id": "b0cab9a4",
   "metadata": {},
   "outputs": [
    {
     "name": "stdout",
     "output_type": "stream",
     "text": [
      "[1 2 3 4 5]\n",
      "<class 'numpy.ndarray'>\n"
     ]
    }
   ],
   "source": [
    "arr = np.array([1, 2, 3, 4, 5])\n",
    "print(arr)\n",
    "print(type(arr))"
   ]
  },
  {
   "cell_type": "markdown",
   "id": "a38d157d",
   "metadata": {},
   "source": [
    "We can also use tuple to intiate the array:"
   ]
  },
  {
   "cell_type": "code",
   "execution_count": 9,
   "id": "a2809a33",
   "metadata": {},
   "outputs": [
    {
     "name": "stdout",
     "output_type": "stream",
     "text": [
      "[1 2 3 4 5]\n",
      "<class 'numpy.ndarray'>\n"
     ]
    }
   ],
   "source": [
    "arr = np.array((1, 2, 3, 4, 5))\n",
    "print(arr)\n",
    "print(type(arr))"
   ]
  },
  {
   "cell_type": "markdown",
   "id": "f7b19894",
   "metadata": {},
   "source": [
    "## Dimensions in Arrays\n",
    "\n",
    "nested array: are arrays that have arrays as their elements\n",
    "\n",
    "<img src=\"https://i.stack.imgur.com/Tbe9W.png\" width=500 height=500 align=\"left\"/>"
   ]
  },
  {
   "cell_type": "markdown",
   "id": "bb1cbd73",
   "metadata": {},
   "source": [
    "### 0-D arrays"
   ]
  },
  {
   "cell_type": "code",
   "execution_count": 11,
   "id": "c8e89ac7",
   "metadata": {},
   "outputs": [
    {
     "name": "stdout",
     "output_type": "stream",
     "text": [
      "42\n",
      "()\n"
     ]
    }
   ],
   "source": [
    "arr = np.array(42)\n",
    "print(arr)\n",
    "print(arr.shape)"
   ]
  },
  {
   "cell_type": "markdown",
   "id": "bc709439",
   "metadata": {},
   "source": [
    "### 1-D Arrays"
   ]
  },
  {
   "cell_type": "code",
   "execution_count": 12,
   "id": "ba42ed97",
   "metadata": {},
   "outputs": [
    {
     "name": "stdout",
     "output_type": "stream",
     "text": [
      "[1 2 3 4 5]\n",
      "(5,)\n"
     ]
    }
   ],
   "source": [
    "arr = np.array([1, 2, 3, 4, 5])\n",
    "print(arr)\n",
    "print(arr.shape)"
   ]
  },
  {
   "cell_type": "markdown",
   "id": "c6946305",
   "metadata": {},
   "source": [
    "### 2D arrays"
   ]
  },
  {
   "cell_type": "code",
   "execution_count": 7,
   "id": "b79e15bd",
   "metadata": {},
   "outputs": [
    {
     "name": "stdout",
     "output_type": "stream",
     "text": [
      "[[1 2 3 4 5]\n",
      " [1 2 3 4 5]]\n",
      "(2, 5)\n"
     ]
    }
   ],
   "source": [
    "arr = np.array([\n",
    "    [1, 2, 3, 4, 5],\n",
    "    [1, 2, 3, 4, 5]\n",
    "])\n",
    "print(arr)\n",
    "print(arr.shape)"
   ]
  },
  {
   "cell_type": "markdown",
   "id": "3138304e",
   "metadata": {},
   "source": [
    "### 3D arrays\n",
    "<img src=\"https://media.geeksforgeeks.org/wp-content/uploads/3D-array.jpg\" height=500 width=500>"
   ]
  },
  {
   "cell_type": "code",
   "execution_count": 14,
   "id": "94637333",
   "metadata": {},
   "outputs": [
    {
     "name": "stdout",
     "output_type": "stream",
     "text": [
      "[[[1 2 3]\n",
      "  [4 5 6]]\n",
      "\n",
      " [[1 2 3]\n",
      "  [4 5 6]]]\n",
      "(2, 2, 3)\n"
     ]
    }
   ],
   "source": [
    "arr = np.array([\n",
    "    [\n",
    "        [1, 2, 3], \n",
    "        [4, 5, 6]\n",
    "    ], \n",
    "    [\n",
    "        [1, 2, 3], \n",
    "        [4, 5, 6]\n",
    "    ]\n",
    "])\n",
    "print(arr)\n",
    "print(arr.shape)"
   ]
  },
  {
   "cell_type": "markdown",
   "id": "16ad7f46",
   "metadata": {},
   "source": [
    "### Checking the dimension of given array"
   ]
  },
  {
   "cell_type": "code",
   "execution_count": 15,
   "id": "ff73fc1e",
   "metadata": {},
   "outputs": [
    {
     "name": "stdout",
     "output_type": "stream",
     "text": [
      "0\n",
      "1\n",
      "2\n",
      "3\n"
     ]
    }
   ],
   "source": [
    "a = np.array(42)\n",
    "b = np.array([1, 2, 3, 4, 5])\n",
    "c = np.array([[1, 2, 3], [4, 5, 6]])\n",
    "d = np.array([[[1, 2, 3], [4, 5, 6]], [[1, 2, 3], [4, 5, 6]]])\n",
    "\n",
    "print(a.ndim)\n",
    "print(b.ndim)\n",
    "print(c.ndim)\n",
    "print(d.ndim)"
   ]
  },
  {
   "cell_type": "code",
   "execution_count": 16,
   "id": "104894b5",
   "metadata": {},
   "outputs": [
    {
     "name": "stdout",
     "output_type": "stream",
     "text": [
      "[[[[[1 2 3 4]]]]]\n",
      "number of dimensions : 5\n"
     ]
    }
   ],
   "source": [
    "arr = np.array([1, 2, 3, 4], ndmin=5)\n",
    "\n",
    "print(arr)\n",
    "print('number of dimensions :', arr.ndim)"
   ]
  },
  {
   "cell_type": "markdown",
   "id": "3409e5ff",
   "metadata": {},
   "source": [
    "# Array Indexing\n",
    "\n",
    "Accessing the elements of a given array"
   ]
  },
  {
   "cell_type": "markdown",
   "id": "6a5cb436",
   "metadata": {},
   "source": [
    "## indexing 1D array"
   ]
  },
  {
   "cell_type": "code",
   "execution_count": 8,
   "id": "f008781a",
   "metadata": {},
   "outputs": [
    {
     "name": "stdout",
     "output_type": "stream",
     "text": [
      "1\n"
     ]
    }
   ],
   "source": [
    "arr = np.array([1, 2, 3, 4])\n",
    "print(arr[0])"
   ]
  },
  {
   "cell_type": "code",
   "execution_count": 9,
   "id": "adba0918",
   "metadata": {},
   "outputs": [
    {
     "name": "stdout",
     "output_type": "stream",
     "text": [
      "2\n"
     ]
    }
   ],
   "source": [
    "arr = np.array([1, 2, 3, 4])\n",
    "print(arr[1])"
   ]
  },
  {
   "cell_type": "code",
   "execution_count": 10,
   "id": "b7110efd",
   "metadata": {},
   "outputs": [
    {
     "name": "stdout",
     "output_type": "stream",
     "text": [
      "7\n"
     ]
    }
   ],
   "source": [
    "print(arr[2] + arr[3])"
   ]
  },
  {
   "cell_type": "markdown",
   "id": "cdbd1967",
   "metadata": {},
   "source": [
    "## Indexing 2D array\n",
    "<img src=\"https://media.geeksforgeeks.org/wp-content/uploads/two-d.png\" width=500 height=500 align=\"left\"/>"
   ]
  },
  {
   "cell_type": "code",
   "execution_count": 27,
   "id": "7e750931",
   "metadata": {},
   "outputs": [
    {
     "name": "stdout",
     "output_type": "stream",
     "text": [
      "[[ 1  2  3  4  5]\n",
      " [ 6  7  8  9 10]]\n",
      "2nd element on 1st row:  2\n"
     ]
    }
   ],
   "source": [
    "arr = np.array([[1,2,3,4,5], [6,7,8,9,10]])\n",
    "print(arr)\n",
    "print('2nd element on 1st row: ', arr[0, 1])"
   ]
  },
  {
   "cell_type": "markdown",
   "id": "21baf34d",
   "metadata": {},
   "source": [
    "Access the element on the 2nd row, 5th column:"
   ]
  },
  {
   "cell_type": "code",
   "execution_count": 29,
   "id": "c7663791",
   "metadata": {},
   "outputs": [
    {
     "name": "stdout",
     "output_type": "stream",
     "text": [
      "5th element on 2nd row:  10\n"
     ]
    }
   ],
   "source": [
    "arr = np.array([[1,2,3,4,5], [6,7,8,9,10]])\n",
    "print('5th element on 2nd row: ', arr[1, 4])"
   ]
  },
  {
   "cell_type": "markdown",
   "id": "771e7439",
   "metadata": {},
   "source": [
    "## Accessing 3D array\n",
    "\n",
    "![](https://www.pythoninformer.com/img/numpy/3d-array.png)"
   ]
  },
  {
   "cell_type": "code",
   "execution_count": 12,
   "id": "f9926f0c",
   "metadata": {},
   "outputs": [
    {
     "name": "stdout",
     "output_type": "stream",
     "text": [
      "[[[10 11 12]\n",
      "  [13 14 15]\n",
      "  [16 17 18]]\n",
      "\n",
      " [[20 21 22]\n",
      "  [23 24 25]\n",
      "  [26 27 28]]\n",
      "\n",
      " [[30 31 32]\n",
      "  [33 34 35]\n",
      "  [36 37 38]]]\n",
      "37\n"
     ]
    }
   ],
   "source": [
    "arr = np.array([[[10, 11, 12], [13, 14, 15], [16, 17, 18]],\n",
    "               [[20, 21, 22], [23, 24, 25], [26, 27, 28]],\n",
    "               [[30, 31, 32], [33, 34, 35], [36, 37, 38]]])\n",
    "print(arr)\n",
    "print(arr[2, 2, 1])"
   ]
  },
  {
   "cell_type": "markdown",
   "id": "966420be",
   "metadata": {},
   "source": [
    "# Array slicing\n",
    "\n",
    "- Slicing in python means taking elements from one given index to another given index.\n",
    "- We pass slice instead of index like this: `[start:end]`\n",
    "- We can also define the step, like this: `[start:end:step]`"
   ]
  },
  {
   "cell_type": "markdown",
   "id": "76b3000b",
   "metadata": {},
   "source": [
    "## Slicing list"
   ]
  },
  {
   "cell_type": "code",
   "execution_count": 32,
   "id": "db71bc8b",
   "metadata": {},
   "outputs": [
    {
     "data": {
      "text/plain": [
       "[2, 3]"
      ]
     },
     "execution_count": 32,
     "metadata": {},
     "output_type": "execute_result"
    }
   ],
   "source": [
    "a = [1,2,3,4,5,6,7]\n",
    "a[1:3]"
   ]
  },
  {
   "cell_type": "code",
   "execution_count": 19,
   "id": "42d21da1",
   "metadata": {},
   "outputs": [
    {
     "data": {
      "text/plain": [
       "[1, 3, 5, 7]"
      ]
     },
     "execution_count": 19,
     "metadata": {},
     "output_type": "execute_result"
    }
   ],
   "source": [
    "a = [1,2,3,4,5,6,7]\n",
    "a[::2]"
   ]
  },
  {
   "cell_type": "markdown",
   "id": "f383aa31",
   "metadata": {},
   "source": [
    "## Slicing 1D array"
   ]
  },
  {
   "cell_type": "code",
   "execution_count": 34,
   "id": "47797e0f",
   "metadata": {},
   "outputs": [
    {
     "name": "stdout",
     "output_type": "stream",
     "text": [
      "[2 3 4 5]\n"
     ]
    }
   ],
   "source": [
    "arr = np.array([1, 2, 3, 4, 5, 6, 7])\n",
    "print(arr[1:5])"
   ]
  },
  {
   "cell_type": "code",
   "execution_count": 35,
   "id": "c0ad597a",
   "metadata": {},
   "outputs": [
    {
     "name": "stdout",
     "output_type": "stream",
     "text": [
      "[5 6 7]\n"
     ]
    }
   ],
   "source": [
    "arr = np.array([1, 2, 3, 4, 5, 6, 7])\n",
    "print(arr[4:])"
   ]
  },
  {
   "cell_type": "code",
   "execution_count": 22,
   "id": "2e455602",
   "metadata": {},
   "outputs": [
    {
     "name": "stdout",
     "output_type": "stream",
     "text": [
      "[4 3]\n"
     ]
    }
   ],
   "source": [
    "arr = np.array([1, 2, 3, 4, 5, 6, 7])\n",
    "print(arr[3:1:-1])"
   ]
  },
  {
   "cell_type": "markdown",
   "id": "125d7403",
   "metadata": {},
   "source": [
    "slicing with `step`:"
   ]
  },
  {
   "cell_type": "code",
   "execution_count": 23,
   "id": "50df276e",
   "metadata": {},
   "outputs": [
    {
     "name": "stdout",
     "output_type": "stream",
     "text": [
      "[2 4 6]\n"
     ]
    }
   ],
   "source": [
    "arr = np.array([1, 2, 3, 4, 5, 6, 7])\n",
    "print(arr[1:-1:2])"
   ]
  },
  {
   "cell_type": "code",
   "execution_count": 24,
   "id": "706b34ef",
   "metadata": {},
   "outputs": [
    {
     "name": "stdout",
     "output_type": "stream",
     "text": [
      "[1 3 5 7]\n"
     ]
    }
   ],
   "source": [
    "arr = np.array([1, 2, 3, 4, 5, 6, 7])\n",
    "print(arr[::2])"
   ]
  },
  {
   "cell_type": "markdown",
   "id": "671f1260",
   "metadata": {},
   "source": [
    "## Slicing 2D arrays\n",
    "\n",
    "![](https://www.pythoninformer.com/img/numpy/2d-array-col-1.png)"
   ]
  },
  {
   "cell_type": "code",
   "execution_count": 26,
   "id": "381ec969",
   "metadata": {},
   "outputs": [
    {
     "name": "stdout",
     "output_type": "stream",
     "text": [
      "[[1 2 3]\n",
      " [4 5 6]\n",
      " [7 8 9]]\n"
     ]
    }
   ],
   "source": [
    "v = np.array([[1, 2, 3],\n",
    "     [4, 5, 6],\n",
    "     [7, 8, 9]])\n",
    "print(v)"
   ]
  },
  {
   "cell_type": "code",
   "execution_count": 27,
   "id": "1d851efe",
   "metadata": {},
   "outputs": [
    {
     "data": {
      "text/plain": [
       "array([2, 5, 8])"
      ]
     },
     "execution_count": 27,
     "metadata": {},
     "output_type": "execute_result"
    }
   ],
   "source": [
    "v[:,1]"
   ]
  },
  {
   "cell_type": "code",
   "execution_count": 28,
   "id": "eec89eed",
   "metadata": {},
   "outputs": [
    {
     "data": {
      "text/plain": [
       "array([4, 5, 6])"
      ]
     },
     "execution_count": 28,
     "metadata": {},
     "output_type": "execute_result"
    }
   ],
   "source": [
    "v[1,:]"
   ]
  },
  {
   "cell_type": "code",
   "execution_count": 29,
   "id": "77b174a0",
   "metadata": {},
   "outputs": [
    {
     "data": {
      "text/plain": [
       "array([[1, 2, 3],\n",
       "       [4, 5, 6],\n",
       "       [7, 8, 9]])"
      ]
     },
     "execution_count": 29,
     "metadata": {},
     "output_type": "execute_result"
    }
   ],
   "source": [
    "v[:]"
   ]
  },
  {
   "cell_type": "markdown",
   "id": "f86849ea",
   "metadata": {},
   "source": [
    "## Slicing 3D arrays\n",
    "\n",
    "![](https://www.pythoninformer.com/img/numpy/3d-array-col-1.png)\n",
    "\n",
    "i = array number\n",
    "k = column number\n",
    "j = row number\n",
    "\n",
    "to index:\n",
    "\n",
    "```python\n",
    "a = array[i,j,k]\n",
    "```"
   ]
  },
  {
   "cell_type": "code",
   "execution_count": 30,
   "id": "6bad1db5",
   "metadata": {},
   "outputs": [
    {
     "data": {
      "text/plain": [
       "array([26, 27, 28])"
      ]
     },
     "execution_count": 30,
     "metadata": {},
     "output_type": "execute_result"
    }
   ],
   "source": [
    "## i=array no., j=row, k=column\n",
    "\n",
    "a3 = np.array([[[10, 11, 12], [13, 14, 15], [16, 17, 18]],\n",
    "               [[20, 21, 22], [23, 24, 25], [26, 27, 28]],\n",
    "               [[30, 31, 32], [33, 34, 35], [36, 37, 38]]])\n",
    "a3[1,2,:]"
   ]
  },
  {
   "cell_type": "markdown",
   "id": "97a3b752",
   "metadata": {},
   "source": [
    "![](https://www.pythoninformer.com/img/numpy/3d-array-col-3.png)"
   ]
  },
  {
   "cell_type": "code",
   "execution_count": 31,
   "id": "d5c9de89",
   "metadata": {},
   "outputs": [
    {
     "data": {
      "text/plain": [
       "array([15, 25, 35])"
      ]
     },
     "execution_count": 31,
     "metadata": {},
     "output_type": "execute_result"
    }
   ],
   "source": [
    "a3[:, 1, 2]"
   ]
  },
  {
   "cell_type": "markdown",
   "id": "c51a6d44",
   "metadata": {},
   "source": [
    "## Practice more\n",
    "\n",
    "1. [For more practice with quiz](https://www.w3schools.com/python/numpy/numpy_array_slicing.asp)\n",
    "2. [Detailed explanation on array indexing](https://www.pythoninformer.com/python-libraries/numpy/index-and-slice/)"
   ]
  },
  {
   "cell_type": "markdown",
   "id": "d2dbba4a",
   "metadata": {},
   "source": [
    "# Data Types\n",
    "\n",
    "**An array is a collection of homogeneous data-types**\n",
    "\n",
    "Datatype list:\n",
    "\n",
    "- i - integer\n",
    "- b - boolean\n",
    "- u - unsigned integer\n",
    "- f - float\n",
    "- c - complex float\n",
    "- m - timedelta\n",
    "- M - datetime\n",
    "- O - object\n",
    "- S - string\n",
    "- U - unicode string"
   ]
  },
  {
   "cell_type": "code",
   "execution_count": 32,
   "id": "7c86fb97",
   "metadata": {},
   "outputs": [
    {
     "name": "stdout",
     "output_type": "stream",
     "text": [
      "34 €\n"
     ]
    }
   ],
   "source": [
    "print(\"34 \\u20ac\")"
   ]
  },
  {
   "cell_type": "code",
   "execution_count": 33,
   "id": "ec81a579",
   "metadata": {},
   "outputs": [
    {
     "name": "stdout",
     "output_type": "stream",
     "text": [
      "<class 'list'>\n"
     ]
    }
   ],
   "source": [
    "a1 = [1,2,\"3\",4.0]\n",
    "print(type(a1))"
   ]
  },
  {
   "cell_type": "code",
   "execution_count": 66,
   "id": "6f71a902",
   "metadata": {},
   "outputs": [
    {
     "name": "stdout",
     "output_type": "stream",
     "text": [
      "int32\n"
     ]
    }
   ],
   "source": [
    "arr = np.array([1, 2, 3, 4])\n",
    "print(arr.dtype)"
   ]
  },
  {
   "cell_type": "code",
   "execution_count": 67,
   "id": "7f66129f",
   "metadata": {},
   "outputs": [
    {
     "name": "stdout",
     "output_type": "stream",
     "text": [
      "float64\n"
     ]
    }
   ],
   "source": [
    "arr = np.array([1, 2, 3, 4.5])\n",
    "print(arr.dtype)"
   ]
  },
  {
   "cell_type": "code",
   "execution_count": 35,
   "id": "07adb57b",
   "metadata": {},
   "outputs": [
    {
     "name": "stdout",
     "output_type": "stream",
     "text": [
      "<U6\n"
     ]
    }
   ],
   "source": [
    "arr = np.array(['apple', 'banana', 'cherry', \"34 \\u20ac\"])\n",
    "print(arr.dtype)"
   ]
  },
  {
   "cell_type": "code",
   "execution_count": 36,
   "id": "2afa8236",
   "metadata": {},
   "outputs": [
    {
     "name": "stdout",
     "output_type": "stream",
     "text": [
      "['1' '2' '3' '4']\n",
      "<U1\n"
     ]
    }
   ],
   "source": [
    "arr = np.array([1, 2, 3, 4], dtype='U')\n",
    "print(arr)\n",
    "print(arr.dtype)"
   ]
  },
  {
   "cell_type": "code",
   "execution_count": null,
   "id": "dc09b114",
   "metadata": {},
   "outputs": [],
   "source": [
    "arr = np.array([1, 2, 3, 4], dtype='S')\n",
    "print(arr)\n",
    "print(arr.dtype)"
   ]
  },
  {
   "cell_type": "markdown",
   "id": "40582468",
   "metadata": {},
   "source": [
    "## Converting dtypes"
   ]
  },
  {
   "cell_type": "code",
   "execution_count": 72,
   "id": "d012c3c6",
   "metadata": {},
   "outputs": [
    {
     "data": {
      "text/plain": [
       "array([1, 2, 3], dtype=int32)"
      ]
     },
     "execution_count": 72,
     "metadata": {},
     "output_type": "execute_result"
    }
   ],
   "source": [
    "arr = np.array(['1', '2', '3'], dtype='i')\n",
    "arr"
   ]
  },
  {
   "cell_type": "markdown",
   "id": "9b1e26ef",
   "metadata": {},
   "source": [
    "**Caution**\n",
    "\n",
    "Array cannot have different types (cannot be heterogeneous):\n",
    "\n",
    "```python\n",
    "arr = np.array(['a', '2', '3'], dtype='i')\n",
    "```\n",
    "output:\n",
    "\n",
    "```python\n",
    "---------------------------------------------------------------------------\n",
    "ValueError                                Traceback (most recent call last)\n",
    "<ipython-input-70-4101754d9810> in <module>\n",
    "----> 1 arr = np.array(['a', '2', '3'], dtype='i')\n",
    "\n",
    "ValueError: invalid literal for int() with base 10: 'a'\n",
    "```"
   ]
  },
  {
   "cell_type": "code",
   "execution_count": 37,
   "id": "6f3c4bbf",
   "metadata": {},
   "outputs": [
    {
     "data": {
      "text/plain": [
       "array([1, 2, 3], dtype=int32)"
      ]
     },
     "execution_count": 37,
     "metadata": {},
     "output_type": "execute_result"
    }
   ],
   "source": [
    "arr = np.array([1,2.2,3], dtype='i')\n",
    "arr"
   ]
  },
  {
   "cell_type": "code",
   "execution_count": 38,
   "id": "e45a02f4",
   "metadata": {},
   "outputs": [
    {
     "data": {
      "text/plain": [
       "array([1, 2, 3], dtype=int32)"
      ]
     },
     "execution_count": 38,
     "metadata": {},
     "output_type": "execute_result"
    }
   ],
   "source": [
    "arr = np.array([1,2.2135731099032809531,3.141092751209712097512], dtype='i')\n",
    "arr"
   ]
  },
  {
   "cell_type": "code",
   "execution_count": 39,
   "id": "d9216188",
   "metadata": {},
   "outputs": [
    {
     "data": {
      "text/plain": [
       "array(['b', '2', '3'], dtype='<U11')"
      ]
     },
     "execution_count": 39,
     "metadata": {},
     "output_type": "execute_result"
    }
   ],
   "source": [
    "np.array(['b', 2, 3])"
   ]
  },
  {
   "cell_type": "markdown",
   "id": "2ff3d80c",
   "metadata": {},
   "source": [
    "# Reshaping arrays"
   ]
  },
  {
   "cell_type": "code",
   "execution_count": 79,
   "id": "83099f80",
   "metadata": {},
   "outputs": [
    {
     "name": "stdout",
     "output_type": "stream",
     "text": [
      "(4, 3)\n"
     ]
    },
    {
     "data": {
      "text/plain": [
       "array([[ 1,  2,  3],\n",
       "       [ 4,  5,  6],\n",
       "       [ 7,  8,  9],\n",
       "       [10, 11, 12]])"
      ]
     },
     "execution_count": 79,
     "metadata": {},
     "output_type": "execute_result"
    }
   ],
   "source": [
    "arr = np.array([1, 2, 3, 4, 5, 6, 7, 8, 9, 10, 11, 12])\n",
    "newarr = arr.reshape(4, 3)\n",
    "print(newarr.shape)\n",
    "newarr"
   ]
  },
  {
   "cell_type": "code",
   "execution_count": 80,
   "id": "20187039",
   "metadata": {},
   "outputs": [
    {
     "data": {
      "text/plain": [
       "[array([1, 2]), array([3, 4]), array([5, 6])]"
      ]
     },
     "execution_count": 80,
     "metadata": {},
     "output_type": "execute_result"
    }
   ],
   "source": [
    "arr = np.array([1, 2, 3, 4, 5, 6])\n",
    "newarr = np.array_split(arr, 3)\n",
    "newarr"
   ]
  },
  {
   "cell_type": "markdown",
   "id": "ba597ee9",
   "metadata": {},
   "source": [
    "# Initializing random arrays\n",
    "\n",
    "Random number does NOT mean a different number every time. Random means something that can not be predicted logically.\n",
    "\n",
    "To generate a random integer:"
   ]
  },
  {
   "cell_type": "code",
   "execution_count": 58,
   "id": "0f275f60",
   "metadata": {},
   "outputs": [
    {
     "data": {
      "text/plain": [
       "187"
      ]
     },
     "execution_count": 58,
     "metadata": {},
     "output_type": "execute_result"
    }
   ],
   "source": [
    "np.random.randint(1000)"
   ]
  },
  {
   "cell_type": "markdown",
   "id": "4e2e09b1",
   "metadata": {},
   "source": [
    "To generate a random 1D array:"
   ]
  },
  {
   "cell_type": "code",
   "execution_count": 73,
   "id": "d8401e72",
   "metadata": {},
   "outputs": [
    {
     "data": {
      "text/plain": [
       "array([35, 76, 98, 86, 14,  3, 38, 52, 28, 41])"
      ]
     },
     "execution_count": 73,
     "metadata": {},
     "output_type": "execute_result"
    }
   ],
   "source": [
    "np.random.randint(100, size=10)"
   ]
  },
  {
   "cell_type": "markdown",
   "id": "ef3f91a6",
   "metadata": {},
   "source": [
    "To generate a random 2D array:"
   ]
  },
  {
   "cell_type": "code",
   "execution_count": 76,
   "id": "d9ecf1e4",
   "metadata": {},
   "outputs": [
    {
     "data": {
      "text/plain": [
       "array([[90, 49, 74,  7, 55],\n",
       "       [43, 65, 20, 91, 48],\n",
       "       [97, 64, 41,  9, 91],\n",
       "       [31, 31,  8,  1, 62],\n",
       "       [81, 58, 86, 80, 15]])"
      ]
     },
     "execution_count": 76,
     "metadata": {},
     "output_type": "execute_result"
    }
   ],
   "source": [
    "np.random.randint(100, size=(5,5))"
   ]
  },
  {
   "cell_type": "code",
   "execution_count": 92,
   "id": "99d082c6",
   "metadata": {},
   "outputs": [
    {
     "data": {
      "text/plain": [
       "array([[[77, 55, 34, 87, 38],\n",
       "        [14, 85, 73, 48, 45],\n",
       "        [25, 97,  6, 21, 98],\n",
       "        [92, 52, 91, 41, 83],\n",
       "        [62,  3, 19, 87, 41]],\n",
       "\n",
       "       [[60, 95, 10, 97, 90],\n",
       "        [76, 63, 41,  0,  8],\n",
       "        [89, 81, 41, 22, 57],\n",
       "        [19, 38, 73, 67, 38],\n",
       "        [46, 93, 55, 95, 14]],\n",
       "\n",
       "       [[47, 51, 69, 52, 29],\n",
       "        [74, 48, 26, 28, 59],\n",
       "        [73, 14, 44, 66, 81],\n",
       "        [ 3, 66, 85, 55, 67],\n",
       "        [71, 76, 41, 66, 18]]])"
      ]
     },
     "execution_count": 92,
     "metadata": {},
     "output_type": "execute_result"
    }
   ],
   "source": [
    "np.random.randint(100, size=(3,5,5))"
   ]
  },
  {
   "cell_type": "markdown",
   "id": "daf3a435",
   "metadata": {},
   "source": [
    "Generating random float arrays:"
   ]
  },
  {
   "cell_type": "code",
   "execution_count": 104,
   "id": "7feaa21e",
   "metadata": {},
   "outputs": [
    {
     "data": {
      "text/plain": [
       "array([0.47473668, 0.56557257, 0.48246194, 0.37295702, 0.79305699])"
      ]
     },
     "execution_count": 104,
     "metadata": {},
     "output_type": "execute_result"
    }
   ],
   "source": [
    "np.random.rand(5)"
   ]
  },
  {
   "cell_type": "code",
   "execution_count": 111,
   "id": "ba13e033",
   "metadata": {},
   "outputs": [
    {
     "data": {
      "text/plain": [
       "array([[[4.70558205e-01, 1.14832974e-01, 3.19021841e-01],\n",
       "        [6.08018361e-01, 1.20036855e-01, 7.97444571e-03],\n",
       "        [2.37359181e-01, 2.57073945e-01, 6.62765491e-01],\n",
       "        [1.24385708e-01, 8.69726307e-01, 7.46877695e-01],\n",
       "        [2.85212015e-01, 1.36933217e-01, 3.00344580e-01]],\n",
       "\n",
       "       [[5.94558286e-02, 2.04563821e-01, 9.97846820e-01],\n",
       "        [9.23912322e-01, 4.64192564e-01, 9.64979563e-01],\n",
       "        [3.63043001e-01, 4.20511382e-01, 2.16511999e-01],\n",
       "        [8.44756740e-01, 4.16081741e-01, 2.90563994e-01],\n",
       "        [6.49237771e-01, 1.37498993e-02, 8.65207093e-01]],\n",
       "\n",
       "       [[1.34090644e-02, 9.64139488e-01, 9.43209546e-01],\n",
       "        [6.24644639e-01, 5.68131624e-01, 7.20865288e-02],\n",
       "        [7.67304913e-01, 5.31824875e-01, 4.26950878e-02],\n",
       "        [8.97762494e-01, 4.83112070e-01, 7.63493891e-04],\n",
       "        [8.18896381e-01, 7.26503164e-02, 2.78470399e-01]]])"
      ]
     },
     "execution_count": 111,
     "metadata": {},
     "output_type": "execute_result"
    }
   ],
   "source": [
    "np.random.rand(3,5,3)"
   ]
  },
  {
   "cell_type": "markdown",
   "id": "138aa2f1",
   "metadata": {},
   "source": [
    "Choosing randomly from given array:"
   ]
  },
  {
   "cell_type": "code",
   "execution_count": 125,
   "id": "0b382997",
   "metadata": {},
   "outputs": [
    {
     "data": {
      "text/plain": [
       "4"
      ]
     },
     "execution_count": 125,
     "metadata": {},
     "output_type": "execute_result"
    }
   ],
   "source": [
    "np.random.choice([1,2,3,4,5,6,7,8,9,0])"
   ]
  },
  {
   "cell_type": "markdown",
   "id": "191aa7e9",
   "metadata": {},
   "source": [
    "Creating a 2D array from given set of values:"
   ]
  },
  {
   "cell_type": "code",
   "execution_count": 136,
   "id": "af9e25ed",
   "metadata": {},
   "outputs": [
    {
     "data": {
      "text/plain": [
       "array([[6, 7, 1, 1, 0],\n",
       "       [4, 2, 5, 2, 8],\n",
       "       [5, 2, 9, 3, 8],\n",
       "       [9, 7, 2, 7, 4],\n",
       "       [8, 0, 3, 5, 8]])"
      ]
     },
     "execution_count": 136,
     "metadata": {},
     "output_type": "execute_result"
    }
   ],
   "source": [
    "np.random.choice([1,2,3,4,5,6,7,8,9,0], size=(5,5))"
   ]
  },
  {
   "cell_type": "markdown",
   "id": "1d2363be",
   "metadata": {},
   "source": [
    "# For loop vs vectorization\n",
    "\n",
    "This exercise will demonstrate the advantages of using numpy over normal for loops for computation"
   ]
  },
  {
   "cell_type": "markdown",
   "id": "47548b3f",
   "metadata": {},
   "source": [
    "Finding the square of a given array:"
   ]
  },
  {
   "cell_type": "code",
   "execution_count": 138,
   "id": "93f794f9",
   "metadata": {},
   "outputs": [],
   "source": [
    "from tqdm.notebook import tqdm"
   ]
  },
  {
   "cell_type": "markdown",
   "id": "4c49b131",
   "metadata": {},
   "source": [
    "Using `for loop` to compute:"
   ]
  },
  {
   "cell_type": "code",
   "execution_count": 131,
   "id": "176c658a",
   "metadata": {},
   "outputs": [
    {
     "data": {
      "text/plain": [
       "float"
      ]
     },
     "execution_count": 131,
     "metadata": {},
     "output_type": "execute_result"
    }
   ],
   "source": [
    "type(10e6)"
   ]
  },
  {
   "cell_type": "code",
   "execution_count": 146,
   "id": "ea3ccfa9",
   "metadata": {},
   "outputs": [
    {
     "data": {
      "application/vnd.jupyter.widget-view+json": {
       "model_id": "4f3ebcaefc014a619e896ea8e4d72ee0",
       "version_major": 2,
       "version_minor": 0
      },
      "text/plain": [
       "  0%|          | 0/10000000 [00:00<?, ?it/s]"
      ]
     },
     "metadata": {},
     "output_type": "display_data"
    },
    {
     "name": "stdout",
     "output_type": "stream",
     "text": [
      "Wall time: 6.82 s\n"
     ]
    }
   ],
   "source": [
    "%%time\n",
    "arr = np.random.rand(10000000)\n",
    "for i in tqdm(arr):\n",
    "    a = i**2"
   ]
  },
  {
   "cell_type": "markdown",
   "id": "c5f22c8d",
   "metadata": {},
   "source": [
    "Using numpy `array` for computation:"
   ]
  },
  {
   "cell_type": "code",
   "execution_count": 145,
   "id": "b1679317",
   "metadata": {},
   "outputs": [
    {
     "ename": "TypeError",
     "evalue": "unsupported operand type(s) for ** or pow(): 'list' and 'int'",
     "output_type": "error",
     "traceback": [
      "\u001b[1;31m---------------------------------------------------------------------------\u001b[0m",
      "\u001b[1;31mTypeError\u001b[0m                                 Traceback (most recent call last)",
      "\u001b[1;32m<ipython-input-145-25ce28280734>\u001b[0m in \u001b[0;36m<module>\u001b[1;34m\u001b[0m\n\u001b[1;32m----> 1\u001b[1;33m \u001b[1;33m[\u001b[0m\u001b[1;36m1\u001b[0m\u001b[1;33m,\u001b[0m\u001b[1;36m2\u001b[0m\u001b[1;33m,\u001b[0m\u001b[1;36m3\u001b[0m\u001b[1;33m,\u001b[0m\u001b[1;36m4\u001b[0m\u001b[1;33m,\u001b[0m\u001b[1;36m5\u001b[0m\u001b[1;33m,\u001b[0m\u001b[1;36m6\u001b[0m\u001b[1;33m,\u001b[0m\u001b[1;36m7\u001b[0m\u001b[1;33m,\u001b[0m\u001b[1;36m8\u001b[0m\u001b[1;33m,\u001b[0m\u001b[1;36m9\u001b[0m\u001b[1;33m,\u001b[0m\u001b[1;36m0\u001b[0m\u001b[1;33m]\u001b[0m\u001b[1;33m**\u001b[0m\u001b[1;36m2\u001b[0m\u001b[1;33m\u001b[0m\u001b[1;33m\u001b[0m\u001b[0m\n\u001b[0m",
      "\u001b[1;31mTypeError\u001b[0m: unsupported operand type(s) for ** or pow(): 'list' and 'int'"
     ]
    }
   ],
   "source": [
    "[1,2,3,4,5,6,7,8,9,0]**2"
   ]
  },
  {
   "cell_type": "code",
   "execution_count": 144,
   "id": "e55f5ff6",
   "metadata": {},
   "outputs": [
    {
     "data": {
      "text/plain": [
       "array([ 1,  4,  9, 16, 25, 36, 49, 64, 81,  0])"
      ]
     },
     "execution_count": 144,
     "metadata": {},
     "output_type": "execute_result"
    }
   ],
   "source": [
    "arr = np.array([1,2,3,4,5,6,7,8,9,0])\n",
    "arr**2"
   ]
  },
  {
   "cell_type": "code",
   "execution_count": 143,
   "id": "969c1c23",
   "metadata": {},
   "outputs": [
    {
     "name": "stdout",
     "output_type": "stream",
     "text": [
      "Wall time: 37.9 ms\n"
     ]
    }
   ],
   "source": [
    "%%time\n",
    "a = arr**2"
   ]
  },
  {
   "cell_type": "code",
   "execution_count": 150,
   "id": "0c64d0e6",
   "metadata": {},
   "outputs": [
    {
     "data": {
      "text/plain": [
       "array([ 1,  4,  9, 16, 25, 36, 49, 64, 81,  0])"
      ]
     },
     "execution_count": 150,
     "metadata": {},
     "output_type": "execute_result"
    }
   ],
   "source": [
    "arr1 = np.array([1,2,3,4,5,6,7,8,9,0])\n",
    "arr2 = np.array([1,2,3,4,5,6,7,8,9,0])\n",
    "arr1*arr2"
   ]
  },
  {
   "cell_type": "code",
   "execution_count": 152,
   "id": "eaac09f0",
   "metadata": {},
   "outputs": [
    {
     "data": {
      "text/plain": [
       "array([0.        , 0.69314718, 1.09861229, 1.38629436, 1.60943791,\n",
       "       1.79175947, 1.94591015, 2.07944154, 2.19722458, 2.30258509])"
      ]
     },
     "execution_count": 152,
     "metadata": {},
     "output_type": "execute_result"
    }
   ],
   "source": [
    "arr1 = np.array([1,2,3,4,5,6,7,8,9,10])\n",
    "np.log(arr1)"
   ]
  },
  {
   "cell_type": "code",
   "execution_count": 157,
   "id": "a41b0d3a",
   "metadata": {},
   "outputs": [],
   "source": [
    "arr = np.random.rand(300,500,300)\n",
    "results = arr**2"
   ]
  },
  {
   "cell_type": "code",
   "execution_count": 156,
   "id": "7ff855a6",
   "metadata": {},
   "outputs": [
    {
     "data": {
      "text/plain": [
       "array([[[0.96531683, 0.9968438 , 0.99930644],\n",
       "        [0.79016318, 0.77912918, 0.90842127],\n",
       "        [0.72624874, 0.91795737, 0.71155859],\n",
       "        [0.97216517, 0.98991975, 0.97888034],\n",
       "        [0.58588503, 0.71943422, 0.94399197]],\n",
       "\n",
       "       [[0.60411838, 0.92320472, 0.68522676],\n",
       "        [0.83372487, 0.89851928, 0.99961378],\n",
       "        [0.55702871, 0.68745823, 0.72427966],\n",
       "        [0.87975913, 0.61657978, 0.90193196],\n",
       "        [0.60071562, 0.9145836 , 0.74248405]],\n",
       "\n",
       "       [[0.71595594, 0.87908406, 0.87130765],\n",
       "        [0.8851659 , 0.54620814, 0.5533441 ],\n",
       "        [0.59421684, 0.93925522, 0.88626956],\n",
       "        [0.91388132, 0.80649009, 0.54392109],\n",
       "        [0.78960269, 0.82786572, 0.99926178]]])"
      ]
     },
     "execution_count": 156,
     "metadata": {},
     "output_type": "execute_result"
    }
   ],
   "source": [
    "np.cos(arr)"
   ]
  },
  {
   "cell_type": "markdown",
   "id": "52c982ce",
   "metadata": {},
   "source": [
    "# Searching in arrays"
   ]
  },
  {
   "cell_type": "code",
   "execution_count": 85,
   "id": "59e80cf3",
   "metadata": {},
   "outputs": [
    {
     "data": {
      "text/plain": [
       "(array([0], dtype=int64),)"
      ]
     },
     "execution_count": 85,
     "metadata": {},
     "output_type": "execute_result"
    }
   ],
   "source": [
    "arr = np.array([1, 2, 3, 4, 5, 4, 4])\n",
    "np.where(arr == 1)"
   ]
  },
  {
   "cell_type": "code",
   "execution_count": 84,
   "id": "d5afd51e",
   "metadata": {},
   "outputs": [
    {
     "data": {
      "text/plain": [
       "(array([3, 5, 6], dtype=int64),)"
      ]
     },
     "execution_count": 84,
     "metadata": {},
     "output_type": "execute_result"
    }
   ],
   "source": [
    "arr = np.array([1, 2, 3, 4, 5, 4, 4])\n",
    "np.where(arr == 4)"
   ]
  },
  {
   "cell_type": "code",
   "execution_count": 160,
   "id": "ab15040b",
   "metadata": {},
   "outputs": [
    {
     "name": "stdout",
     "output_type": "stream",
     "text": [
      "(array([0, 2, 3], dtype=int64),)\n"
     ]
    },
    {
     "data": {
      "text/plain": [
       "array(['A', 'C', 'D'], dtype='<U1')"
      ]
     },
     "execution_count": 160,
     "metadata": {},
     "output_type": "execute_result"
    }
   ],
   "source": [
    "marks = np.array([34,22,50,60])\n",
    "names = np.array([\"A\", \"B\", \"C\", \"D\"])\n",
    "\n",
    "index = np.where(marks>30)\n",
    "print(index)\n",
    "names[index]"
   ]
  },
  {
   "cell_type": "markdown",
   "id": "80ad6bc0",
   "metadata": {},
   "source": [
    "Finding all even numbers:"
   ]
  },
  {
   "cell_type": "code",
   "execution_count": 161,
   "id": "7fabca5a",
   "metadata": {},
   "outputs": [
    {
     "name": "stdout",
     "output_type": "stream",
     "text": [
      "(array([0, 2, 4, 6], dtype=int64),)\n",
      "[10 30 50 70]\n"
     ]
    }
   ],
   "source": [
    "arr = np.array([10, 20, 30, 40, 50, 60, 70])\n",
    "indices = np.where(arr%20==10)\n",
    "print(indices)\n",
    "print(arr[indices])"
   ]
  }
 ],
 "metadata": {
  "kernelspec": {
   "display_name": "Python 3",
   "language": "python",
   "name": "python3"
  },
  "language_info": {
   "codemirror_mode": {
    "name": "ipython",
    "version": 3
   },
   "file_extension": ".py",
   "mimetype": "text/x-python",
   "name": "python",
   "nbconvert_exporter": "python",
   "pygments_lexer": "ipython3",
   "version": "3.8.8"
  },
  "toc": {
   "base_numbering": 1,
   "nav_menu": {},
   "number_sections": true,
   "sideBar": true,
   "skip_h1_title": false,
   "title_cell": "Table of Contents",
   "title_sidebar": "Contents",
   "toc_cell": false,
   "toc_position": {
    "height": "calc(100% - 180px)",
    "left": "10px",
    "top": "150px",
    "width": "165px"
   },
   "toc_section_display": true,
   "toc_window_display": true
  }
 },
 "nbformat": 4,
 "nbformat_minor": 5
}
