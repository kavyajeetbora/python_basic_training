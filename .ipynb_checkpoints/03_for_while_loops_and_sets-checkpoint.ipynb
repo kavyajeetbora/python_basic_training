{
 "cells": [
  {
   "cell_type": "markdown",
   "id": "638d8865",
   "metadata": {},
   "source": [
    "![](https://i.morioh.com/2020/02/13/1b9be013bc43.jpg)\n",
    "# Chapter 3\n",
    "outline\n",
    "\n",
    "- `for` loops and `while` loops\n",
    "- python `set` "
   ]
  },
  {
   "cell_type": "markdown",
   "id": "dd758510",
   "metadata": {},
   "source": [
    "# Loops in python\n",
    "\n",
    "- `for` loops\n",
    "- `while` loops"
   ]
  },
  {
   "cell_type": "markdown",
   "id": "fb7df4b9",
   "metadata": {},
   "source": [
    "## For loops in python\n",
    "\n",
    "For loop with range():\n",
    "\n",
    "1. Flow chart of `for` loop:\n",
    "![](https://pynative.com/wp-content/uploads/2021/03/python-for-loop.png)\n",
    "\n",
    "2. How does a `for` loop work:\n",
    "![](https://pynative.com/wp-content/uploads/2021/06/for-loop-range.png)\n",
    "\n",
    "3. Simple example with animation:\n",
    "![](https://dq-blog-files.s3.amazonaws.com/list-tutorial/py1m2_loops.gif)\n",
    "\n",
    "[For more learning and practice](https://pynative.com/python-for-loop/)"
   ]
  },
  {
   "cell_type": "code",
   "execution_count": 93,
   "id": "52e2167b",
   "metadata": {},
   "outputs": [
    {
     "data": {
      "text/plain": [
       "[0, 1, 2, 3, 4, 5, 6, 7, 8, 9]"
      ]
     },
     "execution_count": 93,
     "metadata": {},
     "output_type": "execute_result"
    }
   ],
   "source": [
    "a = []\n",
    "for i in range(10):\n",
    "    a.append(i)   \n",
    "a"
   ]
  },
  {
   "cell_type": "code",
   "execution_count": 94,
   "id": "2cade14c",
   "metadata": {},
   "outputs": [
    {
     "name": "stdout",
     "output_type": "stream",
     "text": [
      "-10\n",
      "-11\n",
      "-12\n",
      "-13\n",
      "-14\n",
      "-15\n",
      "-16\n",
      "-17\n",
      "-18\n",
      "-19\n"
     ]
    }
   ],
   "source": [
    "for i in range(-10,-20,-1):\n",
    "    print(i)"
   ]
  },
  {
   "cell_type": "code",
   "execution_count": 99,
   "id": "ff0a8376",
   "metadata": {},
   "outputs": [
    {
     "data": {
      "text/plain": [
       "55"
      ]
     },
     "execution_count": 99,
     "metadata": {},
     "output_type": "execute_result"
    }
   ],
   "source": [
    "a = 0\n",
    "for i in range(1,10+1):\n",
    "    a = a + i\n",
    "a"
   ]
  },
  {
   "cell_type": "code",
   "execution_count": 101,
   "id": "b38d7ea0",
   "metadata": {},
   "outputs": [
    {
     "data": {
      "text/plain": [
       "True"
      ]
     },
     "execution_count": 101,
     "metadata": {},
     "output_type": "execute_result"
    }
   ],
   "source": [
    "a == 1"
   ]
  },
  {
   "cell_type": "code",
   "execution_count": 109,
   "id": "5052689b",
   "metadata": {},
   "outputs": [
    {
     "name": "stdout",
     "output_type": "stream",
     "text": [
      "10\n",
      "10\n"
     ]
    }
   ],
   "source": [
    "a = 10\n",
    "if a == 10:\n",
    "    print(a)\n",
    "if a == 10:\n",
    "    print(a)\n",
    "else:\n",
    "    print(\"It is not equal to 1\")"
   ]
  },
  {
   "cell_type": "code",
   "execution_count": null,
   "id": "bbb41282",
   "metadata": {},
   "outputs": [],
   "source": [
    "if a == 10:\n",
    "    print(a)"
   ]
  },
  {
   "cell_type": "code",
   "execution_count": 107,
   "id": "30b7a39f",
   "metadata": {},
   "outputs": [
    {
     "name": "stdout",
     "output_type": "stream",
     "text": [
      "greater that 4\n"
     ]
    }
   ],
   "source": [
    "a = 5\n",
    "if a == 1:\n",
    "    print(a)\n",
    "elif a > 5:\n",
    "    print(\"greater than 5\")\n",
    "elif a > 4:\n",
    "    print(\"greater that 4\")\n",
    "else:\n",
    "    print(\"None\")"
   ]
  },
  {
   "cell_type": "code",
   "execution_count": 110,
   "id": "9f95cd70",
   "metadata": {},
   "outputs": [],
   "source": [
    "text = 'hello world'\n",
    "if text is str:\n",
    "    print(\"this is new text\")"
   ]
  },
  {
   "cell_type": "code",
   "execution_count": 2,
   "id": "c03a5368",
   "metadata": {},
   "outputs": [
    {
     "name": "stdout",
     "output_type": "stream",
     "text": [
      "Odd number\n"
     ]
    }
   ],
   "source": [
    "num = 7\n",
    "if num % 2 == 0:\n",
    "    print(\"Even number\")\n",
    "else:\n",
    "    print(\"Odd number\")"
   ]
  },
  {
   "cell_type": "markdown",
   "id": "ed14230a",
   "metadata": {},
   "source": [
    "Find a greater number between two numbers"
   ]
  },
  {
   "cell_type": "code",
   "execution_count": 7,
   "id": "315cc655",
   "metadata": {},
   "outputs": [
    {
     "name": "stdout",
     "output_type": "stream",
     "text": [
      "18 is greater than 10\n"
     ]
    }
   ],
   "source": [
    "num1 = 18\n",
    "num2 = 10\n",
    "\n",
    "if num1>num2:\n",
    "    print(\"%d is greater than %d\" % (num1, num2))\n",
    "    \n",
    "elif num1==num2:\n",
    "    print(\"Both are equal\")\n",
    "    \n",
    "else:\n",
    "    print(\"%d is greater\" % num2)"
   ]
  },
  {
   "cell_type": "markdown",
   "id": "155264ce",
   "metadata": {},
   "source": [
    "## While loops\n",
    "\n",
    "what is while loop?\n",
    "\n",
    "![](https://pynative.com/wp-content/uploads/2021/06/while-loop-in-python.png)\n",
    "here the else statement is optional and it is not very useful in most cases. You can consider the below syntax:\n",
    "```python\n",
    "while condition:\n",
    "    print()\n",
    "```\n",
    "\n",
    "\n",
    "But beware of Infinite loop:\n",
    "\n",
    "```python\n",
    "num = 10\n",
    "while num!=0:\n",
    "    print(num)\n",
    "```\n",
    "\n",
    "\n",
    "How python `while` loops work:\n",
    "1. Flowchart showing the while loop:\n",
    "![](https://pynative.com/wp-content/uploads/2021/06/while-loop-flowchart.png)\n",
    "2. A simple program to visualize the while loop with animations:\n",
    "![](https://thumbs.gfycat.com/SophisticatedWhisperedHamadryas.webp)\n",
    "\n",
    "[for more learning and practice](https://pynative.com/python-while-loop/)https://pynative.com/python-while-loop/"
   ]
  },
  {
   "cell_type": "code",
   "execution_count": 9,
   "id": "df4dfd6d",
   "metadata": {},
   "outputs": [
    {
     "name": "stdout",
     "output_type": "stream",
     "text": [
      "0\n",
      "1\n",
      "2\n",
      "3\n",
      "4\n",
      "5\n",
      "6\n",
      "7\n",
      "8\n",
      "9\n"
     ]
    }
   ],
   "source": [
    "num = 0\n",
    "while num!=10:\n",
    "    print(num)\n",
    "    num = num+1"
   ]
  },
  {
   "cell_type": "code",
   "execution_count": 18,
   "id": "fb752ef0",
   "metadata": {},
   "outputs": [
    {
     "name": "stdout",
     "output_type": "stream",
     "text": [
      "Wall time: 0 ns\n"
     ]
    },
    {
     "data": {
      "text/plain": [
       "55"
      ]
     },
     "execution_count": 18,
     "metadata": {},
     "output_type": "execute_result"
    }
   ],
   "source": [
    "%%time\n",
    "## calculate the sum of first n numbers\n",
    "\n",
    "n = 10\n",
    "i = 0\n",
    "total = 0\n",
    "while i!=n: \n",
    "    i += 1  ## i = i + 1\n",
    "    total = total + i \n",
    "total"
   ]
  },
  {
   "cell_type": "code",
   "execution_count": 21,
   "id": "59e03ec0",
   "metadata": {
    "scrolled": true
   },
   "outputs": [
    {
     "name": "stdout",
     "output_type": "stream",
     "text": [
      "55\n"
     ]
    }
   ],
   "source": [
    "n = 10\n",
    "total = 0\n",
    "for i in range(1,n+1,1):\n",
    "    total += i\n",
    "    \n",
    "print(total)"
   ]
  },
  {
   "cell_type": "markdown",
   "id": "9e12d085",
   "metadata": {},
   "source": [
    "## `break` and `continue` keywords\n",
    "\n",
    "- `break`: Terminate the current loop. Use the break statement to come out of the loop instantly.\n",
    "- `continue`: Skip the current iteration of a loop and move to the next iteration\n",
    "\n",
    "[Learn more and practice on break and continue keywords](https://pynative.com/python-break-continue-pass/)"
   ]
  },
  {
   "cell_type": "markdown",
   "id": "4c925eba",
   "metadata": {},
   "source": [
    "### `break`\n",
    "![](https://pynative.com/wp-content/uploads/2021/06/break-loop-in-python.png)\n",
    "How `break` works ? this illustration shows:\n",
    "<img src=https://www.scaler.com/topics/media/Syntax-of-Break-Statement-in-Python-2.gif width=500 height=500/>\n",
    "Flow chart to understand `break`:\n",
    "\n",
    "![](https://pynative.com/wp-content/uploads/2021/06/flowchart-of-break-statement.png)"
   ]
  },
  {
   "cell_type": "code",
   "execution_count": 23,
   "id": "3c477e7d",
   "metadata": {},
   "outputs": [
    {
     "name": "stdout",
     "output_type": "stream",
     "text": [
      "Some calculations\n"
     ]
    }
   ],
   "source": [
    "for i in range(10):\n",
    "    print(\"Some calculations\")\n",
    "    break"
   ]
  },
  {
   "cell_type": "code",
   "execution_count": 25,
   "id": "f4c4661c",
   "metadata": {},
   "outputs": [
    {
     "name": "stdout",
     "output_type": "stream",
     "text": [
      "0 Some calculations\n",
      "1 Some calculations\n",
      "2 Some calculations\n"
     ]
    }
   ],
   "source": [
    "for i in range(10):\n",
    "    print(i, \"Some calculations\")\n",
    "    \n",
    "    if i==2:\n",
    "        break"
   ]
  },
  {
   "cell_type": "markdown",
   "id": "385f06b0",
   "metadata": {},
   "source": [
    "### `continue` \n",
    "\n",
    "1. What is continue and it does:\n",
    "![](https://pynative.com/wp-content/uploads/2021/06/python-continue-statement-in-loop.png)\n",
    "2. Flow chart showing the `continue`?\n",
    "![](https://pynative.com/wp-content/uploads/2021/06/flowchart-of-continue-statement.png)\n"
   ]
  },
  {
   "cell_type": "code",
   "execution_count": 30,
   "id": "b30114d9",
   "metadata": {},
   "outputs": [
    {
     "name": "stdout",
     "output_type": "stream",
     "text": [
      "0 Some calculations\n",
      "1 Some calculations\n",
      "2\n",
      "3 Some calculations\n",
      "4 Some calculations\n",
      "5 Some calculations\n",
      "6 Some calculations\n",
      "7 Some calculations\n",
      "8 Some calculations\n",
      "9 Some calculations\n"
     ]
    }
   ],
   "source": [
    "## continue\n",
    "\n",
    "for i in range(10):\n",
    "    if i==2:\n",
    "        print(i)\n",
    "        continue\n",
    "        print(i, \"Some calculations\")\n",
    "        asalknvckalns\n",
    "    else:\n",
    "        print(i, \"Some calculations\")"
   ]
  },
  {
   "cell_type": "markdown",
   "id": "d8097c73",
   "metadata": {},
   "source": [
    "## Making patterns using `for` loops\n",
    "\n",
    "![](https://pynative.com/wp-content/uploads/2018/06/pattern_in_python.png)\n",
    "\n",
    "\n",
    "[for more practice](https://pynative.com/print-pattern-python-examples/)\n"
   ]
  },
  {
   "cell_type": "code",
   "execution_count": 44,
   "id": "8ce6a0b8",
   "metadata": {},
   "outputs": [
    {
     "name": "stdout",
     "output_type": "stream",
     "text": [
      "*\n",
      "**\n",
      "***\n",
      "****\n"
     ]
    }
   ],
   "source": [
    "for i in range(1,4+1):\n",
    "    print(\"*\"*i)"
   ]
  },
  {
   "cell_type": "code",
   "execution_count": 50,
   "id": "79182760",
   "metadata": {},
   "outputs": [
    {
     "data": {
      "text/plain": [
       "'hellohellohellohellohellohellohellohellohellohello'"
      ]
     },
     "execution_count": 50,
     "metadata": {},
     "output_type": "execute_result"
    }
   ],
   "source": [
    "\"hello\"*10"
   ]
  },
  {
   "cell_type": "code",
   "execution_count": 49,
   "id": "52ac82db",
   "metadata": {},
   "outputs": [
    {
     "name": "stdout",
     "output_type": "stream",
     "text": [
      "&&&&\n",
      "&&&\n",
      "&&\n",
      "&\n"
     ]
    }
   ],
   "source": [
    "for i in range(4,0,-1):\n",
    "    print(\"&\"*i)"
   ]
  },
  {
   "cell_type": "markdown",
   "id": "2acd8fa1",
   "metadata": {},
   "source": [
    "# Python Sets\n",
    "\n",
    "In Python, a Set is an unordered collection of data items that are unique. In other words, Python Set is a collection of elements (Or objects) that contains no duplicate elements\n",
    "![](https://pynative.com/wp-content/uploads/2021/03/python-sets.jpg)\n",
    "\n",
    "**Note**: Unlike List, Python Set doesn’t maintain the order of elements, i.e., It is an unordered data set. So you cannot access elements by their index or perform insert operation using an index number\n",
    "\n",
    "[To Learn more and practice](https://pynative.com/python-sets/)"
   ]
  },
  {
   "cell_type": "code",
   "execution_count": 34,
   "id": "0eef6f4c",
   "metadata": {},
   "outputs": [
    {
     "data": {
      "text/plain": [
       "set"
      ]
     },
     "execution_count": 34,
     "metadata": {},
     "output_type": "execute_result"
    }
   ],
   "source": [
    "type({1,2,3,4,5})"
   ]
  },
  {
   "cell_type": "code",
   "execution_count": 36,
   "id": "a371a886",
   "metadata": {},
   "outputs": [
    {
     "data": {
      "text/plain": [
       "{1, 2, 3, 4, 5}"
      ]
     },
     "execution_count": 36,
     "metadata": {},
     "output_type": "execute_result"
    }
   ],
   "source": [
    "{1,2,3,4,5,5,1,1,1,1,1}"
   ]
  },
  {
   "cell_type": "code",
   "execution_count": 32,
   "id": "433cbcbf",
   "metadata": {},
   "outputs": [
    {
     "data": {
      "text/plain": [
       "{1, 2, 4}"
      ]
     },
     "execution_count": 32,
     "metadata": {},
     "output_type": "execute_result"
    }
   ],
   "source": [
    "## Sets\n",
    "\n",
    "set([1,2,4])"
   ]
  },
  {
   "cell_type": "markdown",
   "id": "dea6e4ad",
   "metadata": {},
   "source": [
    "## Set operations\n",
    "\n",
    "- Union denoted by `|`\n",
    "- Intersection denoted by `&`\n",
    "- Difference denoted by `-`"
   ]
  },
  {
   "cell_type": "code",
   "execution_count": 40,
   "id": "99b05ec2",
   "metadata": {},
   "outputs": [
    {
     "name": "stdout",
     "output_type": "stream",
     "text": [
      "{'Den', 'India', 'Aus', 'Turk'}\n",
      "{'italy', 'India', 'Aus'}\n",
      "{'India', 'Aus'}\n",
      "{'India', 'Aus', 'Den', 'italy', 'Turk'}\n"
     ]
    }
   ],
   "source": [
    "a = set([\"India\", \"India\", \"Aus\", \"Den\", \"Turk\", \"Den\", \"Aus\"])\n",
    "b =  set([\"India\", \"India\", \"Aus\", \"italy\"])\n",
    "print(a)\n",
    "print(b)\n",
    "print(a&b) ## Intersection\n",
    "print(a|b) ## Union"
   ]
  },
  {
   "cell_type": "markdown",
   "id": "8996eac2",
   "metadata": {},
   "source": [
    "# Introduction to Python Dictionary"
   ]
  },
  {
   "cell_type": "code",
   "execution_count": 52,
   "id": "733ec5cf",
   "metadata": {},
   "outputs": [
    {
     "data": {
      "text/plain": [
       "35.75"
      ]
     },
     "execution_count": 52,
     "metadata": {},
     "output_type": "execute_result"
    }
   ],
   "source": [
    "d = {\"A\": 35.75}\n",
    "d[\"A\"]"
   ]
  },
  {
   "cell_type": "code",
   "execution_count": 54,
   "id": "89a4258e",
   "metadata": {},
   "outputs": [
    {
     "data": {
      "text/plain": [
       "{'A': 22}"
      ]
     },
     "execution_count": 54,
     "metadata": {},
     "output_type": "execute_result"
    }
   ],
   "source": [
    "d = {\"A\": 35.75, \"A\": 22}\n",
    "d"
   ]
  },
  {
   "cell_type": "code",
   "execution_count": 57,
   "id": "75670c20",
   "metadata": {},
   "outputs": [
    {
     "data": {
      "text/plain": [
       "{'A': 1}"
      ]
     },
     "execution_count": 57,
     "metadata": {},
     "output_type": "execute_result"
    }
   ],
   "source": [
    "d[\"A\"] = 1\n",
    "d"
   ]
  },
  {
   "cell_type": "code",
   "execution_count": 60,
   "id": "f64b474b",
   "metadata": {},
   "outputs": [
    {
     "data": {
      "text/plain": [
       "dict"
      ]
     },
     "execution_count": 60,
     "metadata": {},
     "output_type": "execute_result"
    }
   ],
   "source": [
    "d={}\n",
    "type(d)"
   ]
  },
  {
   "cell_type": "code",
   "execution_count": 62,
   "id": "9485d84a",
   "metadata": {},
   "outputs": [
    {
     "name": "stdout",
     "output_type": "stream",
     "text": [
      "Jessa\n",
      "Jessa\n"
     ]
    }
   ],
   "source": [
    "person = {\"name\": \"Jessa\", \"country\": \"USA\", \"telephone\": 1178}\n",
    "print(person[\"name\"])\n",
    "print(person.get(\"name\"))"
   ]
  },
  {
   "cell_type": "code",
   "execution_count": 63,
   "id": "bf93da1d",
   "metadata": {},
   "outputs": [
    {
     "name": "stdout",
     "output_type": "stream",
     "text": [
      "dict_keys(['name', 'country', 'telephone'])\n",
      "dict_values(['Jessa', 'USA', 1178])\n",
      "dict_items([('name', 'Jessa'), ('country', 'USA'), ('telephone', 1178)])\n"
     ]
    }
   ],
   "source": [
    "print(person.keys())\n",
    "print(person.values())\n",
    "print(person.items())"
   ]
  },
  {
   "cell_type": "code",
   "execution_count": 66,
   "id": "cdfea889",
   "metadata": {},
   "outputs": [
    {
     "name": "stdout",
     "output_type": "stream",
     "text": [
      "80\n",
      "50\n"
     ]
    }
   ],
   "source": [
    "x,y = (80,50)\n",
    "print(x)\n",
    "print(y)"
   ]
  },
  {
   "cell_type": "code",
   "execution_count": 68,
   "id": "37d1bfa4",
   "metadata": {},
   "outputs": [
    {
     "name": "stdout",
     "output_type": "stream",
     "text": [
      "name\n",
      "country\n",
      "telephone\n"
     ]
    }
   ],
   "source": [
    "for k,v in person.items():\n",
    "#     key,value = k\n",
    "    print(k)"
   ]
  },
  {
   "cell_type": "code",
   "execution_count": 69,
   "id": "49596cda",
   "metadata": {},
   "outputs": [
    {
     "data": {
      "text/plain": [
       "{'name': 'Jessa', 'country': 'USA', 'telephone': 1178, 'weight': 60, 'age': 23}"
      ]
     },
     "execution_count": 69,
     "metadata": {},
     "output_type": "execute_result"
    }
   ],
   "source": [
    "person = {\"name\": \"Jessa\", 'country': \"USA\", \"telephone\": 1178}\n",
    "person[\"weight\"] = 60\n",
    "person[\"age\"] = 23\n",
    "person"
   ]
  }
 ],
 "metadata": {
  "kernelspec": {
   "display_name": "Python 3",
   "language": "python",
   "name": "python3"
  },
  "language_info": {
   "codemirror_mode": {
    "name": "ipython",
    "version": 3
   },
   "file_extension": ".py",
   "mimetype": "text/x-python",
   "name": "python",
   "nbconvert_exporter": "python",
   "pygments_lexer": "ipython3",
   "version": "3.8.8"
  },
  "toc": {
   "base_numbering": 1,
   "nav_menu": {},
   "number_sections": true,
   "sideBar": true,
   "skip_h1_title": false,
   "title_cell": "Table of Contents",
   "title_sidebar": "Contents",
   "toc_cell": false,
   "toc_position": {},
   "toc_section_display": true,
   "toc_window_display": true
  }
 },
 "nbformat": 4,
 "nbformat_minor": 5
}
