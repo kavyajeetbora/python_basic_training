{
 "cells": [
  {
   "cell_type": "markdown",
   "id": "58483dd3",
   "metadata": {},
   "source": [
    "# Python Regex \n",
    "\n",
    "A RegEx, or Regular Expression, is a sequence of characters that forms a search pattern.\n",
    "\n",
    "RegEx can be used to check if a string contains the specified search pattern.\n",
    "\n",
    "Python has a built-in package called re, which can be used to work with Regular Expressions.\n",
    "\n",
    "Import the re module:"
   ]
  },
  {
   "cell_type": "code",
   "execution_count": 31,
   "id": "1cb69d18",
   "metadata": {},
   "outputs": [
    {
     "data": {
      "text/plain": [
       "['e', 'e']"
      ]
     },
     "execution_count": 31,
     "metadata": {},
     "output_type": "execute_result"
    }
   ],
   "source": [
    "import re\n",
    "\n",
    "# Simple example\n",
    "# To search for all 'e' character in the given string:\n",
    "string = \"expression\"\n",
    "pattern = r\"e\"\n",
    "re.findall(pattern, string)"
   ]
  },
  {
   "cell_type": "markdown",
   "id": "6a4eee21",
   "metadata": {},
   "source": [
    "**Important note**:\n",
    "\n",
    "When setting the regex pattern to a variable, it is important to assign it as **raw string**: To denote raw string:\n",
    "\n",
    "```python\n",
    "\n",
    "variable = r\"this is a raw string. special characters are not escaped\"\n",
    "```\n",
    "Python raw string is created by prefixing a string literal with ‘r’ or ‘R’. Python raw string treats backslash (\\) as a literal character. This is useful when we want to have a string that contains backslash and don’t want it to be treated as an escape character like in the case of regex where we will be using a lot of backslash to search for patterns.\n",
    "\n",
    "for example:"
   ]
  },
  {
   "cell_type": "code",
   "execution_count": 169,
   "id": "0808515e",
   "metadata": {},
   "outputs": [
    {
     "name": "stdout",
     "output_type": "stream",
     "text": [
      "Hi\n",
      "Hello\n",
      "----------\n",
      "Hi\\nHello\n"
     ]
    }
   ],
   "source": [
    "## String assigned as normal text\n",
    "s = 'Hi\\nHello'\n",
    "print(s)\n",
    "\n",
    "print(\"-\"*10)\n",
    "## String assigned as raw string\n",
    "s = r'Hi\\nHello'\n",
    "print(s)"
   ]
  },
  {
   "cell_type": "code",
   "execution_count": 32,
   "id": "681a8590",
   "metadata": {},
   "outputs": [
    {
     "name": "stdout",
     "output_type": "stream",
     "text": [
      "['Spain', 'Spain']\n"
     ]
    }
   ],
   "source": [
    "txt = \"The rain in Spain. Spain is near France.\"\n",
    "x = re.findall(r\"Spain\", txt)\n",
    "print(x)"
   ]
  },
  {
   "cell_type": "markdown",
   "id": "f4d56d7d",
   "metadata": {},
   "source": [
    "So in regex mostly we give a pattern and the pattern searched over a given string. In next part we will explore the patterns and functions in regex:"
   ]
  },
  {
   "cell_type": "markdown",
   "id": "2474e046",
   "metadata": {},
   "source": [
    "## Patterns\n",
    "1. **Metacharacters**\n",
    "\n",
    "List of pattern also known as metacharacters:\n",
    "![](https://www.engineeringbigdata.com/wp-content/uploads/python-regular-expression-regex-metacharacters-meanings.jpg)\n",
    "\n",
    "2. **Special sequences**\n",
    "\n",
    "A special sequence is a \\ followed by one of the characters in the list below, and has a special meaning:\n",
    "![](https://www.engineeringbigdata.com/wp-content/uploads/python-regular-expression-regex-special-sequences.jpg)\n",
    "\n",
    "3. **Sets**\n",
    "\n",
    "A set is a set of characters inside a pair of square brackets [] with a special meaning:\n",
    "![](https://149695847.v2.pressablecdn.com/wp-content/uploads/2021/06/image-8.png)"
   ]
  },
  {
   "cell_type": "markdown",
   "id": "0525e441",
   "metadata": {},
   "source": [
    "## Functions in regex\n",
    "\n",
    "Functions in regex module:\n",
    "\n",
    "1. `findall`: Returns a list containing all matches\n",
    "2. `search`: Returns a Match object if there is a match anywhere in the string\n",
    "3. `split`: Returns a list where the string has been split at each match\n",
    "4. `sub`: Replaces one or many matches with a string\n",
    "\n"
   ]
  },
  {
   "cell_type": "markdown",
   "id": "435abc76",
   "metadata": {},
   "source": [
    "## `findall()` with different patterns\n",
    "\n",
    "Finding all types of matches using a pattern. Here we will also explore different different patterns:"
   ]
  },
  {
   "cell_type": "code",
   "execution_count": 156,
   "id": "3aef3350",
   "metadata": {},
   "outputs": [
    {
     "name": "stdout",
     "output_type": "stream",
     "text": [
      "['ai', 'ai']\n"
     ]
    }
   ],
   "source": [
    "txt = \"The rain in Spain\"\n",
    "x = re.findall(r\"ai\", txt)\n",
    "print(x)"
   ]
  },
  {
   "cell_type": "code",
   "execution_count": 157,
   "id": "83259972",
   "metadata": {},
   "outputs": [
    {
     "name": "stdout",
     "output_type": "stream",
     "text": [
      "[]\n"
     ]
    }
   ],
   "source": [
    "## returns an empty list if the pattern is not found:\n",
    "txt = \"The rain in Spain\"\n",
    "x = re.findall(r\"Portugal\", txt)\n",
    "print(x)"
   ]
  },
  {
   "cell_type": "markdown",
   "id": "7924074a",
   "metadata": {},
   "source": [
    "This pattern bellow only looks for word characters in the string"
   ]
  },
  {
   "cell_type": "code",
   "execution_count": 35,
   "id": "69f6fda6",
   "metadata": {},
   "outputs": [
    {
     "name": "stdout",
     "output_type": "stream",
     "text": [
      "['e', 'x', 'p', 'r', 'e', 's', 's', 'i', 'o', 'n', 'g', 'm', 'a', 'i', 'l', 'c', 'o', 'm', 'T', 'h', 'e', 's', 'e', 'a', 'r', 'c', 'h', 'p', 'r', 'o', 'c', 'e', 'e', 'd', 's', 't', 'h', 'r', 'o', 'u', 'g', 'h', 't', 'h', 'e', 's', 't', 'r', 'i', 'n', 'g', 'f', 'r', 'o', 'm', 's', 't', 'a', 'r', 't', 't', 'o', 'e', 'n', 'd', 's', 't', 'o', 'p', 'p', 'i', 'n', 'g', 'a', 't', 't', 'h', 'e', 'f', 'i', 'r', 's', 't', 'm', 'a', 't', 'c', 'h', 'f', 'o', 'u', 'n', 'd']\n"
     ]
    }
   ],
   "source": [
    "string = \"expression@gmail.com The search proceeds through the string from start to end, stopping at the first match found\"\n",
    "pattern = r\"\\w\"\n",
    "print(re.findall(pattern, string))"
   ]
  },
  {
   "cell_type": "markdown",
   "id": "9114405f",
   "metadata": {},
   "source": [
    "To look for all words in a given string, we provide a `+` character meaning denoting word character followed by one or more word character:\n",
    "\n",
    "Refer table 1 in [patterns section](#Patterns)"
   ]
  },
  {
   "cell_type": "code",
   "execution_count": 36,
   "id": "795298a6",
   "metadata": {},
   "outputs": [
    {
     "name": "stdout",
     "output_type": "stream",
     "text": [
      "['expression', 'gmail', 'com', 'The', 'search', 'proceeds', 'through', 'the', 'string', 'from', 'start', 'to', 'end', 'stopping', 'at', 'the', 'first', 'match', 'found']\n"
     ]
    }
   ],
   "source": [
    "string = \"expression@gmail.com The search proceeds through the string from start to end, stopping at the first match found\"\n",
    "pattern = r\"\\w+\"\n",
    "print(re.findall(pattern, string))"
   ]
  },
  {
   "cell_type": "markdown",
   "id": "54d8aeef",
   "metadata": {},
   "source": [
    "Similarly we can search for digit or digits:"
   ]
  },
  {
   "cell_type": "code",
   "execution_count": 37,
   "id": "2bd27ad4",
   "metadata": {},
   "outputs": [
    {
     "data": {
      "text/plain": [
       "['9', '9', '9', '9', '9', '9', '9', '9', '9', '9']"
      ]
     },
     "execution_count": 37,
     "metadata": {},
     "output_type": "execute_result"
    }
   ],
   "source": [
    "string = \"9999 The search proceeds through 999 the string from start to end, 999 stopping at the first match found\"\n",
    "pattern = r\"\\d\"\n",
    "re.findall(pattern, string)"
   ]
  },
  {
   "cell_type": "markdown",
   "id": "ff0024ff",
   "metadata": {},
   "source": [
    "To find all the numbers in a given string:"
   ]
  },
  {
   "cell_type": "code",
   "execution_count": 38,
   "id": "ec7ac360",
   "metadata": {},
   "outputs": [
    {
     "data": {
      "text/plain": [
       "['9999', '999', '999']"
      ]
     },
     "execution_count": 38,
     "metadata": {},
     "output_type": "execute_result"
    }
   ],
   "source": [
    "string = \"9999 The search proceeds through 999 the string from start to end, 999 stopping at the first match found\"\n",
    "pattern = r\"\\d+\"\n",
    "re.findall(pattern, string)"
   ]
  },
  {
   "cell_type": "markdown",
   "id": "dde92066",
   "metadata": {},
   "source": [
    "To find all the numbers in the random string:"
   ]
  },
  {
   "cell_type": "code",
   "execution_count": 155,
   "id": "035b22a6",
   "metadata": {},
   "outputs": [
    {
     "data": {
      "text/plain": [
       "['45', '2000', '1', '10', '32', '1', '10', '33', '45', '1', '10', '32']"
      ]
     },
     "execution_count": 155,
     "metadata": {},
     "output_type": "execute_result"
    }
   ],
   "source": [
    "string = '''\n",
    "Contrary to popular belief, Lorem Ipsum is not simply random text. \n",
    "It has roots in a piece of classical Latin literature from 45 BC, making it over 2000 years old. \n",
    "Richard McClintock, a Latin professor at Hampden-Sydney College in Virginia, looked up one of the more obscure \n",
    "Latin words, consectetur, from a Lorem Ipsum passage, and going through the cites of the word in classical literature, \n",
    "discovered the undoubtable source. Lorem Ipsum comes from sections 1.10.32 and 1.10.33 of \"de Finibus Bonorum et \n",
    "Malorum\" (The Extremes of Good and Evil) by Cicero, written in 45 BC. This book is a treatise on the theory of ethics, \n",
    "very popular during the Renaissance. The first line of Lorem Ipsum, \"Lorem ipsum dolor sit amet..\", \n",
    "comes from a line in section 1.10.32\n",
    "'''\n",
    "\n",
    "pattern = r\"\\d+\"\n",
    "re.findall(pattern, string)"
   ]
  },
  {
   "cell_type": "markdown",
   "id": "a8ec9034",
   "metadata": {},
   "source": [
    "Only look for numbers that are of 3 digits only:\n",
    "\n",
    "`\\d` in regular expressions means match any digit, and the `{n}` construct means repeat the previous item `n` times"
   ]
  },
  {
   "cell_type": "code",
   "execution_count": 170,
   "id": "27da3b34",
   "metadata": {},
   "outputs": [
    {
     "data": {
      "text/plain": [
       "['999', '967', '999', '999']"
      ]
     },
     "execution_count": 170,
     "metadata": {},
     "output_type": "execute_result"
    }
   ],
   "source": [
    "string = \"9999676 8 The search proceeds through 999 the string from start to end, 999 stopping at the first match found\"\n",
    "pattern = r\"\\d{3}\"\n",
    "re.findall(pattern, string)"
   ]
  },
  {
   "cell_type": "markdown",
   "id": "680d6b1c",
   "metadata": {},
   "source": [
    "This will only take the first 3 digits of a number even if that number is 10 digits. If you want to have only numbers exactly equal to 3 digits then use `\\b` boundary character the ends of pattern like this:"
   ]
  },
  {
   "cell_type": "code",
   "execution_count": 172,
   "id": "228f15df",
   "metadata": {},
   "outputs": [
    {
     "data": {
      "text/plain": [
       "['999', '999']"
      ]
     },
     "execution_count": 172,
     "metadata": {},
     "output_type": "execute_result"
    }
   ],
   "source": [
    "string = \"9999676 8 The search proceeds through 999 the string from start to end, 999 stopping at the first match found\"\n",
    "pattern = r\"\\b\\d{3}\\b\"\n",
    "re.findall(pattern, string)"
   ]
  },
  {
   "cell_type": "markdown",
   "id": "fbcc8da3",
   "metadata": {},
   "source": [
    "You can refer to this [post](https://stackoverflow.com/a/62117048/6819442) explaning how the `\\b` boundary works in regex.\n",
    "\n",
    "Now find the digits 1-3 digits long:"
   ]
  },
  {
   "cell_type": "code",
   "execution_count": 174,
   "id": "fe6c3134",
   "metadata": {},
   "outputs": [
    {
     "data": {
      "text/plain": [
       "['999', '9', '22', '999', '999']"
      ]
     },
     "execution_count": 174,
     "metadata": {},
     "output_type": "execute_result"
    }
   ],
   "source": [
    "string = \"9999 The 22 search proceeds through 999 the string from start to end, 999 stopping at the first match found\"\n",
    "pattern = r\"\\d{1,3}\"\n",
    "re.findall(pattern, string)"
   ]
  },
  {
   "cell_type": "markdown",
   "id": "6c3f47c1",
   "metadata": {},
   "source": [
    "List down all the small letter words only:\n",
    "\n",
    "Then use `[a-z]` pattern for it. Note that letters in the pattern are smallcase:"
   ]
  },
  {
   "cell_type": "code",
   "execution_count": 173,
   "id": "6b11b7b1",
   "metadata": {},
   "outputs": [
    {
     "name": "stdout",
     "output_type": "stream",
     "text": [
      "['ow', 'is', 'the', 'winter', 'of', 'our', 'discontent', 'ade', 'glorious', 'summer', 'by', 'this', 'sun', 'of', 'ork', 'nd', 'all', 'the', 'clouds', 'that', 'lour', 'd', 'upon', 'our', 'house', 'n', 'the', 'deep', 'bosom', 'of', 'the', 'ocean', 'buried', 'ow', 'are', 'our', 'brows', 'bound', 'with', 'victorious', 'wreaths', 'ur', 'bruised', 'arms', 'hung', 'up', 'for', 'monuments', 'ur', 'stern', 'alarums', 'changed', 'to', 'merry', 'meetings', 'ur', 'dreadful', 'marches', 'to', 'delightful', 'measures', 'rim', 'visaged', 'war', 'hath', 'smooth', 'd', 'his', 'wrinkled', 'front', 'nd', 'now', 'instead', 'of', 'mounting', 'barded', 'steeds', 'o', 'fright', 'the', 'souls', 'of', 'fearful', 'adversaries', 'e', 'capers', 'nimbly', 'in', 'a', 'lady', 's', 'chamber', 'o', 'the', 'lascivious', 'pleasing', 'of', 'a', 'lute', 'ut', 'that', 'am', 'not', 'shaped', 'for', 'sportive', 'tricks', 'or', 'made', 'to', 'court', 'an', 'amorous', 'looking', 'glass', 'that', 'am', 'rudely', 'stamp', 'd', 'and', 'want', 'love', 's', 'majesty', 'o', 'strut', 'before', 'a', 'wanton', 'ambling', 'nymph', 'that', 'am', 'curtail', 'd', 'of', 'this', 'fair', 'proportion']\n"
     ]
    }
   ],
   "source": [
    "string = '''\n",
    "Now is the winter of our discontent\\nMade glorious summer by this sun of York;\\nAnd all the clouds that lour'd upon our house\\nIn the deep bosom of the ocean buried.\\nNow are our brows bound with victorious wreaths;\\nOur bruised arms hung up for monuments;\\nOur stern alarums changed to merry meetings,\\nOur dreadful marches to delightful measures.\\nGrim-visaged war hath smooth'd his wrinkled front;\\nAnd now, instead of mounting barded steeds\\nTo fright the souls of fearful adversaries,\\nHe capers nimbly in a lady's chamber\\nTo the lascivious pleasing of a lute.\\nBut I, that am not shaped for sportive tricks,\\nNor made to court an amorous looking-glass;\\nI, that am rudely stamp'd, and want love's majesty\\nTo strut before a wanton ambling nymph;\\nI, that am curtail'd of this fair proportion,\n",
    "'''\n",
    "pattern = r\"[a-z]+\"\n",
    "print(re.findall(pattern, string))"
   ]
  },
  {
   "cell_type": "markdown",
   "id": "2ebdde68",
   "metadata": {},
   "source": [
    "Capital letters:"
   ]
  },
  {
   "cell_type": "code",
   "execution_count": 175,
   "id": "d6861c76",
   "metadata": {},
   "outputs": [
    {
     "data": {
      "text/plain": [
       "['E', 'T', 'P', 'T', 'S', 'F']"
      ]
     },
     "execution_count": 175,
     "metadata": {},
     "output_type": "execute_result"
    }
   ],
   "source": [
    "string = \"Expression@gmail.com The search Proceeds Through the String From start to end, stopping at the first match found\"\n",
    "pattern = r\"[A-Z]+\"\n",
    "re.findall(pattern, string)"
   ]
  },
  {
   "cell_type": "markdown",
   "id": "3b7cf7f2",
   "metadata": {},
   "source": [
    "To search for capital letters \"E\" **or** \"P\""
   ]
  },
  {
   "cell_type": "code",
   "execution_count": 176,
   "id": "fb4f6c8f",
   "metadata": {},
   "outputs": [
    {
     "data": {
      "text/plain": [
       "['E', 'P']"
      ]
     },
     "execution_count": 176,
     "metadata": {},
     "output_type": "execute_result"
    }
   ],
   "source": [
    "string = \"Expression@gmail.com The search Proceeds Through the String From start to end, stopping at the first match found\"\n",
    "pattern = r\"[EP]\"\n",
    "re.findall(pattern, string)"
   ]
  },
  {
   "cell_type": "markdown",
   "id": "09660385",
   "metadata": {},
   "source": [
    "To extract email ids from a string:"
   ]
  },
  {
   "cell_type": "code",
   "execution_count": 165,
   "id": "911a9415",
   "metadata": {},
   "outputs": [
    {
     "data": {
      "text/plain": [
       "['Expressio123n@gmail.com',\n",
       " 'Expression@yahoo.com',\n",
       " 'Expression@hotmail.com',\n",
       " 'Expression@ramboll.com']"
      ]
     },
     "execution_count": 165,
     "metadata": {},
     "output_type": "execute_result"
    }
   ],
   "source": [
    "string = '''\n",
    "Expressio123n@gmail.com The search Proceeds Through the String From start to end, stopping at the first match found.\n",
    "\n",
    "Expression@yahoo.com\n",
    "Expression@hotmail.com\n",
    "Expression@ramboll.com\n",
    "\n",
    "'''\n",
    "pattern = r\"[\\w]+@[\\w]+.com\"\n",
    "re.findall(pattern, string)"
   ]
  },
  {
   "cell_type": "code",
   "execution_count": 166,
   "id": "a8998524",
   "metadata": {},
   "outputs": [
    {
     "data": {
      "text/plain": [
       "['Expressio123n@gmail.com',\n",
       " 'Expression@yahoo.com',\n",
       " 'Expression@hotmail.com',\n",
       " 'Expression@ramboll.com']"
      ]
     },
     "execution_count": 166,
     "metadata": {},
     "output_type": "execute_result"
    }
   ],
   "source": [
    "string = '''\n",
    "Expressio123n@gmail.com The search Proceeds Through the String From start to end, stopping at the first match found.\n",
    "\n",
    "Expression@yahoo.com\n",
    "Expression@hotmail.com\n",
    "Expression@ramboll.com\n",
    "\n",
    "'''\n",
    "pattern = r\"[\\w]+@[\\w]+.com\"\n",
    "re.findall(pattern, string)"
   ]
  },
  {
   "cell_type": "markdown",
   "id": "77ebd27f",
   "metadata": {},
   "source": [
    "To extract valid mobile numbers from the given string:"
   ]
  },
  {
   "cell_type": "code",
   "execution_count": 185,
   "id": "efee4861",
   "metadata": {},
   "outputs": [
    {
     "data": {
      "text/plain": [
       "['91-1234567890', '91-1234567890', '91-1234567890']"
      ]
     },
     "execution_count": 185,
     "metadata": {},
     "output_type": "execute_result"
    }
   ],
   "source": [
    "pattern = r\"\\b[\\d]{2}-\\d{10}\\b\"\n",
    "\n",
    "string = '''\n",
    "Expressio123n@gmail.com The search Proceeds Through the String From start to end, stopping at the first match found.\n",
    "\n",
    "Expression@yahoo.com\n",
    "Expression@hotmail.com\n",
    "Expression@ramboll.com\n",
    "\n",
    "+91-1234567890 - valid number\n",
    "\n",
    "+911214-1234567890 - invalid number\n",
    "+91-1234567890 - this one is valid\n",
    "+91-1234567890 - this one is valid\n",
    "+91-1234569999231204812 - invalid number\n",
    "'''\n",
    "re.findall(pattern, string)"
   ]
  },
  {
   "cell_type": "markdown",
   "id": "04fb78cb",
   "metadata": {},
   "source": [
    "To practice more on this go this [site](https://regex101.com/) where you can test your pattern in a given string in real-time:\n",
    "![](https://regex101.com/static/assets/card.png)"
   ]
  },
  {
   "cell_type": "markdown",
   "id": "83df9496",
   "metadata": {},
   "source": [
    "# File handling with python\n",
    "\n",
    "File handling is an important part of any web application.\n",
    "\n",
    "Python has several functions for creating, reading, updating, and deleting files.\n",
    "\n",
    "[More on this site](https://www.w3schools.com/python/python_file_handling.asp)"
   ]
  },
  {
   "cell_type": "markdown",
   "id": "b7ee71d8",
   "metadata": {},
   "source": [
    "## Reading a file\n",
    "\n",
    "The key function for working with files in Python is the open() function.\n",
    "\n",
    "The `open()` function takes two parameters; `filename` and `mode`.\n",
    "\n",
    "There are four different methods (modes) for opening a file:\n",
    "- `r` - Read - Default value. Opens a file for reading, error if the file does not exist\n",
    "- `a` - Append - Opens a file for appending, creates the file if it does not exist\n",
    "- `w` - Write - Opens a file for writing, creates the file if it does not exist\n",
    "- `x` - Create - Creates the specified file, returns an error if the file exists\n",
    "\n",
    "In addition you can specify if the file should be handled as binary or text mode\n",
    "- `t` - Text - Default value. Text mode\n",
    "- `b` - Binary - Binary mode (e.g. images)"
   ]
  },
  {
   "cell_type": "code",
   "execution_count": 62,
   "id": "9203c17c",
   "metadata": {},
   "outputs": [
    {
     "data": {
      "text/plain": [
       "['.ipynb_checkpoints',\n",
       " '01_python_basics.ipynb',\n",
       " '02_python_basics.ipynb',\n",
       " '03_python_basics.ipynb',\n",
       " '04_python_basics.ipynb',\n",
       " '05-regular_expression_and_files.ipynb',\n",
       " '06-numpy.ipynb',\n",
       " 'attendance',\n",
       " 'attendance.xlsx',\n",
       " 'calc.py',\n",
       " 'example_module.py',\n",
       " 'functions.py',\n",
       " 'google-python-exercises',\n",
       " 'untitled.txt',\n",
       " '__pycache__']"
      ]
     },
     "execution_count": 62,
     "metadata": {},
     "output_type": "execute_result"
    }
   ],
   "source": [
    "## To list down the files in the current directory:\n",
    "import os\n",
    "os.listdir()"
   ]
  },
  {
   "cell_type": "markdown",
   "id": "8b5216a6",
   "metadata": {},
   "source": [
    "### Syntax\n",
    "\n",
    "```python\n",
    "file = open(\"untitled.txt\", \"r\")\n",
    "```"
   ]
  },
  {
   "cell_type": "markdown",
   "id": "b17ea415",
   "metadata": {},
   "source": [
    "To open the file, use the built-in `open()` function.\n",
    "\n",
    "The `open()` function returns a file object, which has a `read()` method for reading the content of the file (**character by character**)"
   ]
  },
  {
   "cell_type": "code",
   "execution_count": 71,
   "id": "f7c7baed",
   "metadata": {},
   "outputs": [
    {
     "name": "stdout",
     "output_type": "stream",
     "text": [
      "Hello! Welcome to demofile.txt\n",
      "This file is for testing purposes.\n",
      "Good Luck!\n"
     ]
    }
   ],
   "source": [
    "f = open(\"demo_file.txt\", \"r\")\n",
    "print(f.read())\n",
    "f.close()"
   ]
  },
  {
   "cell_type": "markdown",
   "id": "5201e1b9",
   "metadata": {},
   "source": [
    "It is a good practice to always close the file when you are done with it."
   ]
  },
  {
   "cell_type": "markdown",
   "id": "04e65129",
   "metadata": {},
   "source": [
    "If the file is located in a different location, you will have to specify the file path, like this:\n",
    "\n",
    "```python\n",
    "f = open(\"D:\\\\myfiles\\welcome.txt\", \"r\")\n",
    "print(f.read())\n",
    "f.close()\n",
    "```"
   ]
  },
  {
   "cell_type": "markdown",
   "id": "19614dc5",
   "metadata": {},
   "source": [
    "### Read only parts of the file\n",
    "\n",
    "By default the `read()` method returns the whole text, but you can also specify how many characters you want to return\n",
    "\n",
    "Return the 5 first characters of the file: demo_file.txt\n",
    "\n",
    "```\n",
    "Hello! Welcome to demofile.txt\n",
    "This file is for testing purposes.\n",
    "Good Luck!\n",
    "```"
   ]
  },
  {
   "cell_type": "code",
   "execution_count": 73,
   "id": "355f108c",
   "metadata": {},
   "outputs": [
    {
     "name": "stdout",
     "output_type": "stream",
     "text": [
      "Hello\n"
     ]
    }
   ],
   "source": [
    "f = open(\"demo_file.txt\", \"r\")\n",
    "print(f.read(5))\n",
    "f.close()"
   ]
  },
  {
   "cell_type": "code",
   "execution_count": 77,
   "id": "b4396998",
   "metadata": {},
   "outputs": [
    {
     "name": "stdout",
     "output_type": "stream",
     "text": [
      "Now is the winter of our discontent\n",
      "Made glorious summer by this sun of York;\n",
      "And all the clouds that lour'd upon our house\n",
      "In the deep bosom of the ocean buried.\n",
      "Now are our brows bound with victorious wreaths;\n",
      "Our bruised arms hung up for monuments;\n",
      "Our stern alarums changed to merry meetings,\n",
      "Our dreadful marches to delightful measures.\n",
      "Grim-visaged war hath smooth'd his wrinkled front;\n",
      "And now, instead of mounting barded steeds\n",
      "To fright the souls of fearful adversaries,\n",
      "He capers nimbly in a lady's chamber\n",
      "To the lascivious pleasing of a lute.\n",
      "But I, that am not shaped for sportive tricks,\n",
      "Nor made to court an amorous looking-glass;\n",
      "I, that am rudely stamp'd, and want love's majesty\n",
      "To strut before a wanton ambling nymph;\n",
      "I, that am curtail'd of this fair proportion,\n",
      "\n",
      "This is a new line\n"
     ]
    }
   ],
   "source": [
    "file = open(\"untitled.txt\", \"r\")\n",
    "txt = file.read()\n",
    "print(txt)\n",
    "file.close()"
   ]
  },
  {
   "cell_type": "markdown",
   "id": "65c43f46",
   "metadata": {},
   "source": [
    "### Read a line\n",
    "\n",
    "You can return one line by using the `readline()` method:"
   ]
  },
  {
   "cell_type": "code",
   "execution_count": 79,
   "id": "61b1c3e6",
   "metadata": {},
   "outputs": [
    {
     "name": "stdout",
     "output_type": "stream",
     "text": [
      "Hello! Welcome to demofile.txt\n",
      "\n"
     ]
    }
   ],
   "source": [
    "f = open(\"demo_file.txt\", \"r\")\n",
    "print(f.readline())\n",
    "f.close()"
   ]
  },
  {
   "cell_type": "markdown",
   "id": "7708b09c",
   "metadata": {},
   "source": [
    "By calling `readline()` two times, you can read the two first lines:"
   ]
  },
  {
   "cell_type": "code",
   "execution_count": 80,
   "id": "7640c333",
   "metadata": {},
   "outputs": [
    {
     "name": "stdout",
     "output_type": "stream",
     "text": [
      "Hello! Welcome to demofile.txt\n",
      "\n",
      "This file is for testing purposes.\n",
      "\n"
     ]
    }
   ],
   "source": [
    "f = open(\"demo_file.txt\", \"r\")\n",
    "print(f.readline())\n",
    "print(f.readline())\n",
    "f.close()"
   ]
  },
  {
   "cell_type": "markdown",
   "id": "27d345e5",
   "metadata": {},
   "source": [
    "### Looping over the lines in a file\n",
    "\n",
    "Using `readlines()` method we can return all the lines in a list"
   ]
  },
  {
   "cell_type": "code",
   "execution_count": 95,
   "id": "a67cc8e0",
   "metadata": {},
   "outputs": [
    {
     "name": "stdout",
     "output_type": "stream",
     "text": [
      "Hello! Welcome to demofile.txt\n",
      "\n",
      "This file is for testing purposes.\n",
      "\n",
      "Good Luck!\n",
      "\n",
      "\n",
      "\n",
      "This is a new line\n"
     ]
    }
   ],
   "source": [
    "f = open(\"demo_file.txt\", \"r\")\n",
    "lines = f.readlines()\n",
    "for line in lines:\n",
    "    print(line)\n",
    "f.close()"
   ]
  },
  {
   "cell_type": "markdown",
   "id": "15746453",
   "metadata": {},
   "source": [
    "### Opening file using `with`\n",
    "\n",
    "`with` keyword can be used to open a file and this statement automatically closes the file outside of the `with` scope.\n",
    "\n",
    "So you don't have to type `file.close()` everytime you open a file:"
   ]
  },
  {
   "cell_type": "code",
   "execution_count": 92,
   "id": "68954036",
   "metadata": {},
   "outputs": [
    {
     "name": "stdout",
     "output_type": "stream",
     "text": [
      "Hello! Welcome to demofile.txt\n",
      "\n",
      "This file is for testing purposes.\n",
      "\n",
      "Good Luck!\n"
     ]
    }
   ],
   "source": [
    "with open(\"demo_file.txt\", \"r\") as file:\n",
    "    all_lines = file readlines()\n",
    "    for line in all_lines:\n",
    "        print(line)"
   ]
  },
  {
   "cell_type": "markdown",
   "id": "0190a67a",
   "metadata": {},
   "source": [
    "## Write/Create a file\n",
    "\n",
    "To write to an existing file, you must add a parameter to the `open()` function:\n",
    "\n",
    "`a` - Append - will append to the end of the file\n",
    "\n",
    "`w` - Write - will overwrite any existing content"
   ]
  },
  {
   "cell_type": "markdown",
   "id": "5121fe1b",
   "metadata": {},
   "source": [
    "### Appending lines to an existing file\n",
    "\n",
    "Open the file \"demofile2.txt\" and append content to the file:"
   ]
  },
  {
   "cell_type": "code",
   "execution_count": 93,
   "id": "f199d108",
   "metadata": {},
   "outputs": [],
   "source": [
    "with open(\"demo_file.txt\", \"a\") as file:\n",
    "    file.write(\"\\n\\nThis is a new line\")"
   ]
  },
  {
   "cell_type": "markdown",
   "id": "f2b3e908",
   "metadata": {},
   "source": [
    "Open the file and see the changes:"
   ]
  },
  {
   "cell_type": "code",
   "execution_count": 94,
   "id": "d3eab0cc",
   "metadata": {},
   "outputs": [
    {
     "name": "stdout",
     "output_type": "stream",
     "text": [
      "Hello! Welcome to demofile.txt\n",
      "\n",
      "This file is for testing purposes.\n",
      "\n",
      "Good Luck!\n",
      "\n",
      "\n",
      "\n",
      "This is a new line\n"
     ]
    }
   ],
   "source": [
    "with open(\"demo_file.txt\", \"r\") as file:\n",
    "    for line in file.readlines():\n",
    "        print(line)"
   ]
  },
  {
   "cell_type": "markdown",
   "id": "4ac5862b",
   "metadata": {},
   "source": [
    "But be cautious while using the mode. For example if you use `w` mode then the existing file's content will be overwritten:"
   ]
  },
  {
   "cell_type": "code",
   "execution_count": 97,
   "id": "d23076b0",
   "metadata": {},
   "outputs": [
    {
     "name": "stdout",
     "output_type": "stream",
     "text": [
      "\n",
      "\n",
      "\n",
      "\n",
      "This is a new line\n"
     ]
    }
   ],
   "source": [
    "with open(\"demo_file.txt\", \"w\") as file:\n",
    "    file.write(\"\\n\\nThis is a new line\")\n",
    "    \n",
    "with open(\"demo_file.txt\", \"r\") as file:\n",
    "    for line in file.readlines():\n",
    "        print(line)    "
   ]
  },
  {
   "cell_type": "markdown",
   "id": "5cb7febb",
   "metadata": {},
   "source": [
    "### Creating a new file\n",
    "\n",
    "To create a new file in Python, use the `open()` method, with one of the following parameters:\n",
    "\n",
    "`x` - Create - will create a file, returns an error if the file exist\n",
    "\n",
    "`a` - Append - will create a file if the specified file does not exist\n",
    "\n",
    "`w` - Write - will create a file if the specified file does not exist"
   ]
  },
  {
   "cell_type": "code",
   "execution_count": 99,
   "id": "c94151a2",
   "metadata": {},
   "outputs": [],
   "source": [
    "f = open(\"demofile4.txt\", \"x\")\n",
    "f.close()"
   ]
  },
  {
   "cell_type": "markdown",
   "id": "ddfd2e3b",
   "metadata": {},
   "source": [
    "open the new file created and see the contents"
   ]
  },
  {
   "cell_type": "code",
   "execution_count": 100,
   "id": "4cf1bb11",
   "metadata": {},
   "outputs": [],
   "source": [
    "f = open(\"myfile.txt\", \"w\")\n",
    "f.write(\"This is a new text\")\n",
    "f.close()"
   ]
  }
 ],
 "metadata": {
  "kernelspec": {
   "display_name": "Python 3",
   "language": "python",
   "name": "python3"
  },
  "language_info": {
   "codemirror_mode": {
    "name": "ipython",
    "version": 3
   },
   "file_extension": ".py",
   "mimetype": "text/x-python",
   "name": "python",
   "nbconvert_exporter": "python",
   "pygments_lexer": "ipython3",
   "version": "3.8.8"
  },
  "toc": {
   "base_numbering": 1,
   "nav_menu": {},
   "number_sections": true,
   "sideBar": true,
   "skip_h1_title": false,
   "title_cell": "Table of Contents",
   "title_sidebar": "Contents",
   "toc_cell": false,
   "toc_position": {},
   "toc_section_display": true,
   "toc_window_display": true
  }
 },
 "nbformat": 4,
 "nbformat_minor": 5
}
