{
 "cells": [
  {
   "cell_type": "markdown",
   "id": "83349aa4",
   "metadata": {},
   "source": [
    "<img src=\"https://i.morioh.com/2020/02/13/1b9be013bc43.jpg\" width=100 height=100 align=\"right\"/>\n",
    "\n",
    "**Outline**\n",
    "- Dictionaries\n",
    "- Functions and modules"
   ]
  },
  {
   "cell_type": "markdown",
   "id": "cfc38ab4",
   "metadata": {},
   "source": [
    "# Dictionary"
   ]
  },
  {
   "cell_type": "markdown",
   "id": "638d8865",
   "metadata": {},
   "source": [
    "## Introduction to Dictionaries \n",
    "- What are python dictionaries?\n",
    "\n",
    "Data structures are basically containers that store data in predefined layouts, optimized for certain operations — like apples in a box, ready for picking, like this:\n",
    "\n",
    "![](https://developers.google.com/static/edu/python/images/dict.png)"
   ]
  },
  {
   "cell_type": "markdown",
   "id": "8996eac2",
   "metadata": {},
   "source": [
    "## Creating a dictionary\n",
    "\n",
    "Creating a dictionary\n",
    "There are following three ways to create a dictionary.\n",
    "\n",
    "1. Using curly brackets `{}`: The dictionaries are created by enclosing the comma-separated Key: Value pairs inside the `{}` curly brackets. The colon ‘:‘ is used to separate the key and value in a pair.\n",
    "1. Using `dict()` constructor:  Create a dictionary by passing the comma-separated key: value pairs inside the dict().\n",
    "3. Using sequence having each item as a pair (key-value)\n",
    "Let’s see each one of them with an example."
   ]
  },
  {
   "cell_type": "code",
   "execution_count": 1,
   "id": "733ec5cf",
   "metadata": {},
   "outputs": [
    {
     "data": {
      "text/plain": [
       "35.75"
      ]
     },
     "execution_count": 1,
     "metadata": {},
     "output_type": "execute_result"
    }
   ],
   "source": [
    "d = {\"A\": 35.75}\n",
    "d[\"A\"]"
   ]
  },
  {
   "cell_type": "markdown",
   "id": "62a21913",
   "metadata": {},
   "source": [
    "### create a dictionary using {}\n",
    "\n",
    "Recommended way of creating python dictionaries"
   ]
  },
  {
   "cell_type": "code",
   "execution_count": 1,
   "id": "970c48d7",
   "metadata": {},
   "outputs": [
    {
     "name": "stdout",
     "output_type": "stream",
     "text": [
      "{'name': 'Jessa', 'country': 'USA', 'telephone': 1178}\n"
     ]
    }
   ],
   "source": [
    "person = {\"name\": \"Jessa\", \"country\": \"USA\", \"telephone\": 1178}\n",
    "print(person)"
   ]
  },
  {
   "cell_type": "markdown",
   "id": "ba1f813b",
   "metadata": {},
   "source": [
    "### create a dictionary using dict()"
   ]
  },
  {
   "cell_type": "code",
   "execution_count": 3,
   "id": "74f79c9c",
   "metadata": {},
   "outputs": [
    {
     "name": "stdout",
     "output_type": "stream",
     "text": [
      "{'name': 'Jessa', 'country': 'USA', 'telephone': 1178}\n"
     ]
    }
   ],
   "source": [
    "person = dict({\"name\": \"Jessa\", \"country\": \"USA\", \"telephone\": 1178})\n",
    "print(person)"
   ]
  },
  {
   "cell_type": "markdown",
   "id": "1f7bd559",
   "metadata": {},
   "source": [
    "### create a dictionary from sequence having each item as a pair"
   ]
  },
  {
   "cell_type": "code",
   "execution_count": 5,
   "id": "2ea7fa7d",
   "metadata": {},
   "outputs": [
    {
     "name": "stdout",
     "output_type": "stream",
     "text": [
      "{'name': 'Mark', 'country': 'USA', 'telephone': 1178}\n"
     ]
    }
   ],
   "source": [
    "person = dict([(\"name\", \"Mark\"), (\"country\", \"USA\"), (\"telephone\", 1178)])\n",
    "print(person)"
   ]
  },
  {
   "cell_type": "markdown",
   "id": "9b1fe8df",
   "metadata": {},
   "source": [
    "### Creating empty dictionary"
   ]
  },
  {
   "cell_type": "code",
   "execution_count": 32,
   "id": "6e0d8b96",
   "metadata": {},
   "outputs": [
    {
     "name": "stdout",
     "output_type": "stream",
     "text": [
      "<class 'dict'>\n",
      "{}\n"
     ]
    }
   ],
   "source": [
    "d={}\n",
    "print(type(d))\n",
    "print(d)"
   ]
  },
  {
   "cell_type": "markdown",
   "id": "e9d8115d",
   "metadata": {},
   "source": [
    "## Dictionary properties\n",
    "\n",
    "![](https://pynative.com/wp-content/uploads/2021/02/dictionaries-in-python.jpg)"
   ]
  },
  {
   "cell_type": "markdown",
   "id": "58120395",
   "metadata": {},
   "source": [
    "### Dictionaries keys are unique:\n",
    "\n",
    "**Dictionaries cannot have duplicate keys**"
   ]
  },
  {
   "cell_type": "code",
   "execution_count": 29,
   "id": "89a4258e",
   "metadata": {},
   "outputs": [
    {
     "data": {
      "text/plain": [
       "{'A': 22}"
      ]
     },
     "execution_count": 29,
     "metadata": {},
     "output_type": "execute_result"
    }
   ],
   "source": [
    "d = {\"A\": 35.75, \"A\": 22}\n",
    "d"
   ]
  },
  {
   "cell_type": "code",
   "execution_count": 30,
   "id": "75670c20",
   "metadata": {},
   "outputs": [
    {
     "data": {
      "text/plain": [
       "{'A': 1}"
      ]
     },
     "execution_count": 30,
     "metadata": {},
     "output_type": "execute_result"
    }
   ],
   "source": [
    "d[\"A\"] = 1\n",
    "d"
   ]
  },
  {
   "cell_type": "code",
   "execution_count": 33,
   "id": "821fd456",
   "metadata": {},
   "outputs": [
    {
     "name": "stdout",
     "output_type": "stream",
     "text": [
      "{'brand': 'Ford', 'model': 'Mustang', 'year': 2020}\n"
     ]
    }
   ],
   "source": [
    "thisdict = {\n",
    "  \"brand\": \"Ford\",\n",
    "  \"model\": \"Mustang\",\n",
    "  \"year\": 1964,\n",
    "  \"year\": 2020\n",
    "}\n",
    "print(thisdict)"
   ]
  },
  {
   "cell_type": "markdown",
   "id": "4717761d",
   "metadata": {},
   "source": [
    "### Length of a dictionary:\n",
    "\n",
    "Similar to list, tuple and sets, we can check the length of the dictionary:"
   ]
  },
  {
   "cell_type": "code",
   "execution_count": 35,
   "id": "f64b474b",
   "metadata": {},
   "outputs": [
    {
     "name": "stdout",
     "output_type": "stream",
     "text": [
      "3\n"
     ]
    }
   ],
   "source": [
    "thisdict = {\n",
    "  \"brand\": \"Ford\",\n",
    "  \"model\": \"Mustang\",\n",
    "  \"year\": 1964\n",
    "}\n",
    "print(len(thisdict))"
   ]
  },
  {
   "cell_type": "markdown",
   "id": "ae3968e7",
   "metadata": {},
   "source": [
    "### Dictionaries can have mixed type of keys but shall be unique\n",
    "\n",
    "first key is string and second is an integer"
   ]
  },
  {
   "cell_type": "code",
   "execution_count": 27,
   "id": "14206dbf",
   "metadata": {},
   "outputs": [
    {
     "name": "stdout",
     "output_type": "stream",
     "text": [
      "{'name': 'Jessa', 10: 'Mobile'}\n"
     ]
    }
   ],
   "source": [
    "sample_dict = {\"name\": \"Jessa\", 10: \"Mobile\"}\n",
    "print(sample_dict)"
   ]
  },
  {
   "cell_type": "markdown",
   "id": "0e59559b",
   "metadata": {},
   "source": [
    "### Create a dictionary with value as list"
   ]
  },
  {
   "cell_type": "code",
   "execution_count": 28,
   "id": "e19d6d75",
   "metadata": {},
   "outputs": [
    {
     "name": "stdout",
     "output_type": "stream",
     "text": [
      "{'name': 'Jessa', 'telephones': [1178, 2563, 4569]}\n"
     ]
    }
   ],
   "source": [
    "person = {\"name\": \"Jessa\", \"telephones\": [1178, 2563, 4569]}\n",
    "print(person)"
   ]
  },
  {
   "cell_type": "markdown",
   "id": "3fb156d5",
   "metadata": {},
   "source": [
    "### Type of python dictionary\n",
    "\n",
    "Python dictionary are `dict` type objects in python"
   ]
  },
  {
   "cell_type": "code",
   "execution_count": 36,
   "id": "290eda71",
   "metadata": {},
   "outputs": [
    {
     "name": "stdout",
     "output_type": "stream",
     "text": [
      "<class 'dict'>\n"
     ]
    }
   ],
   "source": [
    "person = {\"name\": \"Jessa\", \"telephones\": [1178, 2563, 4569]}\n",
    "print(type(person))"
   ]
  },
  {
   "cell_type": "markdown",
   "id": "5e0b4824",
   "metadata": {},
   "source": [
    "## Access dictionary items\n",
    "\n",
    "You can access the items of a dictionary by referring to its key name, inside square brackets:"
   ]
  },
  {
   "cell_type": "code",
   "execution_count": 8,
   "id": "6a3334af",
   "metadata": {},
   "outputs": [
    {
     "name": "stdout",
     "output_type": "stream",
     "text": [
      "Mustang\n"
     ]
    }
   ],
   "source": [
    "thisdict = {\n",
    "  \"brand\": \"Ford\",\n",
    "  \"model\": \"Mustang\",\n",
    "  \"year\": 1964\n",
    "}\n",
    "x = thisdict[\"model\"]\n",
    "print(x)"
   ]
  },
  {
   "cell_type": "code",
   "execution_count": 62,
   "id": "9485d84a",
   "metadata": {},
   "outputs": [
    {
     "name": "stdout",
     "output_type": "stream",
     "text": [
      "Jessa\n",
      "Jessa\n"
     ]
    }
   ],
   "source": [
    "person = {\"name\": \"Jessa\", \"country\": \"USA\", \"telephone\": 1178}\n",
    "print(person[\"name\"])\n",
    "print(person.get(\"name\"))"
   ]
  },
  {
   "cell_type": "markdown",
   "id": "f6082182",
   "metadata": {},
   "source": [
    "There is also a method called get() that will give you the same result:"
   ]
  },
  {
   "cell_type": "code",
   "execution_count": 9,
   "id": "f8ce9f69",
   "metadata": {},
   "outputs": [],
   "source": [
    "x = thisdict.get(\"model\")"
   ]
  },
  {
   "cell_type": "markdown",
   "id": "69a8eded",
   "metadata": {},
   "source": [
    "## Change items\n",
    "\n",
    "Dictionaries are mutuable object which means once created it can be modified further:"
   ]
  },
  {
   "cell_type": "code",
   "execution_count": 15,
   "id": "e144159b",
   "metadata": {},
   "outputs": [
    {
     "name": "stdout",
     "output_type": "stream",
     "text": [
      "Creating a dict...\n",
      "\n",
      "{'brand': 'Ford', 'model': 'Mustang', 'year': 1964}\n",
      "\n",
      "\n",
      "Modifying the dictionary...changing the year value:\n",
      "\n",
      "{'brand': 'Ford', 'model': 'Mustang', 'year': 2018}\n"
     ]
    }
   ],
   "source": [
    "print(\"Creating a dict...\\n\")\n",
    "thisdict = {\n",
    "  \"brand\": \"Ford\",\n",
    "  \"model\": \"Mustang\",\n",
    "  \"year\": 1964\n",
    "}\n",
    "print(thisdict)\n",
    "\n",
    "print(\"\\n\\nModifying the dictionary...changing the year value:\\n\")\n",
    "thisdict[\"year\"] = 2018\n",
    "print(thisdict)"
   ]
  },
  {
   "cell_type": "markdown",
   "id": "5173caa4",
   "metadata": {},
   "source": [
    "We can also modify the dictionary using `update` method:"
   ]
  },
  {
   "cell_type": "code",
   "execution_count": 17,
   "id": "a8582434",
   "metadata": {},
   "outputs": [
    {
     "name": "stdout",
     "output_type": "stream",
     "text": [
      "{'brand': 'Ford', 'model': 'Mustang', 'year': 2020}\n"
     ]
    }
   ],
   "source": [
    "thisdict = {\n",
    "  \"brand\": \"Ford\",\n",
    "  \"model\": \"Mustang\",\n",
    "  \"year\": 1964\n",
    "}\n",
    "thisdict.update({\"year\": 2020})\n",
    "print(thisdict)"
   ]
  },
  {
   "cell_type": "markdown",
   "id": "8f6031aa",
   "metadata": {},
   "source": [
    "## Add items to dictionary\n",
    "\n",
    "Adding an item to the dictionary is done by using a new index key and assigning a value to it:"
   ]
  },
  {
   "cell_type": "code",
   "execution_count": 19,
   "id": "6ff8b830",
   "metadata": {},
   "outputs": [
    {
     "name": "stdout",
     "output_type": "stream",
     "text": [
      "Original dictionary:\n",
      "{'brand': 'Ford', 'model': 'Mustang', 'year': 1964}\n",
      "------------------------------\n",
      "Dictionary after adding an item:\n",
      "{'brand': 'Ford', 'model': 'Mustang', 'year': 1964, 'color': 'red'}\n"
     ]
    }
   ],
   "source": [
    "thisdict = {\n",
    "  \"brand\": \"Ford\",\n",
    "  \"model\": \"Mustang\",\n",
    "  \"year\": 1964\n",
    "}\n",
    "print(\"Original dictionary:\")\n",
    "print(thisdict)\n",
    "print(\"-\"*30)\n",
    "print(\"Dictionary after adding an item:\")\n",
    "thisdict[\"color\"] = \"red\"\n",
    "print(thisdict)"
   ]
  },
  {
   "cell_type": "code",
   "execution_count": 38,
   "id": "4a33e56e",
   "metadata": {},
   "outputs": [
    {
     "data": {
      "text/plain": [
       "{'name': 'Jessa', 'country': 'USA', 'telephone': 1178, 'weight': 60, 'age': 23}"
      ]
     },
     "execution_count": 38,
     "metadata": {},
     "output_type": "execute_result"
    }
   ],
   "source": [
    "## Another example\n",
    "person = {\"name\": \"Jessa\", 'country': \"USA\", \"telephone\": 1178}\n",
    "person[\"weight\"] = 60\n",
    "person[\"age\"] = 23\n",
    "person"
   ]
  },
  {
   "cell_type": "markdown",
   "id": "fda34ff5",
   "metadata": {},
   "source": [
    "We can also use the same `update` command used previously to add a new item:"
   ]
  },
  {
   "cell_type": "code",
   "execution_count": 21,
   "id": "7b2d8bf0",
   "metadata": {},
   "outputs": [
    {
     "data": {
      "text/plain": [
       "{'brand': 'Ford', 'model': 'Mustang', 'year': 1964, 'color': 'red'}"
      ]
     },
     "execution_count": 21,
     "metadata": {},
     "output_type": "execute_result"
    }
   ],
   "source": [
    "thisdict = {\n",
    "  \"brand\": \"Ford\",\n",
    "  \"model\": \"Mustang\",\n",
    "  \"year\": 1964\n",
    "}\n",
    "thisdict.update({\"color\": \"red\"})\n",
    "thisdict"
   ]
  },
  {
   "cell_type": "markdown",
   "id": "ebc374a2",
   "metadata": {},
   "source": [
    "## Removing items from dict\n",
    "\n",
    "The `pop()` method removes the item with the specified key name:"
   ]
  },
  {
   "cell_type": "code",
   "execution_count": 22,
   "id": "0312b64b",
   "metadata": {},
   "outputs": [
    {
     "name": "stdout",
     "output_type": "stream",
     "text": [
      "{'brand': 'Ford', 'year': 1964}\n"
     ]
    }
   ],
   "source": [
    "thisdict = {\n",
    "  \"brand\": \"Ford\",\n",
    "  \"model\": \"Mustang\",\n",
    "  \"year\": 1964\n",
    "}\n",
    "thisdict.pop(\"model\")\n",
    "print(thisdict)"
   ]
  },
  {
   "cell_type": "markdown",
   "id": "6ea11420",
   "metadata": {},
   "source": [
    "The `popitem()` method removes the last inserted item:"
   ]
  },
  {
   "cell_type": "code",
   "execution_count": 23,
   "id": "4afd231e",
   "metadata": {},
   "outputs": [
    {
     "name": "stdout",
     "output_type": "stream",
     "text": [
      "{'brand': 'Ford', 'model': 'Mustang'}\n"
     ]
    }
   ],
   "source": [
    "thisdict = {\n",
    "  \"brand\": \"Ford\",\n",
    "  \"model\": \"Mustang\",\n",
    "  \"year\": 1964\n",
    "}\n",
    "thisdict.popitem()\n",
    "print(thisdict)"
   ]
  },
  {
   "cell_type": "markdown",
   "id": "ed299129",
   "metadata": {},
   "source": [
    "The `del` keyword (it is python default keyword) removes the item with the specified key name:"
   ]
  },
  {
   "cell_type": "code",
   "execution_count": 24,
   "id": "3705056e",
   "metadata": {},
   "outputs": [
    {
     "name": "stdout",
     "output_type": "stream",
     "text": [
      "{'brand': 'Ford', 'year': 1964}\n"
     ]
    }
   ],
   "source": [
    "thisdict = {\n",
    "  \"brand\": \"Ford\",\n",
    "  \"model\": \"Mustang\",\n",
    "  \"year\": 1964\n",
    "}\n",
    "del thisdict[\"model\"]\n",
    "print(thisdict)"
   ]
  },
  {
   "cell_type": "markdown",
   "id": "e48bcdd3",
   "metadata": {},
   "source": [
    "**Important thing to note here is:**\n",
    "\n",
    "The `del` keyword can delete the dictionary completely:\n",
    "\n",
    "suppose we have a dictionary:\n",
    "\n",
    "```python\n",
    "thisdict = {\n",
    "  \"brand\": \"Ford\",\n",
    "  \"model\": \"Mustang\",\n",
    "  \"year\": 1964\n",
    "}\n",
    "```\n",
    "then we delete the dictionary using `del` and try to `print` it:\n",
    "```python\n",
    "    del thisdict\n",
    "    print(thisdict)\n",
    "```\n",
    "\n",
    "then we get this error\n",
    "```python\n",
    "---------------------------------------------------------------------------\n",
    "NameError                                 Traceback (most recent call last)\n",
    "<ipython-input-25-cf8f189c2310> in <module>\n",
    "      5 }\n",
    "      6 del thisdict\n",
    "----> 7 print(thisdict) #this will cause an error because \"thisdict\" no longer exists.\n",
    "\n",
    "NameError: name 'thisdict' is not defined\n",
    "```"
   ]
  },
  {
   "cell_type": "markdown",
   "id": "2da4c7f0",
   "metadata": {},
   "source": [
    "To clear the items in a dictionary:"
   ]
  },
  {
   "cell_type": "code",
   "execution_count": 26,
   "id": "971e0419",
   "metadata": {},
   "outputs": [
    {
     "name": "stdout",
     "output_type": "stream",
     "text": [
      "{}\n"
     ]
    }
   ],
   "source": [
    "thisdict = {\n",
    "  \"brand\": \"Ford\",\n",
    "  \"model\": \"Mustang\",\n",
    "  \"year\": 1964\n",
    "}\n",
    "thisdict.clear()\n",
    "print(thisdict)"
   ]
  },
  {
   "cell_type": "markdown",
   "id": "e145458f",
   "metadata": {},
   "source": [
    "## List all keys, values and items of a dictionary"
   ]
  },
  {
   "cell_type": "code",
   "execution_count": 43,
   "id": "4b5d66b0",
   "metadata": {},
   "outputs": [
    {
     "name": "stdout",
     "output_type": "stream",
     "text": [
      "dict_keys(['brand', 'model', 'year'])\n",
      "dict_values(['Ford', 'Mustang', 1964])\n",
      "dict_items([('brand', 'Ford'), ('model', 'Mustang'), ('year', 1964)])\n"
     ]
    }
   ],
   "source": [
    "car = {\n",
    "  \"brand\": \"Ford\",\n",
    "  \"model\": \"Mustang\",\n",
    "  \"year\": 1964\n",
    "}\n",
    "\n",
    "print(car.keys())\n",
    "print(car.values())\n",
    "print(car.items())"
   ]
  },
  {
   "cell_type": "markdown",
   "id": "48c4c5e5",
   "metadata": {},
   "source": [
    "## Looping over dictionary"
   ]
  },
  {
   "cell_type": "markdown",
   "id": "b18b49f3",
   "metadata": {},
   "source": [
    "### Print all key names in the dictionary, one by one:"
   ]
  },
  {
   "cell_type": "code",
   "execution_count": 41,
   "id": "cdfea889",
   "metadata": {},
   "outputs": [
    {
     "name": "stdout",
     "output_type": "stream",
     "text": [
      "brand\n",
      "model\n",
      "year\n"
     ]
    }
   ],
   "source": [
    "thisdict = {\n",
    "  \"brand\": \"Ford\",\n",
    "  \"model\": \"Mustang\",\n",
    "  \"year\": 1964\n",
    "}\n",
    "\n",
    "for x in thisdict:\n",
    "    print(x)"
   ]
  },
  {
   "cell_type": "markdown",
   "id": "bb54dac0",
   "metadata": {},
   "source": [
    "alternatively we can:"
   ]
  },
  {
   "cell_type": "code",
   "execution_count": 42,
   "id": "49596cda",
   "metadata": {},
   "outputs": [
    {
     "name": "stdout",
     "output_type": "stream",
     "text": [
      "brand\n",
      "model\n",
      "year\n"
     ]
    }
   ],
   "source": [
    "thisdict = {\n",
    "  \"brand\": \"Ford\",\n",
    "  \"model\": \"Mustang\",\n",
    "  \"year\": 1964\n",
    "}\n",
    "\n",
    "for x in thisdict.keys():\n",
    "    print(x)"
   ]
  },
  {
   "cell_type": "markdown",
   "id": "98784fa1",
   "metadata": {},
   "source": [
    "### Print all the values of the dictionary"
   ]
  },
  {
   "cell_type": "code",
   "execution_count": 44,
   "id": "cf4dbc0d",
   "metadata": {},
   "outputs": [
    {
     "name": "stdout",
     "output_type": "stream",
     "text": [
      "Ford\n",
      "Mustang\n",
      "1964\n"
     ]
    }
   ],
   "source": [
    "thisdict = {\n",
    "  \"brand\": \"Ford\",\n",
    "  \"model\": \"Mustang\",\n",
    "  \"year\": 1964\n",
    "}\n",
    "\n",
    "for x in thisdict:\n",
    "    print(thisdict[x])"
   ]
  },
  {
   "cell_type": "markdown",
   "id": "ae9bcb62",
   "metadata": {},
   "source": [
    "Alternatively:"
   ]
  },
  {
   "cell_type": "code",
   "execution_count": 46,
   "id": "de16becc",
   "metadata": {},
   "outputs": [
    {
     "name": "stdout",
     "output_type": "stream",
     "text": [
      "Ford\n",
      "Mustang\n",
      "1964\n"
     ]
    }
   ],
   "source": [
    "for x in thisdict.values():\n",
    "    print(x)"
   ]
  },
  {
   "cell_type": "markdown",
   "id": "1dbcc33c",
   "metadata": {},
   "source": [
    "### Print all items of the dictionary"
   ]
  },
  {
   "cell_type": "code",
   "execution_count": 47,
   "id": "66cb86fe",
   "metadata": {},
   "outputs": [
    {
     "name": "stdout",
     "output_type": "stream",
     "text": [
      "brand Ford\n",
      "model Mustang\n",
      "year 1964\n"
     ]
    }
   ],
   "source": [
    "thisdict = {\n",
    "  \"brand\": \"Ford\",\n",
    "  \"model\": \"Mustang\",\n",
    "  \"year\": 1964\n",
    "}\n",
    "\n",
    "for x, y in thisdict.items():\n",
    "    print(x, y)"
   ]
  },
  {
   "cell_type": "markdown",
   "id": "dca5a085",
   "metadata": {},
   "source": [
    "## Applying dictionary: Word Count application\n",
    "\n",
    "Develop an application that returns the frequency of each word of a given paragraph:\n",
    "\n",
    "to develop this:\n",
    "1. First we will split the paragraph into list of words by using `string.split(\" \")` funcition where \" \" (space character) will be used as separator/delimiter.\n",
    "2. We will loop over each word in the list of words\n",
    "3. We will store the each word in an empty dictioary as key (since the key of a dictionary is unique)\n",
    "4. When storing the key/word:\n",
    "    - if a key is not present at all, we will initiate the a new key in the empty dictionary:\n",
    "    ```python\n",
    "    word_dict = {}\n",
    "    word_dict['word'] = 1\n",
    "    ```\n",
    "    The value in this case will be one since it is first time occuring.\n",
    "    \n",
    "    - else If a key (word) is already present in the dictionary then we can increase the frequency by one each time we find the word in the para:\n",
    "    ```python\n",
    "    word_dict['word'] += 1\n",
    "    ```\n",
    "2. Then corresponing value of each key(in this case: word) we will have the number of times that word is occuring (i.e. frequency)"
   ]
  },
  {
   "cell_type": "code",
   "execution_count": 58,
   "id": "1bde1d09",
   "metadata": {},
   "outputs": [
    {
     "name": "stdout",
     "output_type": "stream",
     "text": [
      "We have around 37 words in the given paragraph\n",
      "['In', 'this', 'series,', 'you', 'will', 'learn', 'how', 'to', 'use', 'a', 'date', 'and', 'time', 'in', 'Python.', 'Learn', 'to', 'use', 'the', 'date', 'and', 'time', 'in', 'Python', 'using', 'DateTime,', 'time,', 'calendar', 'module.', 'Understand', 'timestamp,', 'timezone,', 'and', 'timedelta,', 'and', 'DateTime', 'formatting']\n"
     ]
    }
   ],
   "source": [
    "## first take the user-input and store into a variable\n",
    "para = \"In this series, you will learn how to use a date and time in Python. Learn to use the date and time in Python using DateTime, time, calendar module. Understand timestamp, timezone, and timedelta, and DateTime formatting\"\n",
    "\n",
    "## split the string into lost of words, splitting the text using space as delimiter:\n",
    "words = para.split(\" \")\n",
    "\n",
    "print(f\"We have around {len(words)} words in the given paragraph\")\n",
    "print(words)"
   ]
  },
  {
   "cell_type": "code",
   "execution_count": 59,
   "id": "6d9a4689",
   "metadata": {},
   "outputs": [
    {
     "data": {
      "text/plain": [
       "{}"
      ]
     },
     "execution_count": 59,
     "metadata": {},
     "output_type": "execute_result"
    }
   ],
   "source": [
    "## initializing a dictionary\n",
    "word_count = {}\n",
    "word_count"
   ]
  },
  {
   "cell_type": "code",
   "execution_count": 60,
   "id": "a8b8cff4",
   "metadata": {},
   "outputs": [
    {
     "data": {
      "text/plain": [
       "{'In': 1,\n",
       " 'this': 1,\n",
       " 'series,': 1,\n",
       " 'you': 1,\n",
       " 'will': 1,\n",
       " 'learn': 1,\n",
       " 'how': 1,\n",
       " 'to': 2,\n",
       " 'use': 2,\n",
       " 'a': 1,\n",
       " 'date': 2,\n",
       " 'and': 4,\n",
       " 'time': 2,\n",
       " 'in': 2,\n",
       " 'Python.': 1,\n",
       " 'Learn': 1,\n",
       " 'the': 1,\n",
       " 'Python': 1,\n",
       " 'using': 1,\n",
       " 'DateTime,': 1,\n",
       " 'time,': 1,\n",
       " 'calendar': 1,\n",
       " 'module.': 1,\n",
       " 'Understand': 1,\n",
       " 'timestamp,': 1,\n",
       " 'timezone,': 1,\n",
       " 'timedelta,': 1,\n",
       " 'DateTime': 1,\n",
       " 'formatting': 1}"
      ]
     },
     "execution_count": 60,
     "metadata": {},
     "output_type": "execute_result"
    }
   ],
   "source": [
    "word_count = {}\n",
    "for word in words:\n",
    "    if word in word_count.keys():\n",
    "        word_count[word] += 1\n",
    "    else:\n",
    "        word_count[word] = 1\n",
    "    \n",
    "word_count"
   ]
  },
  {
   "cell_type": "markdown",
   "id": "4e91a53a",
   "metadata": {},
   "source": [
    "Similarly we can try this in another text as well to count the frequency of each word:"
   ]
  },
  {
   "cell_type": "code",
   "execution_count": 61,
   "id": "5376a25c",
   "metadata": {},
   "outputs": [
    {
     "data": {
      "text/plain": [
       "{'Generating': 1,\n",
       " 'random': 7,\n",
       " 'paragraphs': 1,\n",
       " 'can': 3,\n",
       " 'be': 5,\n",
       " 'an': 1,\n",
       " 'excellent': 1,\n",
       " 'way': 1,\n",
       " 'for': 1,\n",
       " 'writers': 1,\n",
       " 'to': 13,\n",
       " 'get': 1,\n",
       " 'their': 3,\n",
       " 'creative': 1,\n",
       " 'flow': 1,\n",
       " 'going': 1,\n",
       " 'at': 1,\n",
       " 'the': 21,\n",
       " 'beginning': 1,\n",
       " 'of': 7,\n",
       " 'day.': 1,\n",
       " 'The': 5,\n",
       " 'writer': 7,\n",
       " 'has': 1,\n",
       " 'no': 1,\n",
       " 'idea': 1,\n",
       " 'what': 1,\n",
       " 'topic': 1,\n",
       " 'paragraph': 11,\n",
       " 'will': 1,\n",
       " 'about': 1,\n",
       " 'when': 1,\n",
       " 'it': 1,\n",
       " 'appears.': 1,\n",
       " 'This': 1,\n",
       " 'forces': 1,\n",
       " 'use': 7,\n",
       " 'creativity': 3,\n",
       " 'complete': 1,\n",
       " 'one': 3,\n",
       " 'three': 1,\n",
       " 'common': 1,\n",
       " 'writing': 3,\n",
       " 'challenges.': 1,\n",
       " 'as': 1,\n",
       " 'first': 1,\n",
       " 'a': 5,\n",
       " 'short': 5,\n",
       " 'story': 3,\n",
       " 'and': 1,\n",
       " 'build': 1,\n",
       " 'upon': 1,\n",
       " 'it.': 1,\n",
       " 'A': 1,\n",
       " 'second': 1,\n",
       " 'option': 3,\n",
       " 'is': 7,\n",
       " 'somewhere': 1,\n",
       " 'in': 3,\n",
       " 'they': 1,\n",
       " 'create.': 1,\n",
       " 'third': 1,\n",
       " 'have': 1,\n",
       " 'ending': 1,\n",
       " 'story.': 1,\n",
       " 'No': 1,\n",
       " 'matter': 1,\n",
       " 'which': 1,\n",
       " 'these': 1,\n",
       " 'challenges': 1,\n",
       " 'undertaken,': 1,\n",
       " 'forced': 1,\n",
       " 'incorporate': 1,\n",
       " 'into': 1}"
      ]
     },
     "execution_count": 61,
     "metadata": {},
     "output_type": "execute_result"
    }
   ],
   "source": [
    "random_text=\"Generating random paragraphs can be an excellent way for writers to get their creative flow going at the beginning of the day. The writer has no idea what topic the random paragraph will be about when it appears. This forces the writer to use creativity to complete one of three common writing challenges. The writer can use the paragraph as the first one of a short story and build upon it. A second option is to use the random paragraph somewhere in a short story they create. The third option is to have the random paragraph be the ending paragraph in a short story. No matter which of these challenges is undertaken, the writer is forced to use creativity to incorporate the paragraph into their writing\"\n",
    "words = random_text.split(\" \")\n",
    "\n",
    "word_count = {}\n",
    "for word in words:\n",
    "    if word in word_count.keys():\n",
    "        word_count[word] += 2\n",
    "    else:\n",
    "        word_count[word] = 1\n",
    "        \n",
    "word_count"
   ]
  },
  {
   "cell_type": "markdown",
   "id": "fcab75a3",
   "metadata": {},
   "source": [
    "# Functions\n",
    "\n",
    "A function is a block of code which only runs when it is called.\n",
    "\n",
    "You can pass data, known as parameters, into a function.\n",
    "\n",
    "A function can return data as a result."
   ]
  },
  {
   "cell_type": "markdown",
   "id": "b3fa8e09",
   "metadata": {},
   "source": [
    "## Creating a function\n",
    "\n",
    "In Python a function is defined using the `def` keyword:"
   ]
  },
  {
   "cell_type": "code",
   "execution_count": 1,
   "id": "1213e47c",
   "metadata": {},
   "outputs": [],
   "source": [
    "def function():\n",
    "    print(\"hello word\")"
   ]
  },
  {
   "cell_type": "markdown",
   "id": "cfc02649",
   "metadata": {},
   "source": [
    "## Calling a function\n",
    "\n",
    "To call a function, use the function name followed by parenthesis:"
   ]
  },
  {
   "cell_type": "code",
   "execution_count": 2,
   "id": "2b4b021a",
   "metadata": {},
   "outputs": [
    {
     "name": "stdout",
     "output_type": "stream",
     "text": [
      "hello word\n"
     ]
    }
   ],
   "source": [
    "function()"
   ]
  },
  {
   "cell_type": "markdown",
   "id": "15e0750a",
   "metadata": {},
   "source": [
    "## Arguments\n",
    "\n",
    "Information can be passed into functions as arguments.\n",
    "\n",
    "Arguments are specified after the function name, inside the parentheses. You can add as many arguments as you want, just separate them with a comma.\n",
    "\n",
    "The following example has a function with one argument (fname). When the function is called, we pass along a first name, which is used inside the function to print the full name:"
   ]
  },
  {
   "cell_type": "code",
   "execution_count": 3,
   "id": "5d0920ac",
   "metadata": {},
   "outputs": [
    {
     "data": {
      "text/plain": [
       "10"
      ]
     },
     "execution_count": 3,
     "metadata": {},
     "output_type": "execute_result"
    }
   ],
   "source": [
    "def function_name(x):\n",
    "    return x\n",
    "\n",
    "\n",
    "function_name(10)"
   ]
  },
  {
   "cell_type": "code",
   "execution_count": 6,
   "id": "3e6171bc",
   "metadata": {},
   "outputs": [
    {
     "name": "stdout",
     "output_type": "stream",
     "text": [
      "Welcome KVBA\n",
      "Welcome ramboll_user\n",
      "Welcome AHKH\n"
     ]
    }
   ],
   "source": [
    "def welcome_user(username):\n",
    "    print(\"Welcome\", username)\n",
    "    \n",
    "welcome_user(\"KVBA\")\n",
    "welcome_user(\"ramboll_user\")\n",
    "welcome_user(\"AHKH\")"
   ]
  },
  {
   "cell_type": "markdown",
   "id": "95d57b35",
   "metadata": {},
   "source": [
    "## Multiple arguments\n",
    "\n",
    "By default, a function must be called with the correct number of arguments. Meaning that if your function expects 2 arguments, you have to call the function with 2 arguments, not more, and not less."
   ]
  },
  {
   "cell_type": "code",
   "execution_count": 16,
   "id": "ea49820e",
   "metadata": {},
   "outputs": [
    {
     "ename": "TypeError",
     "evalue": "addition() missing 1 required positional argument: 'y'",
     "output_type": "error",
     "traceback": [
      "\u001b[1;31m---------------------------------------------------------------------------\u001b[0m",
      "\u001b[1;31mTypeError\u001b[0m                                 Traceback (most recent call last)",
      "\u001b[1;32m<ipython-input-16-4b254511bf56>\u001b[0m in \u001b[0;36m<module>\u001b[1;34m\u001b[0m\n\u001b[0;32m      2\u001b[0m     \u001b[1;32mreturn\u001b[0m \u001b[0mx\u001b[0m\u001b[1;33m+\u001b[0m\u001b[0my\u001b[0m\u001b[1;33m\u001b[0m\u001b[1;33m\u001b[0m\u001b[0m\n\u001b[0;32m      3\u001b[0m \u001b[1;33m\u001b[0m\u001b[0m\n\u001b[1;32m----> 4\u001b[1;33m \u001b[0maddition\u001b[0m\u001b[1;33m(\u001b[0m\u001b[1;36m10\u001b[0m\u001b[1;33m)\u001b[0m\u001b[1;33m\u001b[0m\u001b[1;33m\u001b[0m\u001b[0m\n\u001b[0m",
      "\u001b[1;31mTypeError\u001b[0m: addition() missing 1 required positional argument: 'y'"
     ]
    }
   ],
   "source": [
    "def addition(x,y):\n",
    "    return x+y\n",
    "\n",
    "addition(10)"
   ]
  },
  {
   "cell_type": "markdown",
   "id": "76f2fc4a",
   "metadata": {},
   "source": [
    "if in the above we provide less arguments:\n",
    "\n",
    "```python\n",
    "def addition(x,y):\n",
    "    return x+y\n",
    "\n",
    "print(addition(10))\n",
    "```\n",
    "then it throws an error:\n",
    "```python\n",
    "TypeError: addition() missing 1 required positional argument: 'y'\n",
    "```"
   ]
  },
  {
   "cell_type": "code",
   "execution_count": 8,
   "id": "7584cf55",
   "metadata": {},
   "outputs": [
    {
     "data": {
      "text/plain": [
       "300"
      ]
     },
     "execution_count": 8,
     "metadata": {},
     "output_type": "execute_result"
    }
   ],
   "source": [
    "addition(100,200)"
   ]
  },
  {
   "cell_type": "markdown",
   "id": "8edc3a59",
   "metadata": {},
   "source": [
    "## Keyword Arguments\n",
    "\n",
    "You can also send arguments with the key = value syntax.\n",
    "\n",
    "This way the order of the arguments does not matter."
   ]
  },
  {
   "cell_type": "code",
   "execution_count": 17,
   "id": "897901b1",
   "metadata": {},
   "outputs": [
    {
     "data": {
      "text/plain": [
       "400"
      ]
     },
     "execution_count": 17,
     "metadata": {},
     "output_type": "execute_result"
    }
   ],
   "source": [
    "def addition(x,y):\n",
    "    return x+y\n",
    "\n",
    "addition(x=200,y=200)"
   ]
  },
  {
   "cell_type": "markdown",
   "id": "8a079b99",
   "metadata": {},
   "source": [
    "## Default Parameter Value\n",
    "\n",
    "The following example shows how to use a default parameter value.\n",
    "\n",
    "If we call the function without argument, it uses the default value:"
   ]
  },
  {
   "cell_type": "code",
   "execution_count": 19,
   "id": "19da652a",
   "metadata": {},
   "outputs": [
    {
     "data": {
      "text/plain": [
       "9"
      ]
     },
     "execution_count": 19,
     "metadata": {},
     "output_type": "execute_result"
    }
   ],
   "source": [
    "def substraction(x,y=1):\n",
    "    return x-y\n",
    "\n",
    "substraction(x=10)"
   ]
  },
  {
   "cell_type": "markdown",
   "id": "b4febe7e",
   "metadata": {},
   "source": [
    "You can also override the function's default value by assigning a value when calling the function:"
   ]
  },
  {
   "cell_type": "code",
   "execution_count": 20,
   "id": "16b6ea0e",
   "metadata": {},
   "outputs": [
    {
     "data": {
      "text/plain": [
       "0"
      ]
     },
     "execution_count": 20,
     "metadata": {},
     "output_type": "execute_result"
    }
   ],
   "source": [
    "substraction(x=10,y=10)"
   ]
  },
  {
   "cell_type": "code",
   "execution_count": 13,
   "id": "e3519157",
   "metadata": {},
   "outputs": [],
   "source": [
    "def area_of_circle(radius, pi=3.14):\n",
    "    return pi*(radius**2)"
   ]
  },
  {
   "cell_type": "code",
   "execution_count": 14,
   "id": "b78cde34",
   "metadata": {},
   "outputs": [
    {
     "data": {
      "text/plain": [
       "314.0"
      ]
     },
     "execution_count": 14,
     "metadata": {},
     "output_type": "execute_result"
    }
   ],
   "source": [
    "area_of_circle(10)"
   ]
  },
  {
   "cell_type": "code",
   "execution_count": 21,
   "id": "a60d7d8b",
   "metadata": {},
   "outputs": [
    {
     "name": "stdout",
     "output_type": "stream",
     "text": [
      "I am from Sweden\n",
      "I am from India\n",
      "I am from Norway\n",
      "I am from Brazil\n"
     ]
    }
   ],
   "source": [
    "def my_function(country = \"Norway\"):\n",
    "    print(\"I am from \" + country)\n",
    "\n",
    "my_function(\"Sweden\")\n",
    "my_function(\"India\")\n",
    "my_function()\n",
    "my_function(\"Brazil\")"
   ]
  },
  {
   "cell_type": "markdown",
   "id": "50eb9f39",
   "metadata": {},
   "source": [
    "## Passing a List as an Argument\n",
    "\n",
    "You can send any data types of argument to a function (string, number, list, dictionary etc.), and it will be treated as the same data type inside the function.\n",
    "\n",
    "E.g. if you send a List as an argument, it will still be a List when it reaches the function:"
   ]
  },
  {
   "cell_type": "code",
   "execution_count": 23,
   "id": "5d14507e",
   "metadata": {},
   "outputs": [
    {
     "name": "stdout",
     "output_type": "stream",
     "text": [
      "apple\n",
      "banana\n",
      "cherry\n"
     ]
    }
   ],
   "source": [
    "def my_function(food):\n",
    "    for x in food:\n",
    "        print(x)\n",
    "\n",
    "fruits = [\"apple\", \"banana\", \"cherry\"]\n",
    "my_function(fruits)"
   ]
  },
  {
   "cell_type": "markdown",
   "id": "bcfb9861",
   "metadata": {},
   "source": [
    "Argument as dictionary:"
   ]
  },
  {
   "cell_type": "code",
   "execution_count": 24,
   "id": "f50322d0",
   "metadata": {},
   "outputs": [
    {
     "name": "stdout",
     "output_type": "stream",
     "text": [
      "brand : Ford\n",
      "model : Mustang\n",
      "year : 1964\n",
      "----------\n",
      "brand : Maruti\n",
      "model : Wangon R\n",
      "year : 2005\n",
      "----------\n"
     ]
    }
   ],
   "source": [
    "def describe_vehicle(car):\n",
    "    for k,v in car.items():\n",
    "        print(k, \":\", v)\n",
    "    print(\"-\"*10)\n",
    "\n",
    "car1 = {\"brand\": \"Ford\",\"model\": \"Mustang\", \"year\": 1964}\n",
    "car2 = {\"brand\": \"Maruti\",\"model\": \"Wangon R\", \"year\": 2005}\n",
    "\n",
    "describe_vehicle(car1)\n",
    "describe_vehicle(car2)"
   ]
  },
  {
   "cell_type": "markdown",
   "id": "e5044aab",
   "metadata": {},
   "source": [
    "## Multiple returns in function\n",
    "\n",
    "Function can have multiple returns depending upon the requirements. For example a calculator application can return all values for different operations:"
   ]
  },
  {
   "cell_type": "code",
   "execution_count": 35,
   "id": "62b36de4",
   "metadata": {},
   "outputs": [
    {
     "name": "stdout",
     "output_type": "stream",
     "text": [
      "(20, 0, 100, 1.0)\n",
      "(30, 10, 200, 2.0)\n",
      "(1201, 799, 201000, 4.975124378109452)\n",
      "(2010, -1990, 20000, 0.005)\n"
     ]
    }
   ],
   "source": [
    "def calculator(a,b):\n",
    "    add = a+b \n",
    "    sub = a-b\n",
    "    mul = a*b\n",
    "    div = a/b\n",
    "    \n",
    "    return add,sub,mul,div\n",
    "\n",
    "print(calculator(10,10))\n",
    "print(calculator(20,10))\n",
    "print(calculator(1000,201))\n",
    "print(calculator(10,2000))"
   ]
  },
  {
   "cell_type": "markdown",
   "id": "f7eed193",
   "metadata": {},
   "source": [
    "## Global and Local variable\n",
    "\n",
    "1. Local Variable: **A variable created inside a function belongs to the local scope of that function, and can only be used inside that function.**\n",
    "2. Global Variable: **A variable created in the main body of the Python code is a global variable and belongs to the global scope. Global variables are available from within any scope, global and local**\n",
    "\n",
    "For example:\n",
    "```python\n",
    "mass = 10 ## this is a global variable\n",
    "\n",
    "def kinetic_energy(mass1, velocity):\n",
    "    mass_1 = 10 ## this is a local variable, it doesnot exists outside the function\n",
    "    return mass1 + velocity\n",
    "\n",
    "print(mass)\n",
    "print(mass_1)\n",
    "```\n",
    "\n",
    "this program will output the `mass` variable but `mass_1` doesnot exists, hence throw an error:\n",
    "\n",
    "**Output:**\n",
    "```python \n",
    "10\n",
    "NameError: name 'mass_1' is not defined\n",
    "```\n",
    "\n",
    "More example:\n",
    "\n",
    "<img src=\"https://i.stechies.com/745x498/userfiles/images/local-global-python.jpg\" height=300 width=300 align=\"left\"/>\n"
   ]
  },
  {
   "cell_type": "code",
   "execution_count": 30,
   "id": "cb76c56a",
   "metadata": {},
   "outputs": [
    {
     "name": "stdout",
     "output_type": "stream",
     "text": [
      "2\n",
      "100\n"
     ]
    }
   ],
   "source": [
    "def func1(a,b):\n",
    "    return a+b\n",
    "\n",
    "def func2(a,b):\n",
    "    return a*b\n",
    "\n",
    "print(func1(a=1,b=1))\n",
    "print(func2(a=10,b=10))"
   ]
  },
  {
   "cell_type": "markdown",
   "id": "00e78cac",
   "metadata": {},
   "source": [
    "## Word count function\n",
    "\n",
    "Converting the word count code [in this section](#Applying-dictionary:-Word-Count-application) to a function"
   ]
  },
  {
   "cell_type": "code",
   "execution_count": 31,
   "id": "2aa7d2e6",
   "metadata": {},
   "outputs": [
    {
     "data": {
      "text/plain": [
       "{'Generating': 1,\n",
       " 'random': 7,\n",
       " 'paragraphs': 1,\n",
       " 'can': 3,\n",
       " 'be': 5,\n",
       " 'an': 1,\n",
       " 'excellent': 1,\n",
       " 'way': 1,\n",
       " 'for': 1,\n",
       " 'writers': 1,\n",
       " 'to': 13,\n",
       " 'get': 1,\n",
       " 'their': 3,\n",
       " 'creative': 1,\n",
       " 'flow': 1,\n",
       " 'going': 1,\n",
       " 'at': 1,\n",
       " 'the': 21,\n",
       " 'beginning': 1,\n",
       " 'of': 7,\n",
       " 'day.': 1,\n",
       " 'The': 5,\n",
       " 'writer': 7,\n",
       " 'has': 1,\n",
       " 'no': 1,\n",
       " 'idea': 1,\n",
       " 'what': 1,\n",
       " 'topic': 1,\n",
       " 'paragraph': 11,\n",
       " 'will': 1,\n",
       " 'about': 1,\n",
       " 'when': 1,\n",
       " 'it': 1,\n",
       " 'appears.': 1,\n",
       " 'This': 1,\n",
       " 'forces': 1,\n",
       " 'use': 7,\n",
       " 'creativity': 3,\n",
       " 'complete': 1,\n",
       " 'one': 3,\n",
       " 'three': 1,\n",
       " 'common': 1,\n",
       " 'writing': 3,\n",
       " 'challenges.': 1,\n",
       " 'as': 1,\n",
       " 'first': 1,\n",
       " 'a': 5,\n",
       " 'short': 5,\n",
       " 'story': 3,\n",
       " 'and': 1,\n",
       " 'build': 1,\n",
       " 'upon': 1,\n",
       " 'it.': 1,\n",
       " 'A': 1,\n",
       " 'second': 1,\n",
       " 'option': 3,\n",
       " 'is': 7,\n",
       " 'somewhere': 1,\n",
       " 'in': 3,\n",
       " 'they': 1,\n",
       " 'create.': 1,\n",
       " 'third': 1,\n",
       " 'have': 1,\n",
       " 'ending': 1,\n",
       " 'story.': 1,\n",
       " 'No': 1,\n",
       " 'matter': 1,\n",
       " 'which': 1,\n",
       " 'these': 1,\n",
       " 'challenges': 1,\n",
       " 'undertaken,': 1,\n",
       " 'forced': 1,\n",
       " 'incorporate': 1,\n",
       " 'into': 1}"
      ]
     },
     "execution_count": 31,
     "metadata": {},
     "output_type": "execute_result"
    }
   ],
   "source": [
    "random_text=\"Generating random paragraphs can be an excellent way for writers to get their creative flow going at the beginning of the day. The writer has no idea what topic the random paragraph will be about when it appears. This forces the writer to use creativity to complete one of three common writing challenges. The writer can use the paragraph as the first one of a short story and build upon it. A second option is to use the random paragraph somewhere in a short story they create. The third option is to have the random paragraph be the ending paragraph in a short story. No matter which of these challenges is undertaken, the writer is forced to use creativity to incorporate the paragraph into their writing\"\n",
    "\n",
    "def word_counts(text):\n",
    "    \n",
    "    words = text.split(\" \")\n",
    "    word_count = {}\n",
    "    for word in words:\n",
    "        if word in word_count.keys():\n",
    "            word_count[word] += 2\n",
    "        else:\n",
    "            word_count[word] = 1\n",
    "\n",
    "    return word_count\n",
    "\n",
    "word_counts(text = random_text)"
   ]
  },
  {
   "cell_type": "markdown",
   "id": "9be181cd",
   "metadata": {},
   "source": [
    "## Docstrings (Optional) and multiple returns\n",
    "\n",
    "[more on this link](https://www.geeksforgeeks.org/python-docstrings/)"
   ]
  },
  {
   "cell_type": "code",
   "execution_count": 39,
   "id": "74075d54",
   "metadata": {},
   "outputs": [],
   "source": [
    "def word_counts(text):\n",
    "    '''\n",
    "    this function counts the number of words given a paragraph\n",
    "    '''\n",
    "    words = text.split(\" \")\n",
    "    word_count = {}\n",
    "    for word in words:\n",
    "        if word in word_count.keys():\n",
    "            word_count[word] += 2\n",
    "        else:\n",
    "            word_count[word] = 1\n",
    "\n",
    "    return word_count\n",
    "\n",
    "def calculator(a,b):\n",
    "    '''This is calculator application, does addition, sub, mul and division'''\n",
    "    \n",
    "    add = a+b \n",
    "    sub = a-b\n",
    "    mul = a*b\n",
    "    div = a/b\n",
    "    \n",
    "    return add,sub,mul,div"
   ]
  },
  {
   "cell_type": "markdown",
   "id": "4a4019d3",
   "metadata": {},
   "source": [
    "We can also view the documentation also to see what the function does:"
   ]
  },
  {
   "cell_type": "code",
   "execution_count": 40,
   "id": "02e8d413",
   "metadata": {},
   "outputs": [
    {
     "name": "stdout",
     "output_type": "stream",
     "text": [
      "Help on function calculator in module __main__:\n",
      "\n",
      "calculator(a, b)\n",
      "    This is calculator application, does addition, sub, mul and division\n",
      "\n"
     ]
    }
   ],
   "source": [
    "help(calculator)"
   ]
  },
  {
   "cell_type": "markdown",
   "id": "46ccb03f",
   "metadata": {},
   "source": [
    "We can try this `help` function on python default functions as well:"
   ]
  },
  {
   "cell_type": "code",
   "execution_count": 41,
   "id": "e6240497",
   "metadata": {},
   "outputs": [
    {
     "name": "stdout",
     "output_type": "stream",
     "text": [
      "Help on built-in function len in module builtins:\n",
      "\n",
      "len(obj, /)\n",
      "    Return the number of items in a container.\n",
      "\n"
     ]
    }
   ],
   "source": [
    "help(len)"
   ]
  },
  {
   "cell_type": "markdown",
   "id": "772ddf22",
   "metadata": {},
   "source": [
    "## Mapping \n",
    "\n",
    "`map()` function returns a map object(which is an iterator) of the results after applying the given function to each item of a given iterable (list, tuple etc.)\n",
    "\n",
    "Syntax:\n",
    "```python\n",
    "map(fun, iter)\n",
    "```\n",
    "\n",
    "[More on this](https://www.geeksforgeeks.org/python-map-function/)"
   ]
  },
  {
   "cell_type": "code",
   "execution_count": 44,
   "id": "c5bfe92c",
   "metadata": {},
   "outputs": [
    {
     "data": {
      "text/plain": [
       "['Apple', 'Mango', 'Orange', 'Papaya', 'Banana']"
      ]
     },
     "execution_count": 44,
     "metadata": {},
     "output_type": "execute_result"
    }
   ],
   "source": [
    "def capitalize_word(word):\n",
    "    return word.capitalize()\n",
    "\n",
    "\n",
    "fruits = [\"apple\", \"mango\", \"orange\", \"papaya\", \"banana\"]\n",
    "list(map(capitalize_word, fruits))"
   ]
  },
  {
   "cell_type": "code",
   "execution_count": 95,
   "id": "cf59d501",
   "metadata": {},
   "outputs": [
    {
     "name": "stdout",
     "output_type": "stream",
     "text": [
      "Wall time: 58.6 s\n"
     ]
    }
   ],
   "source": [
    "%%time\n",
    "nums = [1,2,3,4,5,6,7,8,9]\n",
    "for x in range(100000000):\n",
    "    a = x**2"
   ]
  },
  {
   "cell_type": "code",
   "execution_count": 87,
   "id": "4a8035f8",
   "metadata": {},
   "outputs": [],
   "source": [
    "def square(x):\n",
    "    return x**2"
   ]
  },
  {
   "cell_type": "code",
   "execution_count": 97,
   "id": "10a04a00",
   "metadata": {
    "scrolled": true
   },
   "outputs": [
    {
     "name": "stdout",
     "output_type": "stream",
     "text": [
      "Wall time: 43.7 s\n"
     ]
    },
    {
     "data": {
      "text/plain": [
       "[0,\n",
       " 1,\n",
       " 4,\n",
       " 9,\n",
       " 16,\n",
       " 25,\n",
       " 36,\n",
       " 49,\n",
       " 64,\n",
       " 81,\n",
       " 100,\n",
       " 121,\n",
       " 144,\n",
       " 169,\n",
       " 196,\n",
       " 225,\n",
       " 256,\n",
       " 289,\n",
       " 324,\n",
       " 361,\n",
       " 400,\n",
       " 441,\n",
       " 484,\n",
       " 529,\n",
       " 576,\n",
       " 625,\n",
       " 676,\n",
       " 729,\n",
       " 784,\n",
       " 841,\n",
       " 900,\n",
       " 961,\n",
       " 1024,\n",
       " 1089,\n",
       " 1156,\n",
       " 1225,\n",
       " 1296,\n",
       " 1369,\n",
       " 1444,\n",
       " 1521,\n",
       " 1600,\n",
       " 1681,\n",
       " 1764,\n",
       " 1849,\n",
       " 1936,\n",
       " 2025,\n",
       " 2116,\n",
       " 2209,\n",
       " 2304,\n",
       " 2401,\n",
       " 2500,\n",
       " 2601,\n",
       " 2704,\n",
       " 2809,\n",
       " 2916,\n",
       " 3025,\n",
       " 3136,\n",
       " 3249,\n",
       " 3364,\n",
       " 3481,\n",
       " 3600,\n",
       " 3721,\n",
       " 3844,\n",
       " 3969,\n",
       " 4096,\n",
       " 4225,\n",
       " 4356,\n",
       " 4489,\n",
       " 4624,\n",
       " 4761,\n",
       " 4900,\n",
       " 5041,\n",
       " 5184,\n",
       " 5329,\n",
       " 5476,\n",
       " 5625,\n",
       " 5776,\n",
       " 5929,\n",
       " 6084,\n",
       " 6241,\n",
       " 6400,\n",
       " 6561,\n",
       " 6724,\n",
       " 6889,\n",
       " 7056,\n",
       " 7225,\n",
       " 7396,\n",
       " 7569,\n",
       " 7744,\n",
       " 7921,\n",
       " 8100,\n",
       " 8281,\n",
       " 8464,\n",
       " 8649,\n",
       " 8836,\n",
       " 9025,\n",
       " 9216,\n",
       " 9409,\n",
       " 9604,\n",
       " 9801,\n",
       " 10000,\n",
       " 10201,\n",
       " 10404,\n",
       " 10609,\n",
       " 10816,\n",
       " 11025,\n",
       " 11236,\n",
       " 11449,\n",
       " 11664,\n",
       " 11881,\n",
       " 12100,\n",
       " 12321,\n",
       " 12544,\n",
       " 12769,\n",
       " 12996,\n",
       " 13225,\n",
       " 13456,\n",
       " 13689,\n",
       " 13924,\n",
       " 14161,\n",
       " 14400,\n",
       " 14641,\n",
       " 14884,\n",
       " 15129,\n",
       " 15376,\n",
       " 15625,\n",
       " 15876,\n",
       " 16129,\n",
       " 16384,\n",
       " 16641,\n",
       " 16900,\n",
       " 17161,\n",
       " 17424,\n",
       " 17689,\n",
       " 17956,\n",
       " 18225,\n",
       " 18496,\n",
       " 18769,\n",
       " 19044,\n",
       " 19321,\n",
       " 19600,\n",
       " 19881,\n",
       " 20164,\n",
       " 20449,\n",
       " 20736,\n",
       " 21025,\n",
       " 21316,\n",
       " 21609,\n",
       " 21904,\n",
       " 22201,\n",
       " 22500,\n",
       " 22801,\n",
       " 23104,\n",
       " 23409,\n",
       " 23716,\n",
       " 24025,\n",
       " 24336,\n",
       " 24649,\n",
       " 24964,\n",
       " 25281,\n",
       " 25600,\n",
       " 25921,\n",
       " 26244,\n",
       " 26569,\n",
       " 26896,\n",
       " 27225,\n",
       " 27556,\n",
       " 27889,\n",
       " 28224,\n",
       " 28561,\n",
       " 28900,\n",
       " 29241,\n",
       " 29584,\n",
       " 29929,\n",
       " 30276,\n",
       " 30625,\n",
       " 30976,\n",
       " 31329,\n",
       " 31684,\n",
       " 32041,\n",
       " 32400,\n",
       " 32761,\n",
       " 33124,\n",
       " 33489,\n",
       " 33856,\n",
       " 34225,\n",
       " 34596,\n",
       " 34969,\n",
       " 35344,\n",
       " 35721,\n",
       " 36100,\n",
       " 36481,\n",
       " 36864,\n",
       " 37249,\n",
       " 37636,\n",
       " 38025,\n",
       " 38416,\n",
       " 38809,\n",
       " 39204,\n",
       " 39601,\n",
       " 40000,\n",
       " 40401,\n",
       " 40804,\n",
       " 41209,\n",
       " 41616,\n",
       " 42025,\n",
       " 42436,\n",
       " 42849,\n",
       " 43264,\n",
       " 43681,\n",
       " 44100,\n",
       " 44521,\n",
       " 44944,\n",
       " 45369,\n",
       " 45796,\n",
       " 46225,\n",
       " 46656,\n",
       " 47089,\n",
       " 47524,\n",
       " 47961,\n",
       " 48400,\n",
       " 48841,\n",
       " 49284,\n",
       " 49729,\n",
       " 50176,\n",
       " 50625,\n",
       " 51076,\n",
       " 51529,\n",
       " 51984,\n",
       " 52441,\n",
       " 52900,\n",
       " 53361,\n",
       " 53824,\n",
       " 54289,\n",
       " 54756,\n",
       " 55225,\n",
       " 55696,\n",
       " 56169,\n",
       " 56644,\n",
       " 57121,\n",
       " 57600,\n",
       " 58081,\n",
       " 58564,\n",
       " 59049,\n",
       " 59536,\n",
       " 60025,\n",
       " 60516,\n",
       " 61009,\n",
       " 61504,\n",
       " 62001,\n",
       " 62500,\n",
       " 63001,\n",
       " 63504,\n",
       " 64009,\n",
       " 64516,\n",
       " 65025,\n",
       " 65536,\n",
       " 66049,\n",
       " 66564,\n",
       " 67081,\n",
       " 67600,\n",
       " 68121,\n",
       " 68644,\n",
       " 69169,\n",
       " 69696,\n",
       " 70225,\n",
       " 70756,\n",
       " 71289,\n",
       " 71824,\n",
       " 72361,\n",
       " 72900,\n",
       " 73441,\n",
       " 73984,\n",
       " 74529,\n",
       " 75076,\n",
       " 75625,\n",
       " 76176,\n",
       " 76729,\n",
       " 77284,\n",
       " 77841,\n",
       " 78400,\n",
       " 78961,\n",
       " 79524,\n",
       " 80089,\n",
       " 80656,\n",
       " 81225,\n",
       " 81796,\n",
       " 82369,\n",
       " 82944,\n",
       " 83521,\n",
       " 84100,\n",
       " 84681,\n",
       " 85264,\n",
       " 85849,\n",
       " 86436,\n",
       " 87025,\n",
       " 87616,\n",
       " 88209,\n",
       " 88804,\n",
       " 89401,\n",
       " 90000,\n",
       " 90601,\n",
       " 91204,\n",
       " 91809,\n",
       " 92416,\n",
       " 93025,\n",
       " 93636,\n",
       " 94249,\n",
       " 94864,\n",
       " 95481,\n",
       " 96100,\n",
       " 96721,\n",
       " 97344,\n",
       " 97969,\n",
       " 98596,\n",
       " 99225,\n",
       " 99856,\n",
       " 100489,\n",
       " 101124,\n",
       " 101761,\n",
       " 102400,\n",
       " 103041,\n",
       " 103684,\n",
       " 104329,\n",
       " 104976,\n",
       " 105625,\n",
       " 106276,\n",
       " 106929,\n",
       " 107584,\n",
       " 108241,\n",
       " 108900,\n",
       " 109561,\n",
       " 110224,\n",
       " 110889,\n",
       " 111556,\n",
       " 112225,\n",
       " 112896,\n",
       " 113569,\n",
       " 114244,\n",
       " 114921,\n",
       " 115600,\n",
       " 116281,\n",
       " 116964,\n",
       " 117649,\n",
       " 118336,\n",
       " 119025,\n",
       " 119716,\n",
       " 120409,\n",
       " 121104,\n",
       " 121801,\n",
       " 122500,\n",
       " 123201,\n",
       " 123904,\n",
       " 124609,\n",
       " 125316,\n",
       " 126025,\n",
       " 126736,\n",
       " 127449,\n",
       " 128164,\n",
       " 128881,\n",
       " 129600,\n",
       " 130321,\n",
       " 131044,\n",
       " 131769,\n",
       " 132496,\n",
       " 133225,\n",
       " 133956,\n",
       " 134689,\n",
       " 135424,\n",
       " 136161,\n",
       " 136900,\n",
       " 137641,\n",
       " 138384,\n",
       " 139129,\n",
       " 139876,\n",
       " 140625,\n",
       " 141376,\n",
       " 142129,\n",
       " 142884,\n",
       " 143641,\n",
       " 144400,\n",
       " 145161,\n",
       " 145924,\n",
       " 146689,\n",
       " 147456,\n",
       " 148225,\n",
       " 148996,\n",
       " 149769,\n",
       " 150544,\n",
       " 151321,\n",
       " 152100,\n",
       " 152881,\n",
       " 153664,\n",
       " 154449,\n",
       " 155236,\n",
       " 156025,\n",
       " 156816,\n",
       " 157609,\n",
       " 158404,\n",
       " 159201,\n",
       " 160000,\n",
       " 160801,\n",
       " 161604,\n",
       " 162409,\n",
       " 163216,\n",
       " 164025,\n",
       " 164836,\n",
       " 165649,\n",
       " 166464,\n",
       " 167281,\n",
       " 168100,\n",
       " 168921,\n",
       " 169744,\n",
       " 170569,\n",
       " 171396,\n",
       " 172225,\n",
       " 173056,\n",
       " 173889,\n",
       " 174724,\n",
       " 175561,\n",
       " 176400,\n",
       " 177241,\n",
       " 178084,\n",
       " 178929,\n",
       " 179776,\n",
       " 180625,\n",
       " 181476,\n",
       " 182329,\n",
       " 183184,\n",
       " 184041,\n",
       " 184900,\n",
       " 185761,\n",
       " 186624,\n",
       " 187489,\n",
       " 188356,\n",
       " 189225,\n",
       " 190096,\n",
       " 190969,\n",
       " 191844,\n",
       " 192721,\n",
       " 193600,\n",
       " 194481,\n",
       " 195364,\n",
       " 196249,\n",
       " 197136,\n",
       " 198025,\n",
       " 198916,\n",
       " 199809,\n",
       " 200704,\n",
       " 201601,\n",
       " 202500,\n",
       " 203401,\n",
       " 204304,\n",
       " 205209,\n",
       " 206116,\n",
       " 207025,\n",
       " 207936,\n",
       " 208849,\n",
       " 209764,\n",
       " 210681,\n",
       " 211600,\n",
       " 212521,\n",
       " 213444,\n",
       " 214369,\n",
       " 215296,\n",
       " 216225,\n",
       " 217156,\n",
       " 218089,\n",
       " 219024,\n",
       " 219961,\n",
       " 220900,\n",
       " 221841,\n",
       " 222784,\n",
       " 223729,\n",
       " 224676,\n",
       " 225625,\n",
       " 226576,\n",
       " 227529,\n",
       " 228484,\n",
       " 229441,\n",
       " 230400,\n",
       " 231361,\n",
       " 232324,\n",
       " 233289,\n",
       " 234256,\n",
       " 235225,\n",
       " 236196,\n",
       " 237169,\n",
       " 238144,\n",
       " 239121,\n",
       " 240100,\n",
       " 241081,\n",
       " 242064,\n",
       " 243049,\n",
       " 244036,\n",
       " 245025,\n",
       " 246016,\n",
       " 247009,\n",
       " 248004,\n",
       " 249001,\n",
       " 250000,\n",
       " 251001,\n",
       " 252004,\n",
       " 253009,\n",
       " 254016,\n",
       " 255025,\n",
       " 256036,\n",
       " 257049,\n",
       " 258064,\n",
       " 259081,\n",
       " 260100,\n",
       " 261121,\n",
       " 262144,\n",
       " 263169,\n",
       " 264196,\n",
       " 265225,\n",
       " 266256,\n",
       " 267289,\n",
       " 268324,\n",
       " 269361,\n",
       " 270400,\n",
       " 271441,\n",
       " 272484,\n",
       " 273529,\n",
       " 274576,\n",
       " 275625,\n",
       " 276676,\n",
       " 277729,\n",
       " 278784,\n",
       " 279841,\n",
       " 280900,\n",
       " 281961,\n",
       " 283024,\n",
       " 284089,\n",
       " 285156,\n",
       " 286225,\n",
       " 287296,\n",
       " 288369,\n",
       " 289444,\n",
       " 290521,\n",
       " 291600,\n",
       " 292681,\n",
       " 293764,\n",
       " 294849,\n",
       " 295936,\n",
       " 297025,\n",
       " 298116,\n",
       " 299209,\n",
       " 300304,\n",
       " 301401,\n",
       " 302500,\n",
       " 303601,\n",
       " 304704,\n",
       " 305809,\n",
       " 306916,\n",
       " 308025,\n",
       " 309136,\n",
       " 310249,\n",
       " 311364,\n",
       " 312481,\n",
       " 313600,\n",
       " 314721,\n",
       " 315844,\n",
       " 316969,\n",
       " 318096,\n",
       " 319225,\n",
       " 320356,\n",
       " 321489,\n",
       " 322624,\n",
       " 323761,\n",
       " 324900,\n",
       " 326041,\n",
       " 327184,\n",
       " 328329,\n",
       " 329476,\n",
       " 330625,\n",
       " 331776,\n",
       " 332929,\n",
       " 334084,\n",
       " 335241,\n",
       " 336400,\n",
       " 337561,\n",
       " 338724,\n",
       " 339889,\n",
       " 341056,\n",
       " 342225,\n",
       " 343396,\n",
       " 344569,\n",
       " 345744,\n",
       " 346921,\n",
       " 348100,\n",
       " 349281,\n",
       " 350464,\n",
       " 351649,\n",
       " 352836,\n",
       " 354025,\n",
       " 355216,\n",
       " 356409,\n",
       " 357604,\n",
       " 358801,\n",
       " 360000,\n",
       " 361201,\n",
       " 362404,\n",
       " 363609,\n",
       " 364816,\n",
       " 366025,\n",
       " 367236,\n",
       " 368449,\n",
       " 369664,\n",
       " 370881,\n",
       " 372100,\n",
       " 373321,\n",
       " 374544,\n",
       " 375769,\n",
       " 376996,\n",
       " 378225,\n",
       " 379456,\n",
       " 380689,\n",
       " 381924,\n",
       " 383161,\n",
       " 384400,\n",
       " 385641,\n",
       " 386884,\n",
       " 388129,\n",
       " 389376,\n",
       " 390625,\n",
       " 391876,\n",
       " 393129,\n",
       " 394384,\n",
       " 395641,\n",
       " 396900,\n",
       " 398161,\n",
       " 399424,\n",
       " 400689,\n",
       " 401956,\n",
       " 403225,\n",
       " 404496,\n",
       " 405769,\n",
       " 407044,\n",
       " 408321,\n",
       " 409600,\n",
       " 410881,\n",
       " 412164,\n",
       " 413449,\n",
       " 414736,\n",
       " 416025,\n",
       " 417316,\n",
       " 418609,\n",
       " 419904,\n",
       " 421201,\n",
       " 422500,\n",
       " 423801,\n",
       " 425104,\n",
       " 426409,\n",
       " 427716,\n",
       " 429025,\n",
       " 430336,\n",
       " 431649,\n",
       " 432964,\n",
       " 434281,\n",
       " 435600,\n",
       " 436921,\n",
       " 438244,\n",
       " 439569,\n",
       " 440896,\n",
       " 442225,\n",
       " 443556,\n",
       " 444889,\n",
       " 446224,\n",
       " 447561,\n",
       " 448900,\n",
       " 450241,\n",
       " 451584,\n",
       " 452929,\n",
       " 454276,\n",
       " 455625,\n",
       " 456976,\n",
       " 458329,\n",
       " 459684,\n",
       " 461041,\n",
       " 462400,\n",
       " 463761,\n",
       " 465124,\n",
       " 466489,\n",
       " 467856,\n",
       " 469225,\n",
       " 470596,\n",
       " 471969,\n",
       " 473344,\n",
       " 474721,\n",
       " 476100,\n",
       " 477481,\n",
       " 478864,\n",
       " 480249,\n",
       " 481636,\n",
       " 483025,\n",
       " 484416,\n",
       " 485809,\n",
       " 487204,\n",
       " 488601,\n",
       " 490000,\n",
       " 491401,\n",
       " 492804,\n",
       " 494209,\n",
       " 495616,\n",
       " 497025,\n",
       " 498436,\n",
       " 499849,\n",
       " 501264,\n",
       " 502681,\n",
       " 504100,\n",
       " 505521,\n",
       " 506944,\n",
       " 508369,\n",
       " 509796,\n",
       " 511225,\n",
       " 512656,\n",
       " 514089,\n",
       " 515524,\n",
       " 516961,\n",
       " 518400,\n",
       " 519841,\n",
       " 521284,\n",
       " 522729,\n",
       " 524176,\n",
       " 525625,\n",
       " 527076,\n",
       " 528529,\n",
       " 529984,\n",
       " 531441,\n",
       " 532900,\n",
       " 534361,\n",
       " 535824,\n",
       " 537289,\n",
       " 538756,\n",
       " 540225,\n",
       " 541696,\n",
       " 543169,\n",
       " 544644,\n",
       " 546121,\n",
       " 547600,\n",
       " 549081,\n",
       " 550564,\n",
       " 552049,\n",
       " 553536,\n",
       " 555025,\n",
       " 556516,\n",
       " 558009,\n",
       " 559504,\n",
       " 561001,\n",
       " 562500,\n",
       " 564001,\n",
       " 565504,\n",
       " 567009,\n",
       " 568516,\n",
       " 570025,\n",
       " 571536,\n",
       " 573049,\n",
       " 574564,\n",
       " 576081,\n",
       " 577600,\n",
       " 579121,\n",
       " 580644,\n",
       " 582169,\n",
       " 583696,\n",
       " 585225,\n",
       " 586756,\n",
       " 588289,\n",
       " 589824,\n",
       " 591361,\n",
       " 592900,\n",
       " 594441,\n",
       " 595984,\n",
       " 597529,\n",
       " 599076,\n",
       " 600625,\n",
       " 602176,\n",
       " 603729,\n",
       " 605284,\n",
       " 606841,\n",
       " 608400,\n",
       " 609961,\n",
       " 611524,\n",
       " 613089,\n",
       " 614656,\n",
       " 616225,\n",
       " 617796,\n",
       " 619369,\n",
       " 620944,\n",
       " 622521,\n",
       " 624100,\n",
       " 625681,\n",
       " 627264,\n",
       " 628849,\n",
       " 630436,\n",
       " 632025,\n",
       " 633616,\n",
       " 635209,\n",
       " 636804,\n",
       " 638401,\n",
       " 640000,\n",
       " 641601,\n",
       " 643204,\n",
       " 644809,\n",
       " 646416,\n",
       " 648025,\n",
       " 649636,\n",
       " 651249,\n",
       " 652864,\n",
       " 654481,\n",
       " 656100,\n",
       " 657721,\n",
       " 659344,\n",
       " 660969,\n",
       " 662596,\n",
       " 664225,\n",
       " 665856,\n",
       " 667489,\n",
       " 669124,\n",
       " 670761,\n",
       " 672400,\n",
       " 674041,\n",
       " 675684,\n",
       " 677329,\n",
       " 678976,\n",
       " 680625,\n",
       " 682276,\n",
       " 683929,\n",
       " 685584,\n",
       " 687241,\n",
       " 688900,\n",
       " 690561,\n",
       " 692224,\n",
       " 693889,\n",
       " 695556,\n",
       " 697225,\n",
       " 698896,\n",
       " 700569,\n",
       " 702244,\n",
       " 703921,\n",
       " 705600,\n",
       " 707281,\n",
       " 708964,\n",
       " 710649,\n",
       " 712336,\n",
       " 714025,\n",
       " 715716,\n",
       " 717409,\n",
       " 719104,\n",
       " 720801,\n",
       " 722500,\n",
       " 724201,\n",
       " 725904,\n",
       " 727609,\n",
       " 729316,\n",
       " 731025,\n",
       " 732736,\n",
       " 734449,\n",
       " 736164,\n",
       " 737881,\n",
       " 739600,\n",
       " 741321,\n",
       " 743044,\n",
       " 744769,\n",
       " 746496,\n",
       " 748225,\n",
       " 749956,\n",
       " 751689,\n",
       " 753424,\n",
       " 755161,\n",
       " 756900,\n",
       " 758641,\n",
       " 760384,\n",
       " 762129,\n",
       " 763876,\n",
       " 765625,\n",
       " 767376,\n",
       " 769129,\n",
       " 770884,\n",
       " 772641,\n",
       " 774400,\n",
       " 776161,\n",
       " 777924,\n",
       " 779689,\n",
       " 781456,\n",
       " 783225,\n",
       " 784996,\n",
       " 786769,\n",
       " 788544,\n",
       " 790321,\n",
       " 792100,\n",
       " 793881,\n",
       " 795664,\n",
       " 797449,\n",
       " 799236,\n",
       " 801025,\n",
       " 802816,\n",
       " 804609,\n",
       " 806404,\n",
       " 808201,\n",
       " 810000,\n",
       " 811801,\n",
       " 813604,\n",
       " 815409,\n",
       " 817216,\n",
       " 819025,\n",
       " 820836,\n",
       " 822649,\n",
       " 824464,\n",
       " 826281,\n",
       " 828100,\n",
       " 829921,\n",
       " 831744,\n",
       " 833569,\n",
       " 835396,\n",
       " 837225,\n",
       " 839056,\n",
       " 840889,\n",
       " 842724,\n",
       " 844561,\n",
       " 846400,\n",
       " 848241,\n",
       " 850084,\n",
       " 851929,\n",
       " 853776,\n",
       " 855625,\n",
       " 857476,\n",
       " 859329,\n",
       " 861184,\n",
       " 863041,\n",
       " 864900,\n",
       " 866761,\n",
       " 868624,\n",
       " 870489,\n",
       " 872356,\n",
       " 874225,\n",
       " 876096,\n",
       " 877969,\n",
       " 879844,\n",
       " 881721,\n",
       " 883600,\n",
       " 885481,\n",
       " 887364,\n",
       " 889249,\n",
       " 891136,\n",
       " 893025,\n",
       " 894916,\n",
       " 896809,\n",
       " 898704,\n",
       " 900601,\n",
       " 902500,\n",
       " 904401,\n",
       " 906304,\n",
       " 908209,\n",
       " 910116,\n",
       " 912025,\n",
       " 913936,\n",
       " 915849,\n",
       " 917764,\n",
       " 919681,\n",
       " 921600,\n",
       " 923521,\n",
       " 925444,\n",
       " 927369,\n",
       " 929296,\n",
       " 931225,\n",
       " 933156,\n",
       " 935089,\n",
       " 937024,\n",
       " 938961,\n",
       " 940900,\n",
       " 942841,\n",
       " 944784,\n",
       " 946729,\n",
       " 948676,\n",
       " 950625,\n",
       " 952576,\n",
       " 954529,\n",
       " 956484,\n",
       " 958441,\n",
       " 960400,\n",
       " 962361,\n",
       " 964324,\n",
       " 966289,\n",
       " 968256,\n",
       " 970225,\n",
       " 972196,\n",
       " 974169,\n",
       " 976144,\n",
       " 978121,\n",
       " 980100,\n",
       " 982081,\n",
       " 984064,\n",
       " 986049,\n",
       " 988036,\n",
       " 990025,\n",
       " 992016,\n",
       " 994009,\n",
       " 996004,\n",
       " 998001,\n",
       " ...]"
      ]
     },
     "execution_count": 97,
     "metadata": {},
     "output_type": "execute_result"
    }
   ],
   "source": [
    "%%time\n",
    "list(map(square, range(100000000)))"
   ]
  },
  {
   "cell_type": "markdown",
   "id": "7ea069e8",
   "metadata": {},
   "source": [
    "The `map` function compared to `list` function is only fractionally faster in some cases. But `vectorization` using `numpy` is much faster than all. We will learn this in the upcoming sessions"
   ]
  },
  {
   "cell_type": "markdown",
   "id": "ce29e511",
   "metadata": {
    "slideshow": {
     "slide_type": "-"
    }
   },
   "source": [
    "# Modules\n",
    "\n",
    "A python module is a piece of python code (`.py` file) that can contains functions, variable and classes.  Consider a module to be the same as a code library.\n",
    "\n",
    "Think of python module as file containing a set of functions you want to include in your application.\n",
    "\n",
    "\n",
    "Advantages of using modules:\n",
    "- Grouping related code into a module makes the code easier to understand and use. It also makes the code logically organized\n",
    "\n",
    "\n",
    "[More about python modules](https://www.w3schools.com/python/python_modules.asp)"
   ]
  },
  {
   "cell_type": "markdown",
   "id": "a371408b",
   "metadata": {},
   "source": [
    "## Creating and importing a module\n",
    "\n",
    "To create a simple module:\n",
    "\n",
    "```python\n",
    "# A simple module, calc.py\n",
    "  \n",
    "def add(x, y):\n",
    "    return (x+y)\n",
    "  \n",
    "def subtract(x, y):\n",
    "    return (x-y)\n",
    "```\n",
    "And to import the module:"
   ]
  },
  {
   "cell_type": "code",
   "execution_count": 9,
   "id": "4d6e050a",
   "metadata": {},
   "outputs": [
    {
     "name": "stdout",
     "output_type": "stream",
     "text": [
      "7\n",
      "-1\n"
     ]
    }
   ],
   "source": [
    "import calc\n",
    "\n",
    "print(calc.add(3,4))\n",
    "print(calc.subtract(3,4))"
   ]
  },
  {
   "cell_type": "markdown",
   "id": "829bec58",
   "metadata": {},
   "source": [
    "Different ways of importing:\n",
    "1. you can also import the functions directly like:\n",
    "```python\n",
    "from calc import add\n",
    "```\n",
    "2. Importing all the functions, if you have many functions and import all at once then:\n",
    "```python\n",
    "from calc import *\n",
    "```\n",
    "And use\n",
    "```python \n",
    "add(3,4)\n",
    "## prints 7\n",
    "subtract(3,4)\n",
    "## prints -1\n",
    "```\n",
    "- The functions in this case doesnot have to be called with `calc.{some_function}` but you can directy call the function by name.\n",
    "- But This is not recommended since it makes it very inefficient to import all the functions. Only import those functions which are required.\n",
    "- Also it becomes very confusing from where the functions were imported from\n",
    "\n",
    "3. Import multiple functions from a module:\n",
    "```python\n",
    "from calc import add, subtract\n",
    "```\n",
    "\n",
    "Similarly we can have our word count function in a separate file or module:\n",
    "```python\n",
    "## functions.py file module:\n",
    "def word_counts(text):\n",
    "    '''\n",
    "    this function counts the number of words given a paragraph\n",
    "    '''\n",
    "    words = text.split(\" \")\n",
    "    word_count = {}\n",
    "    for word in words:\n",
    "        if word in word_count.keys():\n",
    "            word_count[word] += 2\n",
    "        else:\n",
    "            word_count[word] = 1\n",
    "\n",
    "    return word_count\n",
    "\n",
    "def calculator(a,b):\n",
    "    \n",
    "    '''This is calculator application, does addition, sub, mul and division'''\n",
    "    \n",
    "    add = a+b \n",
    "    sub = a-b\n",
    "    mul = a*b\n",
    "    div = a/b\n",
    "    \n",
    "    return add,sub,mul,div\n",
    "```\n",
    "\n",
    "Note: This has to be stored in the same working directory or you create a folder and keep the .py files in the same directory. When stored in folder in order to import it you need to call:\n",
    "\n",
    "```python\n",
    "from folder import functions\n",
    "```"
   ]
  },
  {
   "cell_type": "code",
   "execution_count": 10,
   "id": "f1f597df",
   "metadata": {},
   "outputs": [
    {
     "data": {
      "text/plain": [
       "<function functions.word_counts(text)>"
      ]
     },
     "execution_count": 10,
     "metadata": {},
     "output_type": "execute_result"
    }
   ],
   "source": [
    "import functions\n",
    "functions.word_counts"
   ]
  },
  {
   "cell_type": "code",
   "execution_count": 13,
   "id": "6e0cfcf7",
   "metadata": {},
   "outputs": [
    {
     "data": {
      "text/plain": [
       "{'Generating': 1,\n",
       " 'random': 7,\n",
       " 'paragraphs': 1,\n",
       " 'can': 3,\n",
       " 'be': 5,\n",
       " 'an': 1,\n",
       " 'excellent': 1,\n",
       " 'way': 1,\n",
       " 'for': 1,\n",
       " 'writers': 1,\n",
       " 'to': 13,\n",
       " 'get': 1,\n",
       " 'their': 3,\n",
       " 'creative': 1,\n",
       " 'flow': 1,\n",
       " 'going': 1,\n",
       " 'at': 1,\n",
       " 'the': 21,\n",
       " 'beginning': 1,\n",
       " 'of': 7,\n",
       " 'day.': 1,\n",
       " 'The': 5,\n",
       " 'writer': 7,\n",
       " 'has': 1,\n",
       " 'no': 1,\n",
       " 'idea': 1,\n",
       " 'what': 1,\n",
       " 'topic': 1,\n",
       " 'paragraph': 11,\n",
       " 'will': 1,\n",
       " 'about': 1,\n",
       " 'when': 1,\n",
       " 'it': 1,\n",
       " 'appears.': 1,\n",
       " 'This': 1,\n",
       " 'forces': 1,\n",
       " 'use': 7,\n",
       " 'creativity': 3,\n",
       " 'complete': 1,\n",
       " 'one': 3,\n",
       " 'three': 1,\n",
       " 'common': 1,\n",
       " 'writing': 3,\n",
       " 'challenges.': 1,\n",
       " 'as': 1,\n",
       " 'first': 1,\n",
       " 'a': 5,\n",
       " 'short': 5,\n",
       " 'story': 3,\n",
       " 'and': 1,\n",
       " 'build': 1,\n",
       " 'upon': 1,\n",
       " 'it.': 1,\n",
       " 'A': 1,\n",
       " 'second': 1,\n",
       " 'option': 3,\n",
       " 'is': 7,\n",
       " 'somewhere': 1,\n",
       " 'in': 3,\n",
       " 'they': 1,\n",
       " 'create.': 1,\n",
       " 'third': 1,\n",
       " 'have': 1,\n",
       " 'ending': 1,\n",
       " 'story.': 1,\n",
       " 'No': 1,\n",
       " 'matter': 1,\n",
       " 'which': 1,\n",
       " 'these': 1,\n",
       " 'challenges': 1,\n",
       " 'undertaken,': 1,\n",
       " 'forced': 1,\n",
       " 'incorporate': 1,\n",
       " 'into': 1}"
      ]
     },
     "execution_count": 13,
     "metadata": {},
     "output_type": "execute_result"
    }
   ],
   "source": [
    "para = \"Generating random paragraphs can be an excellent way for writers to get their creative flow going at the beginning of the day. The writer has no idea what topic the random paragraph will be about when it appears. This forces the writer to use creativity to complete one of three common writing challenges. The writer can use the paragraph as the first one of a short story and build upon it. A second option is to use the random paragraph somewhere in a short story they create. The third option is to have the random paragraph be the ending paragraph in a short story. No matter which of these challenges is undertaken, the writer is forced to use creativity to incorporate the paragraph into their writing\"\n",
    "functions.word_counts(para)"
   ]
  },
  {
   "cell_type": "markdown",
   "id": "8aa14c1d",
   "metadata": {},
   "source": [
    "## Variables in modules\n",
    "\n",
    "The module can contain functions, as already described, but also variables of all types (arrays, dictionaries, objects etc):\n",
    "\n",
    "example_module.py file:\n",
    "```python\n",
    "## float constant\n",
    "pi = 3.14159\n",
    "\n",
    "## Integer value\n",
    "mobile_no = 9999999999\n",
    "\n",
    "## String value\n",
    "password = \"Hello@123\"\n",
    "\n",
    "## List variable: containing name of all the countries\n",
    "countries = ['Afghanistan', 'Aland Islands', 'Albania', ... 'Zambia', 'Zimbabwe']\n",
    "\n",
    "## dictionary\n",
    "person1 = {\n",
    "  \"name\": \"John\",\n",
    "  \"age\": 36,\n",
    "  \"country\": \"Norway\"\n",
    "}\n",
    "\n",
    "## Function\n",
    "def welcome_user(name):\n",
    "    print(f\"Welcome {name}\")\n",
    "```"
   ]
  },
  {
   "cell_type": "code",
   "execution_count": 20,
   "id": "ad4e1a08",
   "metadata": {},
   "outputs": [
    {
     "name": "stdout",
     "output_type": "stream",
     "text": [
      "Hello@123\n",
      "['Andorra', 'Angola', 'Anguilla', 'Antarctica', 'Antigua and Barbuda']\n",
      "John 36\n",
      "Welcome John\n"
     ]
    }
   ],
   "source": [
    "import example_module as ex\n",
    "\n",
    "print(ex.password) \n",
    "print(ex.countries[5:10]) ## Print the contries from 5-10 index\n",
    "print(ex.person1[\"name\"], ex.person1[\"age\"])\n",
    "ex.welcome_user(ex.person1[\"name\"])"
   ]
  },
  {
   "cell_type": "markdown",
   "id": "e2f9816e",
   "metadata": {},
   "source": [
    "## Python default / Built-in modules\n",
    "\n",
    "There are several built-in modules in Python, which you can import as per your requirements. \n",
    "\n",
    "For example if you are dealing with math calculation you can import:"
   ]
  },
  {
   "cell_type": "code",
   "execution_count": 22,
   "id": "4ab32595",
   "metadata": {},
   "outputs": [],
   "source": [
    "import math"
   ]
  },
  {
   "cell_type": "code",
   "execution_count": 23,
   "id": "40d01a23",
   "metadata": {},
   "outputs": [
    {
     "data": {
      "text/plain": [
       "0.4997701026431024"
      ]
     },
     "execution_count": 23,
     "metadata": {},
     "output_type": "execute_result"
    }
   ],
   "source": [
    "math.sin(30*3.14/180)"
   ]
  },
  {
   "cell_type": "code",
   "execution_count": 24,
   "id": "e80fdd86",
   "metadata": {},
   "outputs": [
    {
     "data": {
      "text/plain": [
       "0.866158094405463"
      ]
     },
     "execution_count": 24,
     "metadata": {},
     "output_type": "execute_result"
    }
   ],
   "source": [
    "math.cos(30*3.14/180)"
   ]
  },
  {
   "cell_type": "code",
   "execution_count": 25,
   "id": "0778cd3c",
   "metadata": {},
   "outputs": [
    {
     "data": {
      "text/plain": [
       "5.477225575051661"
      ]
     },
     "execution_count": 25,
     "metadata": {},
     "output_type": "execute_result"
    }
   ],
   "source": [
    "math.sqrt(30)"
   ]
  },
  {
   "cell_type": "markdown",
   "id": "e6d01405",
   "metadata": {},
   "source": [
    "OS - operating system python built in library\n",
    "\n",
    "The OS module in Python provides functions for interacting with the operating system. OS comes under Python’s standard utility modules. This module provides a portable way of using operating system-dependent functionality. The *os* and *os.path* modules include many functions to interact with the file system"
   ]
  },
  {
   "cell_type": "code",
   "execution_count": 26,
   "id": "4f75fbcf",
   "metadata": {},
   "outputs": [],
   "source": [
    "import os"
   ]
  },
  {
   "cell_type": "code",
   "execution_count": 27,
   "id": "5e65c2e7",
   "metadata": {},
   "outputs": [
    {
     "data": {
      "text/plain": [
       "'C:\\\\Users\\\\KVBA\\\\OneDrive - Ramboll\\\\Documents\\\\Python training'"
      ]
     },
     "execution_count": 27,
     "metadata": {},
     "output_type": "execute_result"
    }
   ],
   "source": [
    "os.getcwd() ## Get the current working directory"
   ]
  },
  {
   "cell_type": "code",
   "execution_count": 28,
   "id": "2f3eb3d2",
   "metadata": {},
   "outputs": [
    {
     "data": {
      "text/plain": [
       "['.ipynb_checkpoints',\n",
       " '01_python_basics.ipynb',\n",
       " '02_python_basics.ipynb',\n",
       " '03_python_basics.ipynb',\n",
       " '04_python_basics.ipynb',\n",
       " '05-python training.ipynb',\n",
       " '06-numpy.ipynb',\n",
       " 'attendance',\n",
       " 'attendance.xlsx',\n",
       " 'calc.py',\n",
       " 'example_module.py',\n",
       " 'functions.py',\n",
       " 'google-python-exercises',\n",
       " 'untitled.txt',\n",
       " '__pycache__']"
      ]
     },
     "execution_count": 28,
     "metadata": {},
     "output_type": "execute_result"
    }
   ],
   "source": [
    "os.listdir() ## get the list of files in the current working directory"
   ]
  },
  {
   "cell_type": "markdown",
   "id": "2ab30fe2",
   "metadata": {},
   "source": [
    "You can explore more on this [link](https://www.geeksforgeeks.org/os-module-python-examples/)"
   ]
  }
 ],
 "metadata": {
  "kernelspec": {
   "display_name": "Python 3",
   "language": "python",
   "name": "python3"
  },
  "language_info": {
   "codemirror_mode": {
    "name": "ipython",
    "version": 3
   },
   "file_extension": ".py",
   "mimetype": "text/x-python",
   "name": "python",
   "nbconvert_exporter": "python",
   "pygments_lexer": "ipython3",
   "version": "3.8.8"
  },
  "toc": {
   "base_numbering": 1,
   "nav_menu": {},
   "number_sections": true,
   "sideBar": true,
   "skip_h1_title": false,
   "title_cell": "Table of Contents",
   "title_sidebar": "Contents",
   "toc_cell": false,
   "toc_position": {
    "height": "calc(100% - 180px)",
    "left": "10px",
    "top": "150px",
    "width": "244.735px"
   },
   "toc_section_display": true,
   "toc_window_display": true
  }
 },
 "nbformat": 4,
 "nbformat_minor": 5
}
