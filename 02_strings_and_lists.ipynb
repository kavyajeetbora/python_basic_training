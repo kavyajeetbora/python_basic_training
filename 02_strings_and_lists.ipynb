{
 "cells": [
  {
   "cell_type": "markdown",
   "id": "638d8865",
   "metadata": {},
   "source": [
    "![](https://i.morioh.com/2020/02/13/1b9be013bc43.jpg)\n",
    "# Chapter 2\n",
    "\n",
    "outline\n",
    "\n",
    "- Strings are list\n",
    "- what are list and tuples?\n",
    "- for loops"
   ]
  },
  {
   "cell_type": "markdown",
   "id": "568feee9",
   "metadata": {},
   "source": [
    "# Python Strings are list\n",
    "\n",
    "![](https://www.alphacodingskills.com/python/img/python-string.png)\n",
    "\n",
    "\n",
    "String slicing: \n",
    "[Read more on string slices](https://developers.google.com/edu/python/strings#string-slices)"
   ]
  },
  {
   "cell_type": "code",
   "execution_count": 4,
   "id": "5786a0cf",
   "metadata": {},
   "outputs": [
    {
     "data": {
      "text/plain": [
       "'H'"
      ]
     },
     "execution_count": 4,
     "metadata": {},
     "output_type": "execute_result"
    }
   ],
   "source": [
    "text = \"Hello\"\n",
    "text[0]"
   ]
  },
  {
   "cell_type": "code",
   "execution_count": 5,
   "id": "fb796ce1",
   "metadata": {},
   "outputs": [
    {
     "data": {
      "text/plain": [
       "'e'"
      ]
     },
     "execution_count": 5,
     "metadata": {},
     "output_type": "execute_result"
    }
   ],
   "source": [
    "text[1]"
   ]
  },
  {
   "cell_type": "code",
   "execution_count": 6,
   "id": "6a31b501",
   "metadata": {},
   "outputs": [
    {
     "data": {
      "text/plain": [
       "'Hel'"
      ]
     },
     "execution_count": 6,
     "metadata": {},
     "output_type": "execute_result"
    }
   ],
   "source": [
    "text[0:3]"
   ]
  },
  {
   "cell_type": "code",
   "execution_count": 7,
   "id": "37ce7327",
   "metadata": {},
   "outputs": [
    {
     "data": {
      "text/plain": [
       "'o'"
      ]
     },
     "execution_count": 7,
     "metadata": {},
     "output_type": "execute_result"
    }
   ],
   "source": [
    "text[-1]"
   ]
  },
  {
   "cell_type": "code",
   "execution_count": 9,
   "id": "0c6b4644",
   "metadata": {},
   "outputs": [
    {
     "data": {
      "text/plain": [
       "'ll'"
      ]
     },
     "execution_count": 9,
     "metadata": {},
     "output_type": "execute_result"
    }
   ],
   "source": [
    "text[-3:-1]"
   ]
  },
  {
   "cell_type": "code",
   "execution_count": 10,
   "id": "702fec2f",
   "metadata": {},
   "outputs": [
    {
     "data": {
      "text/plain": [
       "'llo'"
      ]
     },
     "execution_count": 10,
     "metadata": {},
     "output_type": "execute_result"
    }
   ],
   "source": [
    "text[-3:]"
   ]
  },
  {
   "cell_type": "code",
   "execution_count": 11,
   "id": "689e2294",
   "metadata": {},
   "outputs": [
    {
     "data": {
      "text/plain": [
       "5"
      ]
     },
     "execution_count": 11,
     "metadata": {},
     "output_type": "execute_result"
    }
   ],
   "source": [
    "len(text)"
   ]
  },
  {
   "cell_type": "markdown",
   "id": "3b22de4a",
   "metadata": {},
   "source": [
    "## List and tuple\n",
    "\n",
    "1. what are python `list`?\n",
    "![](https://pynative.com/wp-content/uploads/2021/03/python-list.jpg)\n",
    "\n",
    "2. what are python `tuple` ?\n",
    "![](https://pynative.com/wp-content/uploads/2021/02/python-tuple.jpg)"
   ]
  },
  {
   "cell_type": "markdown",
   "id": "13b82ab3",
   "metadata": {},
   "source": [
    "## Initiating List and indexing"
   ]
  },
  {
   "cell_type": "code",
   "execution_count": 12,
   "id": "be129242",
   "metadata": {},
   "outputs": [
    {
     "data": {
      "text/plain": [
       "[1, 2, 3, 4, 5, 6, 7, 8, 9, 10]"
      ]
     },
     "execution_count": 12,
     "metadata": {},
     "output_type": "execute_result"
    }
   ],
   "source": [
    "[1,2,3,4,5,6,7,8,9,10]"
   ]
  },
  {
   "cell_type": "code",
   "execution_count": 13,
   "id": "bdddceb2",
   "metadata": {},
   "outputs": [
    {
     "data": {
      "text/plain": [
       "1"
      ]
     },
     "execution_count": 13,
     "metadata": {},
     "output_type": "execute_result"
    }
   ],
   "source": [
    "a = [1,2,3,4,5,6,7,8,9,10]\n",
    "a[0]"
   ]
  },
  {
   "cell_type": "code",
   "execution_count": 14,
   "id": "9186b6b6",
   "metadata": {},
   "outputs": [
    {
     "data": {
      "text/plain": [
       "6"
      ]
     },
     "execution_count": 14,
     "metadata": {},
     "output_type": "execute_result"
    }
   ],
   "source": [
    "a[5]"
   ]
  },
  {
   "cell_type": "code",
   "execution_count": 15,
   "id": "87a6189a",
   "metadata": {},
   "outputs": [
    {
     "data": {
      "text/plain": [
       "[1, 2, 3, 4, 5, 6, 7, 8, 9, 999]"
      ]
     },
     "execution_count": 15,
     "metadata": {},
     "output_type": "execute_result"
    }
   ],
   "source": [
    "a[-1] = 999\n",
    "a"
   ]
  },
  {
   "cell_type": "markdown",
   "id": "039a2ae7",
   "metadata": {},
   "source": [
    "## Initiating tuple and indexing"
   ]
  },
  {
   "cell_type": "code",
   "execution_count": 3,
   "id": "ccce38a8",
   "metadata": {},
   "outputs": [
    {
     "data": {
      "text/plain": [
       "(1, 2, 3, 4, 5, 6, 7, 8, 9, 10)"
      ]
     },
     "execution_count": 3,
     "metadata": {},
     "output_type": "execute_result"
    }
   ],
   "source": [
    "(1,2,3,4,5,6,7,8,9,10)"
   ]
  },
  {
   "cell_type": "markdown",
   "id": "21df9292",
   "metadata": {},
   "source": [
    "**Note:** It is important to note that since tuple are immutable objects, it cannot be modified\n",
    "\n",
    "```python\n",
    "b = (1,2,3,4,5,6,7,8,9,10)\n",
    "b[0] = 999\n",
    "```\n",
    "\n",
    "output:\n",
    "\n",
    "```python\n",
    "---------------------------------------------------------------------------\n",
    "TypeError                                 Traceback (most recent call last)\n",
    "<ipython-input-17-c9562e655aa2> in <module>\n",
    "      1 b = (1,2,3,4,5,6,7,8,9,10)\n",
    "----> 2 b[0] = 999\n",
    "\n",
    "TypeError: 'tuple' object does not support item assignment\n",
    "```"
   ]
  },
  {
   "cell_type": "code",
   "execution_count": 4,
   "id": "dfca1277",
   "metadata": {},
   "outputs": [
    {
     "data": {
      "text/plain": [
       "1"
      ]
     },
     "execution_count": 4,
     "metadata": {},
     "output_type": "execute_result"
    }
   ],
   "source": [
    "b[0]"
   ]
  },
  {
   "cell_type": "code",
   "execution_count": 19,
   "id": "5000f762",
   "metadata": {},
   "outputs": [
    {
     "data": {
      "text/plain": [
       "['a', 'b', 'c', 'd']"
      ]
     },
     "execution_count": 19,
     "metadata": {},
     "output_type": "execute_result"
    }
   ],
   "source": [
    "[\"a\", \"b\", \"c\", \"d\"]"
   ]
  },
  {
   "cell_type": "markdown",
   "id": "d0ac62bf",
   "metadata": {},
   "source": [
    "Checking the length or the count of the list/tuple"
   ]
  },
  {
   "cell_type": "code",
   "execution_count": 20,
   "id": "6db4043a",
   "metadata": {},
   "outputs": [
    {
     "data": {
      "text/plain": [
       "10"
      ]
     },
     "execution_count": 20,
     "metadata": {},
     "output_type": "execute_result"
    }
   ],
   "source": [
    "len(b)"
   ]
  },
  {
   "cell_type": "markdown",
   "id": "65681056",
   "metadata": {},
   "source": [
    "## List and Tuple are hetergeneous:\n",
    "\n",
    "It can store any data type inside of it. It can also store duplicates unlike python `set`"
   ]
  },
  {
   "cell_type": "code",
   "execution_count": 22,
   "id": "a2c7aa7e",
   "metadata": {},
   "outputs": [
    {
     "data": {
      "text/plain": [
       "['a', 'b', 'c', 'd', 1, 2, 3, 4, 5, True, 10000000000.0, 0.99174]"
      ]
     },
     "execution_count": 22,
     "metadata": {},
     "output_type": "execute_result"
    }
   ],
   "source": [
    "[\"a\", \"b\", \"c\", \"d\", 1,2,3,4,5, True, 1e10, 0.99174]"
   ]
  },
  {
   "cell_type": "code",
   "execution_count": 24,
   "id": "1022636a",
   "metadata": {},
   "outputs": [
    {
     "data": {
      "text/plain": [
       "('a', 'b', 'c', 'd', 1, 2, 3, 4, 5, True, 10000000000.0, 0.99174)"
      ]
     },
     "execution_count": 24,
     "metadata": {},
     "output_type": "execute_result"
    }
   ],
   "source": [
    "(\"a\", \"b\", \"c\", \"d\", 1,2,3,4,5, True, 1e10, 0.99174)"
   ]
  },
  {
   "cell_type": "code",
   "execution_count": 54,
   "id": "70ec6e9e",
   "metadata": {},
   "outputs": [
    {
     "data": {
      "text/plain": [
       "['a', 'b', 'c', 'd', 1, 2, 3, 4, 5, True, 10000000000.0, 0.99174, [1, 2, 3]]"
      ]
     },
     "execution_count": 54,
     "metadata": {},
     "output_type": "execute_result"
    }
   ],
   "source": [
    "b = [\"a\", \"b\", \"c\", \"d\", 1,2,3,4,5, True, 1e10, 0.99174, [1,2,3]]\n",
    "b"
   ]
  },
  {
   "cell_type": "code",
   "execution_count": 55,
   "id": "f5faa62e",
   "metadata": {},
   "outputs": [
    {
     "data": {
      "text/plain": [
       "[1, 2, 3]"
      ]
     },
     "execution_count": 55,
     "metadata": {},
     "output_type": "execute_result"
    }
   ],
   "source": [
    "b[-1]"
   ]
  },
  {
   "cell_type": "code",
   "execution_count": 59,
   "id": "44f747eb",
   "metadata": {},
   "outputs": [
    {
     "data": {
      "text/plain": [
       "9999"
      ]
     },
     "execution_count": 59,
     "metadata": {},
     "output_type": "execute_result"
    }
   ],
   "source": [
    "table = [[1,9999,4], [1,2,4], [1,2,4], [1,2,4], [1,2,4]]\n",
    "table[0][1]"
   ]
  },
  {
   "cell_type": "markdown",
   "id": "5a62127e",
   "metadata": {},
   "source": [
    "## Appending and dropping members to/from list"
   ]
  },
  {
   "cell_type": "code",
   "execution_count": 5,
   "id": "51010c0b",
   "metadata": {},
   "outputs": [
    {
     "data": {
      "text/plain": [
       "[10, 120, 190, 19]"
      ]
     },
     "execution_count": 5,
     "metadata": {},
     "output_type": "execute_result"
    }
   ],
   "source": [
    "a = []\n",
    "a.append(10)\n",
    "a.append(120)\n",
    "a.append(190)\n",
    "a.append(19)\n",
    "a"
   ]
  },
  {
   "cell_type": "code",
   "execution_count": 38,
   "id": "7713f20e",
   "metadata": {},
   "outputs": [
    {
     "data": {
      "text/plain": [
       "[10, 120]"
      ]
     },
     "execution_count": 38,
     "metadata": {},
     "output_type": "execute_result"
    }
   ],
   "source": [
    "a.pop(2)\n",
    "a"
   ]
  },
  {
   "cell_type": "code",
   "execution_count": 42,
   "id": "e6e9635f",
   "metadata": {},
   "outputs": [
    {
     "data": {
      "text/plain": [
       "[99, 10, 120, 190, 19]"
      ]
     },
     "execution_count": 42,
     "metadata": {},
     "output_type": "execute_result"
    }
   ],
   "source": [
    "a = [10, 120, 190, 19]\n",
    "a.insert(0, 99)\n",
    "a"
   ]
  },
  {
   "cell_type": "code",
   "execution_count": 51,
   "id": "9674d725",
   "metadata": {},
   "outputs": [
    {
     "data": {
      "text/plain": [
       "[10, 120, 190, 1000, 19]"
      ]
     },
     "execution_count": 51,
     "metadata": {},
     "output_type": "execute_result"
    }
   ],
   "source": [
    "a = [10, 120, 190, 19]\n",
    "a.insert(-1, 1000)\n",
    "a"
   ]
  },
  {
   "cell_type": "code",
   "execution_count": 45,
   "id": "58302976",
   "metadata": {},
   "outputs": [
    {
     "data": {
      "text/plain": [
       "[]"
      ]
     },
     "execution_count": 45,
     "metadata": {},
     "output_type": "execute_result"
    }
   ],
   "source": [
    "a.clear()\n",
    "a"
   ]
  },
  {
   "cell_type": "code",
   "execution_count": 52,
   "id": "7dbdd4ba",
   "metadata": {},
   "outputs": [
    {
     "data": {
      "text/plain": [
       "[1000, 19]"
      ]
     },
     "execution_count": 52,
     "metadata": {},
     "output_type": "execute_result"
    }
   ],
   "source": [
    "del a[0:3]\n",
    "a"
   ]
  },
  {
   "cell_type": "code",
   "execution_count": 50,
   "id": "eba58e5c",
   "metadata": {},
   "outputs": [
    {
     "data": {
      "text/plain": [
       "[120, 190, 1000, 19]"
      ]
     },
     "execution_count": 50,
     "metadata": {},
     "output_type": "execute_result"
    }
   ],
   "source": [
    "a"
   ]
  },
  {
   "cell_type": "markdown",
   "id": "5e009dbf",
   "metadata": {},
   "source": [
    "## Sorting a list/tuple"
   ]
  },
  {
   "cell_type": "code",
   "execution_count": 9,
   "id": "c3fb87e3",
   "metadata": {},
   "outputs": [
    {
     "data": {
      "text/plain": [
       "[1, 2, 2, 3, 5, 7, 8, 10]"
      ]
     },
     "execution_count": 9,
     "metadata": {},
     "output_type": "execute_result"
    }
   ],
   "source": [
    "c = [10,7,8,3,2,1,2,5]\n",
    "sorted(c)"
   ]
  },
  {
   "cell_type": "code",
   "execution_count": 10,
   "id": "11766293",
   "metadata": {},
   "outputs": [
    {
     "data": {
      "text/plain": [
       "[10, 8, 7, 5, 3, 2, 2, 1]"
      ]
     },
     "execution_count": 10,
     "metadata": {},
     "output_type": "execute_result"
    }
   ],
   "source": [
    "c = [10,7,8,3,2,1,2,5]\n",
    "sorted(c, reverse=True)"
   ]
  },
  {
   "cell_type": "markdown",
   "id": "57215673",
   "metadata": {},
   "source": [
    "## Appending a list to another list\n",
    "\n",
    "use `extend()` function:\n",
    "\n",
    "The extend() method adds all the elements of an iterable (list, tuple, string etc.) to the end of the list\n",
    "\n",
    "1. [For more information and practice on python list](https://pynative.com/python-lists/)\n",
    "2. [More information and practice on python tuple](https://pynative.com/python-tuples/)"
   ]
  },
  {
   "cell_type": "code",
   "execution_count": 90,
   "id": "d880873d",
   "metadata": {},
   "outputs": [
    {
     "data": {
      "text/plain": [
       "[1, 2, 3, 4, 10, 20, 30, 40]"
      ]
     },
     "execution_count": 90,
     "metadata": {},
     "output_type": "execute_result"
    }
   ],
   "source": [
    "a = [1,2,3,4]\n",
    "b = [10,20,30,40]\n",
    "a.extend(b)\n",
    "a"
   ]
  },
  {
   "cell_type": "markdown",
   "id": "e8dc7710",
   "metadata": {},
   "source": [
    "## Conclusion\n",
    "\n",
    "There are many other different functionalities in python `list`\n",
    "\n",
    "You can explore more and practice with the given examples [here](https://www.programiz.com/python-programming/methods/list)"
   ]
  },
  {
   "cell_type": "markdown",
   "id": "c3d90851",
   "metadata": {},
   "source": [
    "# Python `range()`\n",
    "\n",
    "The range() is a built-in function that returns a range object that consists series of integer numbers, which we can iterate using a for loop.\n",
    "\n",
    "In Python, Using a for loop with range(), we can repeat an action a specific number of times.\n",
    "\n",
    "Python range() function generates the immutable sequence of numbers starting from the given start integer to the stop integer\n",
    "\n",
    "Range syntax:\n",
    "```python\n",
    "range(start, stop[, step])\n",
    "```\n",
    "\n",
    "[Read more on range() function and practice exercises](https://pynative.com/python-range-function/)"
   ]
  },
  {
   "cell_type": "code",
   "execution_count": 11,
   "id": "a189aaaf",
   "metadata": {},
   "outputs": [
    {
     "data": {
      "text/plain": [
       "range(1, 10)"
      ]
     },
     "execution_count": 11,
     "metadata": {},
     "output_type": "execute_result"
    }
   ],
   "source": [
    "range(1,10,1)"
   ]
  },
  {
   "cell_type": "markdown",
   "id": "524e470c",
   "metadata": {},
   "source": [
    "To display the elements of the range, put the range inside of `list` function"
   ]
  },
  {
   "cell_type": "code",
   "execution_count": 12,
   "id": "c1645cde",
   "metadata": {},
   "outputs": [
    {
     "data": {
      "text/plain": [
       "[0, 1, 2, 3, 4, 5, 6, 7, 8, 9]"
      ]
     },
     "execution_count": 12,
     "metadata": {},
     "output_type": "execute_result"
    }
   ],
   "source": [
    "list(range(0,10,1))"
   ]
  },
  {
   "cell_type": "markdown",
   "id": "c23040f2",
   "metadata": {},
   "source": [
    "3rd element in range function is the step/increment:"
   ]
  },
  {
   "cell_type": "code",
   "execution_count": 13,
   "id": "d7e79698",
   "metadata": {},
   "outputs": [
    {
     "data": {
      "text/plain": [
       "[0, 2, 4, 6, 8]"
      ]
     },
     "execution_count": 13,
     "metadata": {},
     "output_type": "execute_result"
    }
   ],
   "source": [
    "list(range(0,10,2))"
   ]
  },
  {
   "cell_type": "code",
   "execution_count": 14,
   "id": "aa62dd36",
   "metadata": {},
   "outputs": [
    {
     "data": {
      "text/plain": [
       "[0, 1, 2, 3, 4, 5, 6, 7, 8, 9, 10]"
      ]
     },
     "execution_count": 14,
     "metadata": {},
     "output_type": "execute_result"
    }
   ],
   "source": [
    "list(range(0,10+1,1))"
   ]
  },
  {
   "cell_type": "code",
   "execution_count": 86,
   "id": "da74e4dc",
   "metadata": {},
   "outputs": [
    {
     "data": {
      "text/plain": [
       "[-10, -9, -8, -7, -6, -5, -4, -3, -2, -1, 0]"
      ]
     },
     "execution_count": 86,
     "metadata": {},
     "output_type": "execute_result"
    }
   ],
   "source": [
    "list(range(-10,1,1))"
   ]
  },
  {
   "cell_type": "code",
   "execution_count": 87,
   "id": "f8b4afae",
   "metadata": {},
   "outputs": [
    {
     "data": {
      "text/plain": [
       "[-10, -11, -12, -13, -14, -15, -16, -17, -18, -19]"
      ]
     },
     "execution_count": 87,
     "metadata": {},
     "output_type": "execute_result"
    }
   ],
   "source": [
    "list(range(-10,-20,-1))"
   ]
  },
  {
   "cell_type": "code",
   "execution_count": 88,
   "id": "c51e68f5",
   "metadata": {},
   "outputs": [
    {
     "data": {
      "text/plain": [
       "[0, 1, 2, 3, 4, 5, 6, 7, 8, 9]"
      ]
     },
     "execution_count": 88,
     "metadata": {},
     "output_type": "execute_result"
    }
   ],
   "source": [
    "list(range(10))"
   ]
  },
  {
   "cell_type": "markdown",
   "id": "fb7df4b9",
   "metadata": {},
   "source": [
    "# For loops in python\n",
    "\n",
    "How does for loop work? a simple example: Printing each value in the list:\n",
    "![](https://dq-blog-files.s3.amazonaws.com/list-tutorial/py1m2_loops.gif)\n",
    "\n",
    "\n",
    "For loop with range():\n",
    "\n",
    "![](https://pynative.com/wp-content/uploads/2021/06/for-loop-range.png)"
   ]
  },
  {
   "cell_type": "code",
   "execution_count": 93,
   "id": "52e2167b",
   "metadata": {},
   "outputs": [
    {
     "data": {
      "text/plain": [
       "[0, 1, 2, 3, 4, 5, 6, 7, 8, 9]"
      ]
     },
     "execution_count": 93,
     "metadata": {},
     "output_type": "execute_result"
    }
   ],
   "source": [
    "a = []\n",
    "for i in range(10):\n",
    "    a.append(i)   \n",
    "a"
   ]
  },
  {
   "cell_type": "code",
   "execution_count": 94,
   "id": "2cade14c",
   "metadata": {},
   "outputs": [
    {
     "name": "stdout",
     "output_type": "stream",
     "text": [
      "-10\n",
      "-11\n",
      "-12\n",
      "-13\n",
      "-14\n",
      "-15\n",
      "-16\n",
      "-17\n",
      "-18\n",
      "-19\n"
     ]
    }
   ],
   "source": [
    "for i in range(-10,-20,-1):\n",
    "    print(i)"
   ]
  },
  {
   "cell_type": "code",
   "execution_count": 99,
   "id": "ff0a8376",
   "metadata": {},
   "outputs": [
    {
     "data": {
      "text/plain": [
       "55"
      ]
     },
     "execution_count": 99,
     "metadata": {},
     "output_type": "execute_result"
    }
   ],
   "source": [
    "a = 0\n",
    "for i in range(1,10+1):\n",
    "    a = a + i\n",
    "a"
   ]
  },
  {
   "cell_type": "code",
   "execution_count": 101,
   "id": "b38d7ea0",
   "metadata": {},
   "outputs": [
    {
     "data": {
      "text/plain": [
       "True"
      ]
     },
     "execution_count": 101,
     "metadata": {},
     "output_type": "execute_result"
    }
   ],
   "source": [
    "a == 1"
   ]
  },
  {
   "cell_type": "code",
   "execution_count": 109,
   "id": "5052689b",
   "metadata": {},
   "outputs": [
    {
     "name": "stdout",
     "output_type": "stream",
     "text": [
      "10\n",
      "10\n"
     ]
    }
   ],
   "source": [
    "a = 10\n",
    "if a == 10:\n",
    "    print(a)\n",
    "if a == 10:\n",
    "    print(a)\n",
    "else:\n",
    "    print(\"It is not equal to 1\")"
   ]
  },
  {
   "cell_type": "code",
   "execution_count": null,
   "id": "bbb41282",
   "metadata": {},
   "outputs": [],
   "source": [
    "if a == 10:\n",
    "    print(a)"
   ]
  },
  {
   "cell_type": "code",
   "execution_count": 107,
   "id": "30b7a39f",
   "metadata": {},
   "outputs": [
    {
     "name": "stdout",
     "output_type": "stream",
     "text": [
      "greater that 4\n"
     ]
    }
   ],
   "source": [
    "a = 5\n",
    "if a == 1:\n",
    "    print(a)\n",
    "elif a > 5:\n",
    "    print(\"greater than 5\")\n",
    "elif a > 4:\n",
    "    print(\"greater that 4\")\n",
    "else:\n",
    "    print(\"None\")"
   ]
  },
  {
   "cell_type": "code",
   "execution_count": 110,
   "id": "9f95cd70",
   "metadata": {},
   "outputs": [],
   "source": [
    "text = 'hello world'\n",
    "if text is str:\n",
    "    print(\"this is new text\")"
   ]
  },
  {
   "cell_type": "code",
   "execution_count": null,
   "id": "c03a5368",
   "metadata": {},
   "outputs": [],
   "source": []
  }
 ],
 "metadata": {
  "kernelspec": {
   "display_name": "Python 3",
   "language": "python",
   "name": "python3"
  },
  "language_info": {
   "codemirror_mode": {
    "name": "ipython",
    "version": 3
   },
   "file_extension": ".py",
   "mimetype": "text/x-python",
   "name": "python",
   "nbconvert_exporter": "python",
   "pygments_lexer": "ipython3",
   "version": "3.8.8"
  },
  "toc": {
   "base_numbering": 1,
   "nav_menu": {},
   "number_sections": true,
   "sideBar": true,
   "skip_h1_title": false,
   "title_cell": "Table of Contents",
   "title_sidebar": "Contents",
   "toc_cell": false,
   "toc_position": {},
   "toc_section_display": true,
   "toc_window_display": true
  }
 },
 "nbformat": 4,
 "nbformat_minor": 5
}
